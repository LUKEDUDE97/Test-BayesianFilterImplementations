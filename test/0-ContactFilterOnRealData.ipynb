{
 "cells": [
  {
   "cell_type": "code",
   "execution_count": 1,
   "metadata": {},
   "outputs": [],
   "source": [
    "import numpy as np\n",
    "import math\n",
    "import matplotlib.pyplot as plt"
   ]
  },
  {
   "cell_type": "markdown",
   "metadata": {},
   "source": [
    "## State variables"
   ]
  },
  {
   "cell_type": "markdown",
   "metadata": {},
   "source": [
    "$$ \\mathit{\\mathbf{x}}  = [x, y, z] $$"
   ]
  },
  {
   "cell_type": "markdown",
   "metadata": {},
   "source": [
    "where z = 0 in 2D scene"
   ]
  },
  {
   "cell_type": "markdown",
   "metadata": {},
   "source": [
    "## Process Model & Q "
   ]
  },
  {
   "cell_type": "code",
   "execution_count": 2,
   "metadata": {},
   "outputs": [],
   "source": [
    "def skew(vector):\n",
    "    \"\"\"\n",
    "    this function returns a numpy array with the skew symmetric cross product matrix for vector.\n",
    "    the skew symmetric cross product matrix is defined such that\n",
    "    np.cross(a, b) = np.dot(skew(a), b)\n",
    "\n",
    "    :param vector: An array like vector to create the skew symmetric cross product matrix for\n",
    "    :return: A numpy array of the skew symmetric cross product vector\n",
    "    \"\"\"\n",
    "\n",
    "    return np.array(\n",
    "        [\n",
    "            [0, -vector[2], vector[1]],\n",
    "            [vector[2], 0, -vector[0]],\n",
    "            [-vector[1], vector[0], 0],\n",
    "        ]\n",
    "    )"
   ]
  },
  {
   "cell_type": "code",
   "execution_count": 3,
   "metadata": {},
   "outputs": [],
   "source": [
    "def f_contact(x, dt, u):\n",
    "    A = np.identity(3)\n",
    "    B = -dt * np.append(np.identity(3), skew(x), axis=1)    # -skew(p) ???\n",
    "    prior_ = A @ x - B @ u # DYX: it should be plus, but here there's a coordinate translation needed to be done !!!\n",
    "                            # -u is the velocity of base under fixed-world frame, if so, we should fix this and unify the frame\n",
    "    return prior_"
   ]
  },
  {
   "cell_type": "code",
   "execution_count": 4,
   "metadata": {},
   "outputs": [],
   "source": [
    "# Process Noise\n",
    "Q = np.array([[.001, 0, 0], [0, .001, 0], [0, 0, .00001]])"
   ]
  },
  {
   "cell_type": "markdown",
   "metadata": {},
   "source": [
    "## Measurement Model & R"
   ]
  },
  {
   "cell_type": "code",
   "execution_count": 5,
   "metadata": {},
   "outputs": [],
   "source": [
    "def polyfit2d(x, y, z, kx=5, ky=5, order=None):\n",
    "    \"\"\"\n",
    "    Two dimensional polynomial fitting by least squares.\n",
    "    Fits the functional form f(x,y) = z.\n",
    "\n",
    "    Notes\n",
    "    -----\n",
    "    Resultant fit can be plotted with:\n",
    "    np.polynomial.polynomial.polygrid2d(x, y, soln.reshape((kx+1, ky+1)))\n",
    "\n",
    "    Parameters\n",
    "    ----------\n",
    "    x, y: array-like, 1d\n",
    "        x and y coordinates.\n",
    "    z: np.ndarray, 2d\n",
    "        Surface to fit.\n",
    "    kx, ky: int, default is 3\n",
    "        Polynomial order in x and y, respectively.\n",
    "    order: int or None, default is None\n",
    "        If None, all coefficients up to maxiumum kx, ky, ie. up to and including x^kx*y^ky, are considered.\n",
    "        If int, coefficients up to a maximum of kx+ky <= order are considered.\n",
    "\n",
    "    Returns\n",
    "    -------\n",
    "    Return paramters from np.linalg.lstsq.\n",
    "\n",
    "    soln: np.ndarray\n",
    "        Array of polynomial coefficients.\n",
    "    residuals: np.ndarray\n",
    "    rank: int\n",
    "    s: np.ndarray\n",
    "\n",
    "    \"\"\"\n",
    "\n",
    "    # grid coords\n",
    "    x, y = np.meshgrid(x, y)\n",
    "    # coefficient array, up to x^kx, y^ky\n",
    "    coeffs = np.ones((kx + 1, ky + 1))\n",
    "\n",
    "    # solve array\n",
    "    a = np.zeros((coeffs.size, x.size))\n",
    "\n",
    "    # for each coefficient produce array x^i, y^j\n",
    "    for index, (i, j) in enumerate(np.ndindex(coeffs.shape)):\n",
    "        # do not include powers greater than order\n",
    "        if order is not None and i + j > order:\n",
    "            arr = np.zeros_like(x)\n",
    "        else:\n",
    "            arr = coeffs[i, j] * x**i * y**j\n",
    "        a[index] = arr.ravel()\n",
    "\n",
    "    # do leastsq fitting and return leastsq result\n",
    "    print(a.T.shape, np.ravel(z).shape)\n",
    "    return np.linalg.lstsq(a.T, np.ravel(z), rcond=None)"
   ]
  },
  {
   "cell_type": "code",
   "execution_count": 6,
   "metadata": {},
   "outputs": [
    {
     "name": "stdout",
     "output_type": "stream",
     "text": [
      "(170, 36) (170,)\n"
     ]
    }
   ],
   "source": [
    "import pandas as pd\n",
    "\n",
    "dataframe = pd.read_excel(\"data/FullRangeData.xlsx\", sheet_name=\"Formated_MannulyFixed\")\n",
    "z = np.array(dataframe)[:, 2]\n",
    "\n",
    "x = np.linspace(10, 90, 17)\n",
    "y = np.linspace(115, 160, 10)\n",
    "\n",
    "coeff, r, rank, s = polyfit2d(x, y, z)"
   ]
  },
  {
   "cell_type": "code",
   "execution_count": 7,
   "metadata": {},
   "outputs": [
    {
     "name": "stdout",
     "output_type": "stream",
     "text": [
      "RMS residual = 0.1940122848922954\n",
      "R-squared value = 0.9940472000309433\n"
     ]
    }
   ],
   "source": [
    "from sklearn.metrics import r2_score\n",
    "\n",
    "fitted_surf = np.polynomial.polynomial.polygrid2d(x, y, coeff.reshape((6, 6)))\n",
    "\n",
    "rms = np.sqrt(np.mean((z.reshape(10, 17).T - fitted_surf) ** 2))\n",
    "print(\"RMS residual =\", rms)\n",
    "score = r2_score(z.reshape(10, 17).T, fitted_surf)\n",
    "print(\"R-squared value =\", score)"
   ]
  },
  {
   "cell_type": "code",
   "execution_count": 8,
   "metadata": {},
   "outputs": [],
   "source": [
    "def h_contact(x):\n",
    "    return np.polynomial.polynomial.polygrid2d(x[0], x[1], coeff.reshape((6, 6)))"
   ]
  },
  {
   "cell_type": "code",
   "execution_count": 9,
   "metadata": {},
   "outputs": [],
   "source": [
    "# Measurement Noise\n",
    "R = np.array([[rms**2]])"
   ]
  },
  {
   "cell_type": "markdown",
   "metadata": {},
   "source": [
    "## Data "
   ]
  },
  {
   "cell_type": "code",
   "execution_count": 10,
   "metadata": {},
   "outputs": [],
   "source": [
    "# Data format : \n",
    "#           timestamp，\n",
    "#           magnetic_x, magnetic_y, magnetic_z, \n",
    "#           lv_x, lv_y, lv_z, av_x, av_y. av_z\n",
    "\n",
    "trajectory_df = pd.read_csv(\"data/6/trajectory.csv\")"
   ]
  },
  {
   "cell_type": "code",
   "execution_count": 11,
   "metadata": {},
   "outputs": [],
   "source": [
    "# delta time : second s\n",
    "\n",
    "from datetime import datetime\n",
    "\n",
    "dt_frame = np.array(trajectory_df)[:, 0]\n",
    "\n",
    "dt = [0]\n",
    "for i in range(1, dt_frame.shape[0]):\n",
    "    tr = datetime.fromtimestamp(dt_frame[i])\n",
    "    tf = datetime.fromtimestamp(dt_frame[i-1])\n",
    "    dt.append((tr-tf).total_seconds())\n",
    "dt = np.array(dt)"
   ]
  },
  {
   "cell_type": "code",
   "execution_count": 12,
   "metadata": {},
   "outputs": [],
   "source": [
    "# linear- and angular-veolocity : mm/s & rad/s \n",
    "\n",
    "# be careful of coordinate frame translation \n",
    "linear_vel = np.array([np.array(trajectory_df)[:, 5], -np.array(trajectory_df)[:, 6], np.array(trajectory_df)[:, 4]]) * 1e3\n",
    "angular_vel = np.array([np.array(trajectory_df)[:, 7], np.array(trajectory_df)[:, 8], np.array(trajectory_df)[:, 9]])\n",
    "\n",
    "us = np.append(linear_vel, angular_vel, axis=0).T"
   ]
  },
  {
   "cell_type": "code",
   "execution_count": 13,
   "metadata": {},
   "outputs": [],
   "source": [
    "# Measurements Update : magnetic_y\n",
    "zs = [np.array([np.array(trajectory_df)[i, 2]]) for i in range(trajectory_df.shape[0])]"
   ]
  },
  {
   "cell_type": "markdown",
   "metadata": {},
   "source": [
    "## UKF with Fading Memory"
   ]
  },
  {
   "cell_type": "code",
   "execution_count": 14,
   "metadata": {},
   "outputs": [],
   "source": [
    "x_initial = np.array([50, 115, 0])"
   ]
  },
  {
   "cell_type": "code",
   "execution_count": 15,
   "metadata": {},
   "outputs": [],
   "source": [
    "from filterpy.kalman import UnscentedKalmanFilter as UKF\n",
    "from filterpy.kalman import MerweScaledSigmaPoints\n",
    "\n",
    "sigmas = MerweScaledSigmaPoints(3, alpha=.1, beta=2., kappa=0.)\n",
    "ukf = UKF(dim_x=3, dim_z=1, fx=f_contact,\n",
    "          hx=h_contact, dt=None, points=sigmas)\n",
    "\n",
    "ukf.x = x_initial\n",
    "ukf.R = R\n",
    "ukf.Q = Q\n",
    "# Introduce adaptive fading memory filter to compensate the error from dynamic contact \n",
    "# ukf.alpha = 1.003"
   ]
  },
  {
   "cell_type": "code",
   "execution_count": 16,
   "metadata": {},
   "outputs": [
    {
     "data": {
      "text/plain": [
       "UnscentedKalmanFilter object\n",
       "x = [ 50 115   0]\n",
       "P = [[1. 0. 0.]\n",
       "     [0. 1. 0.]\n",
       "     [0. 0. 1.]]\n",
       "x_prior = [0. 0. 0.]\n",
       "P_prior = [[1. 0. 0.]\n",
       "           [0. 1. 0.]\n",
       "           [0. 0. 1.]]\n",
       "Q = [[1.e-03 0.e+00 0.e+00]\n",
       "     [0.e+00 1.e-03 0.e+00]\n",
       "     [0.e+00 0.e+00 1.e-05]]\n",
       "R = [[0.03764077]]\n",
       "S = [[0.]]\n",
       "K = [[0. 0. 0.]].T\n",
       "y = [0.]\n",
       "log-likelihood = -708.3964185322641\n",
       "likelihood = 2.2250738585072014e-308\n",
       "mahalanobis = 0.0\n",
       "sigmas_f = [[0. 0. 0.]\n",
       "            [0. 0. 0.]\n",
       "            [0. 0. 0.]\n",
       "            [0. 0. 0.]\n",
       "            [0. 0. 0.]\n",
       "            [0. 0. 0.]\n",
       "            [0. 0. 0.]]\n",
       "h = [[0. 0. 0. 0. 0. 0. 0.]].T\n",
       "Wm = [-99.          16.66666667  16.66666667  16.66666667  16.66666667\n",
       "       16.66666667  16.66666667]\n",
       "Wc = [-96.01        16.66666667  16.66666667  16.66666667  16.66666667\n",
       "       16.66666667  16.66666667]\n",
       "residual_x = <ufunc 'subtract'>\n",
       "residual_z = <ufunc 'subtract'>\n",
       "msqrt = <function cholesky at 0x0000013C225634C0>\n",
       "hx = <function h_contact at 0x0000013C237B6280>\n",
       "fx = <function f_contact at 0x0000013C1EF29B80>\n",
       "x_mean = None\n",
       "z_mean = None\n",
       "_alpha_sq = 1.0"
      ]
     },
     "execution_count": 16,
     "metadata": {},
     "output_type": "execute_result"
    }
   ],
   "source": [
    "ukf"
   ]
  },
  {
   "cell_type": "code",
   "execution_count": 17,
   "metadata": {},
   "outputs": [],
   "source": [
    "uxs = []\n",
    "for _ in range(len(zs)):\n",
    "    ukf.predict(u=us[_], dt=dt[_])\n",
    "    ukf.update(zs[_])\n",
    "    uxs.append(ukf.x.copy())\n",
    "uxs = np.array(uxs)"
   ]
  },
  {
   "cell_type": "code",
   "execution_count": 18,
   "metadata": {},
   "outputs": [
    {
     "data": {
      "text/plain": [
       "(1305, 3)"
      ]
     },
     "execution_count": 18,
     "metadata": {},
     "output_type": "execute_result"
    }
   ],
   "source": [
    "uxs.shape"
   ]
  },
  {
   "cell_type": "code",
   "execution_count": 25,
   "metadata": {},
   "outputs": [
    {
     "name": "stdout",
     "output_type": "stream",
     "text": [
      "[[ 5.34821101e+01  1.14948589e+02  2.18475496e-16]\n",
      " [ 5.62652484e+01  1.15432302e+02 -1.22912666e-11]\n",
      " [ 5.88797859e+01  1.16333130e+02 -2.53934606e-11]\n",
      " ...\n",
      " [ 6.12494688e+01  1.30090527e+02  6.69500653e-10]\n",
      " [ 6.12173056e+01  1.30088462e+02  6.69500281e-10]\n",
      " [ 6.12082467e+01  1.30087909e+02  6.69499949e-10]]\n"
     ]
    },
    {
     "data": {
      "text/plain": [
       "[<matplotlib.lines.Line2D at 0x13c242c4a00>]"
      ]
     },
     "execution_count": 25,
     "metadata": {},
     "output_type": "execute_result"
    },
    {
     "data": {
      "image/png": "[encoded data removed]",
      "text/plain": [
       "<Figure size 1000x600 with 1 Axes>"
      ]
     },
     "metadata": {},
     "output_type": "display_data"
    }
   ],
   "source": [
    "print(uxs)\n",
    "\n",
    "plt.figure(figsize=(10, 6))\n",
    "plt.grid()\n",
    "plt.ylim([115, 135])\n",
    "plt.xlim([50, 100])\n",
    "plt.plot(uxs[300:, 0], uxs[300:, 1], label='Estimated Trajectory')"
   ]
  },
  {
   "cell_type": "markdown",
   "metadata": {},
   "source": [
    "#### Dynamic contact results:"
   ]
  },
  {
   "cell_type": "code",
   "execution_count": 20,
   "metadata": {},
   "outputs": [],
   "source": [
    "# set the first base frame position as the origin of fixed world frame\n",
    "\n",
    "uxs_ = []\n",
    "displacement = np.array([0. ,0. ,0.])\n",
    "for _ in range(uxs.shape[0]):\n",
    "    displacement += np.dot(us[_][:3], dt[_])\n",
    "    temp = uxs[_] + displacement\n",
    "    uxs_.append(temp)\n",
    "uxs_ = np.array(uxs_)"
   ]
  },
  {
   "cell_type": "code",
   "execution_count": 21,
   "metadata": {},
   "outputs": [
    {
     "name": "stdout",
     "output_type": "stream",
     "text": [
      "[[ 5.34821101e+01  1.14948589e+02  2.18475496e-16]\n",
      " [ 5.65663932e+01  1.15432302e+02 -2.45831009e-11]\n",
      " [ 5.95019315e+01  1.16333130e+02 -5.07875918e-11]\n",
      " ...\n",
      " [ 4.64278418e+01  1.30090527e+02  1.33900194e-09]\n",
      " [ 4.63956786e+01  1.30088462e+02  1.33900157e-09]\n",
      " [ 4.63866197e+01  1.30087909e+02  1.33900124e-09]]\n"
     ]
    },
    {
     "data": {
      "text/plain": [
       "[<matplotlib.lines.Line2D at 0x13c2394aac0>]"
      ]
     },
     "execution_count": 21,
     "metadata": {},
     "output_type": "execute_result"
    },
    {
     "data": {
      "image/png": "[encoded data removed]",
      "text/plain": [
       "<Figure size 1000x600 with 1 Axes>"
      ]
     },
     "metadata": {},
     "output_type": "display_data"
    }
   ],
   "source": [
    "print(uxs_)\n",
    "\n",
    "plt.figure(figsize=(10, 6))\n",
    "plt.grid()\n",
    "plt.ylim([115, 160])\n",
    "plt.xlim([0, 400])\n",
    "plt.plot(uxs_[600:1220, 0], uxs_[600:1220, 1], label='Estimated Trajectory')"
   ]
  },
  {
   "cell_type": "markdown",
   "metadata": {},
   "source": [
    "## Implement dynamic contact recontruct procedure in it."
   ]
  }
 ],
 "metadata": {
  "kernelspec": {
   "display_name": "testpy",
   "language": "python",
   "name": "python3"
  },
  "language_info": {
   "codemirror_mode": {
    "name": "ipython",
    "version": 3
   },
   "file_extension": ".py",
   "mimetype": "text/x-python",
   "name": "python",
   "nbconvert_exporter": "python",
   "pygments_lexer": "ipython3",
   "version": "3.8.17"
  }
 },
 "nbformat": 4,
 "nbformat_minor": 2
}
