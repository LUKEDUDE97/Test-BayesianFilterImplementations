{
 "cells": [
  {
   "cell_type": "code",
   "execution_count": 1,
   "metadata": {},
   "outputs": [],
   "source": [
    "import numpy as np\n",
    "import math\n",
    "import matplotlib.pyplot as plt"
   ]
  },
  {
   "cell_type": "markdown",
   "metadata": {},
   "source": [
    "## State variables"
   ]
  },
  {
   "cell_type": "markdown",
   "metadata": {},
   "source": [
    "$$ \\mathit{\\mathbf{x}}  = [x, y, z] $$"
   ]
  },
  {
   "cell_type": "markdown",
   "metadata": {},
   "source": [
    "where z = 0 in 2D scene"
   ]
  },
  {
   "cell_type": "markdown",
   "metadata": {},
   "source": [
    "## Process Model "
   ]
  },
  {
   "cell_type": "code",
   "execution_count": 2,
   "metadata": {},
   "outputs": [],
   "source": [
    "# Fictitious data: System ctrl input \n",
    "\n",
    "linear_vel = np.array([.5, 0, 0])\n",
    "angular_vel = np.array([0, 0, 0])\n",
    "u = np.append(linear_vel, angular_vel, axis=0)"
   ]
  },
  {
   "cell_type": "code",
   "execution_count": 3,
   "metadata": {},
   "outputs": [],
   "source": [
    "def skew(vector):\n",
    "    \"\"\"\n",
    "    this function returns a numpy array with the skew symmetric cross product matrix for vector.\n",
    "    the skew symmetric cross product matrix is defined such that\n",
    "    np.cross(a, b) = np.dot(skew(a), b)\n",
    "\n",
    "    :param vector: An array like vector to create the skew symmetric cross product matrix for\n",
    "    :return: A numpy array of the skew symmetric cross product vector\n",
    "    \"\"\"\n",
    "\n",
    "    return np.array(\n",
    "        [\n",
    "            [0, -vector[2], vector[1]],\n",
    "            [vector[2], 0, -vector[0]],\n",
    "            [-vector[1], vector[0], 0],\n",
    "        ]\n",
    "    )"
   ]
  },
  {
   "cell_type": "code",
   "execution_count": 4,
   "metadata": {},
   "outputs": [],
   "source": [
    "def f_contact(x, dt, u):\n",
    "    A = np.identity(3)\n",
    "    B = -dt * np.append(np.identity(3), -skew(x), axis=1)\n",
    "    prior_ = A @ x - B @ u # DYX: it should be plus, but here there's a coordinate translation needed to be done !!!\n",
    "    return prior_"
   ]
  },
  {
   "cell_type": "code",
   "execution_count": 5,
   "metadata": {},
   "outputs": [],
   "source": [
    "# Process Noise\n",
    "Q = np.array([[.001, 0, 0], [0, .001, 0], [0, 0, .00001]])"
   ]
  },
  {
   "cell_type": "markdown",
   "metadata": {},
   "source": [
    "## Measurement Model"
   ]
  },
  {
   "cell_type": "code",
   "execution_count": 6,
   "metadata": {},
   "outputs": [],
   "source": [
    "def polyfit2d(x, y, z, kx=5, ky=5, order=None):\n",
    "    \"\"\"\n",
    "    Two dimensional polynomial fitting by least squares.\n",
    "    Fits the functional form f(x,y) = z.\n",
    "\n",
    "    Notes\n",
    "    -----\n",
    "    Resultant fit can be plotted with:\n",
    "    np.polynomial.polynomial.polygrid2d(x, y, soln.reshape((kx+1, ky+1)))\n",
    "\n",
    "    Parameters\n",
    "    ----------\n",
    "    x, y: array-like, 1d\n",
    "        x and y coordinates.\n",
    "    z: np.ndarray, 2d\n",
    "        Surface to fit.\n",
    "    kx, ky: int, default is 3\n",
    "        Polynomial order in x and y, respectively.\n",
    "    order: int or None, default is None\n",
    "        If None, all coefficients up to maxiumum kx, ky, ie. up to and including x^kx*y^ky, are considered.\n",
    "        If int, coefficients up to a maximum of kx+ky <= order are considered.\n",
    "\n",
    "    Returns\n",
    "    -------\n",
    "    Return paramters from np.linalg.lstsq.\n",
    "\n",
    "    soln: np.ndarray\n",
    "        Array of polynomial coefficients.\n",
    "    residuals: np.ndarray\n",
    "    rank: int\n",
    "    s: np.ndarray\n",
    "\n",
    "    \"\"\"\n",
    "\n",
    "    # grid coords\n",
    "    x, y = np.meshgrid(x, y)\n",
    "    # coefficient array, up to x^kx, y^ky\n",
    "    coeffs = np.ones((kx + 1, ky + 1))\n",
    "\n",
    "    # solve array\n",
    "    a = np.zeros((coeffs.size, x.size))\n",
    "\n",
    "    # for each coefficient produce array x^i, y^j\n",
    "    for index, (i, j) in enumerate(np.ndindex(coeffs.shape)):\n",
    "        # do not include powers greater than order\n",
    "        if order is not None and i + j > order:\n",
    "            arr = np.zeros_like(x)\n",
    "        else:\n",
    "            arr = coeffs[i, j] * x**i * y**j\n",
    "        a[index] = arr.ravel()\n",
    "\n",
    "    # do leastsq fitting and return leastsq result\n",
    "    print(a.T.shape, np.ravel(z).shape)\n",
    "    return np.linalg.lstsq(a.T, np.ravel(z), rcond=None)"
   ]
  },
  {
   "cell_type": "code",
   "execution_count": 7,
   "metadata": {},
   "outputs": [
    {
     "name": "stdout",
     "output_type": "stream",
     "text": [
      "(170, 36) (170,)\n"
     ]
    }
   ],
   "source": [
    "import pandas as pd\n",
    "\n",
    "dataframe = pd.read_excel(\"FullRangeData.xlsx\", sheet_name=\"Formated_MannulyFixed\")\n",
    "z = np.array(dataframe)[:, 2]\n",
    "\n",
    "x = np.linspace(10, 90, 17)\n",
    "y = np.linspace(115, 160, 10)\n",
    "\n",
    "coeff, r, rank, s = polyfit2d(x, y, z)"
   ]
  },
  {
   "cell_type": "code",
   "execution_count": 8,
   "metadata": {},
   "outputs": [
    {
     "name": "stdout",
     "output_type": "stream",
     "text": [
      "RMS residual = 0.23193393244515742\n",
      "R-squared value = 0.9944280222772985\n"
     ]
    }
   ],
   "source": [
    "from sklearn.metrics import r2_score\n",
    "\n",
    "fitted_surf = np.polynomial.polynomial.polygrid2d(x, y, coeff.reshape((6, 6)))\n",
    "\n",
    "rms = np.sqrt(np.mean((z.reshape(10, 17).T - fitted_surf) ** 2))\n",
    "print(\"RMS residual =\", rms)\n",
    "score = r2_score(z.reshape(10, 17).T, fitted_surf)\n",
    "print(\"R-squared value =\", score)"
   ]
  },
  {
   "cell_type": "code",
   "execution_count": 9,
   "metadata": {},
   "outputs": [],
   "source": [
    "def h_contact(x):\n",
    "    return np.polynomial.polynomial.polygrid2d(x[0], x[1], coeff.reshape((6, 6)))"
   ]
  },
  {
   "cell_type": "markdown",
   "metadata": {},
   "source": [
    "Fictitious data"
   ]
  },
  {
   "cell_type": "code",
   "execution_count": 10,
   "metadata": {},
   "outputs": [],
   "source": [
    "# Start point\n",
    "X_start = 10\n",
    "Y_start = 140\n",
    "\n",
    "# End point\n",
    "X_end = 90\n",
    "Y_end = 140\n",
    "\n",
    "trajecotry_ = np.polynomial.polynomial.polygrid2d(\n",
    "    np.linspace(X_start, X_end, 160),\n",
    "    140,\n",
    "    coeff.reshape((6, 6)),\n",
    ")\n",
    "\n",
    "# format measurements\n",
    "zs = [np.array([trajecotry_[i]]) for i in range(trajecotry_.shape[0])]"
   ]
  },
  {
   "cell_type": "code",
   "execution_count": 11,
   "metadata": {},
   "outputs": [],
   "source": [
    "# Measurement Noise\n",
    "R = np.array([[rms**2]])"
   ]
  },
  {
   "cell_type": "markdown",
   "metadata": {},
   "source": [
    "## Implementation of filter"
   ]
  },
  {
   "cell_type": "code",
   "execution_count": 12,
   "metadata": {},
   "outputs": [],
   "source": [
    "dt = 1.0"
   ]
  },
  {
   "cell_type": "code",
   "execution_count": 13,
   "metadata": {},
   "outputs": [],
   "source": [
    "from filterpy.kalman import UnscentedKalmanFilter as UKF\n",
    "from filterpy.kalman import MerweScaledSigmaPoints\n",
    "\n",
    "sigmas = MerweScaledSigmaPoints(3, alpha=.1, beta=2., kappa=0.)\n",
    "ukf = UKF(dim_x=3, dim_z=1, fx=f_contact,\n",
    "          hx=h_contact, dt=dt, points=sigmas)\n",
    "\n",
    "ukf.x = np.array([10, 140, 0])\n",
    "ukf.R = R\n",
    "ukf.Q = Q"
   ]
  },
  {
   "cell_type": "code",
   "execution_count": 14,
   "metadata": {},
   "outputs": [
    {
     "data": {
      "text/plain": [
       "UnscentedKalmanFilter object\n",
       "x = [ 10 140   0]\n",
       "P = [[1. 0. 0.]\n",
       "     [0. 1. 0.]\n",
       "     [0. 0. 1.]]\n",
       "x_prior = [0. 0. 0.]\n",
       "P_prior = [[1. 0. 0.]\n",
       "           [0. 1. 0.]\n",
       "           [0. 0. 1.]]\n",
       "Q = [[1.e-03 0.e+00 0.e+00]\n",
       "     [0.e+00 1.e-03 0.e+00]\n",
       "     [0.e+00 0.e+00 1.e-05]]\n",
       "R = [[0.05379335]]\n",
       "S = [[0.]]\n",
       "K = [[0. 0. 0.]].T\n",
       "y = [0.]\n",
       "log-likelihood = -708.3964185322641\n",
       "likelihood = 2.2250738585072014e-308\n",
       "mahalanobis = 0.0\n",
       "sigmas_f = [[0. 0. 0.]\n",
       "            [0. 0. 0.]\n",
       "            [0. 0. 0.]\n",
       "            [0. 0. 0.]\n",
       "            [0. 0. 0.]\n",
       "            [0. 0. 0.]\n",
       "            [0. 0. 0.]]\n",
       "h = [[0. 0. 0. 0. 0. 0. 0.]].T\n",
       "Wm = [-99.          16.66666667  16.66666667  16.66666667  16.66666667\n",
       "       16.66666667  16.66666667]\n",
       "Wc = [-96.01        16.66666667  16.66666667  16.66666667  16.66666667\n",
       "       16.66666667  16.66666667]\n",
       "residual_x = <ufunc 'subtract'>\n",
       "residual_z = <ufunc 'subtract'>\n",
       "msqrt = <function cholesky at 0x000001E02FE10310>\n",
       "hx = <function h_contact at 0x000001E02A398A60>\n",
       "fx = <function f_contact at 0x000001E02A398CA0>\n",
       "x_mean = None\n",
       "z_mean = None"
      ]
     },
     "execution_count": 14,
     "metadata": {},
     "output_type": "execute_result"
    }
   ],
   "source": [
    "ukf"
   ]
  },
  {
   "cell_type": "code",
   "execution_count": 15,
   "metadata": {},
   "outputs": [
    {
     "name": "stdout",
     "output_type": "stream",
     "text": [
      "[[ 1.04304696e+01  1.40044737e+02  1.75715472e-16]\n",
      " [ 1.08930756e+01  1.40070951e+02  9.36438244e-17]\n",
      " [ 1.13715670e+01  1.40088059e+02 -4.64858155e-16]\n",
      " [ 1.18589277e+01  1.40099938e+02 -8.10800579e-16]\n",
      " [ 1.23516100e+01  1.40108415e+02 -5.31092242e-16]\n",
      " [ 1.28475927e+01  1.40114423e+02 -2.72456376e-16]\n",
      " [ 1.33456136e+01  1.40118475e+02 -6.98821050e-17]\n",
      " [ 1.38448302e+01  1.40120868e+02 -9.03221920e-16]\n",
      " [ 1.43446567e+01  1.40121795e+02 -1.21734343e-15]\n",
      " [ 1.48446824e+01  1.40121409e+02 -1.80943933e-15]\n",
      " [ 1.53446269e+01  1.40119852e+02 -1.45817692e-15]\n",
      " [ 1.58443135e+01  1.40117273e+02 -2.08702173e-15]\n",
      " [ 1.63436498e+01  1.40113837e+02 -1.86575998e-15]\n",
      " [ 1.68426106e+01  1.40109721e+02 -1.44035300e-15]\n",
      " [ 1.73412223e+01  1.40105106e+02 -1.29187402e-15]\n",
      " [ 1.78395464e+01  1.40100175e+02 -1.75445245e-15]\n",
      " [ 1.83376658e+01  1.40095098e+02 -1.75487678e-15]\n",
      " [ 1.88356717e+01  1.40090028e+02 -1.53292743e-15]\n",
      " [ 1.93336536e+01  1.40085098e+02 -1.29224730e-15]\n",
      " [ 1.98316923e+01  1.40080415e+02 -1.66219994e-15]\n",
      " [ 2.03298552e+01  1.40076062e+02 -1.71812160e-15]\n",
      " [ 2.08281940e+01  1.40072100e+02 -1.82918274e-15]\n",
      " [ 2.13267442e+01  1.40068570e+02 -2.27333943e-15]\n",
      " [ 2.18255255e+01  1.40065493e+02 -1.94046180e-15]\n",
      " [ 2.23245438e+01  1.40062880e+02 -2.34757077e-15]\n",
      " [ 2.28237923e+01  1.40060728e+02 -2.81026960e-15]\n",
      " [ 2.33232536e+01  1.40059025e+02 -2.42176275e-15]\n",
      " [ 2.38229014e+01  1.40057754e+02 -2.42185125e-15]\n",
      " [ 2.43227023e+01  1.40056892e+02 -2.34792527e-15]\n",
      " [ 2.48226172e+01  1.40056413e+02 -2.40351206e-15]\n",
      " [ 2.53226027e+01  1.40056288e+02 -2.71816162e-15]\n",
      " [ 2.58226120e+01  1.40056485e+02 -2.99578865e-15]\n",
      " [ 2.63225965e+01  1.40056973e+02 -3.08840541e-15]\n",
      " [ 2.68225067e+01  1.40057716e+02 -2.94047786e-15]\n",
      " [ 2.73222937e+01  1.40058678e+02 -2.57049683e-15]\n",
      " [ 2.78219100e+01  1.40059824e+02 -2.90341276e-15]\n",
      " [ 2.83213109e+01  1.40061116e+02 -3.25520401e-15]\n",
      " [ 2.88204561e+01  1.40062516e+02 -2.77445289e-15]\n",
      " [ 2.93193109e+01  1.40063986e+02 -2.75583105e-15]\n",
      " [ 2.98178475e+01  1.40065488e+02 -2.71882488e-15]\n",
      " [ 3.03160463e+01  1.40066986e+02 -2.86702482e-15]\n",
      " [ 3.08138969e+01  1.40068446e+02 -2.47872919e-15]\n",
      " [ 3.13113985e+01  1.40069834e+02 -1.99773145e-15]\n",
      " [ 3.18085610e+01  1.40071123e+02 -2.21944176e-15]\n",
      " [ 3.23054040e+01  1.40072286e+02 -1.94252723e-15]\n",
      " [ 3.28019570e+01  1.40073304e+02 -2.16409752e-15]\n",
      " [ 3.32982581e+01  1.40074161e+02 -1.83170080e-15]\n",
      " [ 3.37943523e+01  1.40074848e+02 -2.05313644e-15]\n",
      " [ 3.42902902e+01  1.40075360e+02 -1.85015818e-15]\n",
      " [ 3.47861259e+01  1.40075699e+02 -2.38616198e-15]\n",
      " [ 3.52819149e+01  1.40075871e+02 -2.25754090e-15]\n",
      " [ 3.57777118e+01  1.40075885e+02 -2.33119984e-15]\n",
      " [ 3.62735692e+01  1.40075756e+02 -2.38692280e-15]\n",
      " [ 3.67695355e+01  1.40075500e+02 -2.70148338e-15]\n",
      " [ 3.72656539e+01  1.40075137e+02 -2.20248749e-15]\n",
      " [ 3.77619615e+01  1.40074687e+02 -1.99884105e-15]\n",
      " [ 3.82584890e+01  1.40074168e+02 -1.99884566e-15]\n",
      " [ 3.87552604e+01  1.40073603e+02 -2.16523000e-15]\n",
      " [ 3.92522929e+01  1.40073008e+02 -2.05455548e-15]\n",
      " [ 3.97495978e+01  1.40072403e+02 -1.88819195e-15]\n",
      " [ 4.02471807e+01  1.40071804e+02 -1.83277410e-15]\n",
      " [ 4.07450421e+01  1.40071225e+02 -2.05474001e-15]\n",
      " [ 4.12431783e+01  1.40070679e+02 -1.83301152e-15]\n",
      " [ 4.17415821e+01  1.40070175e+02 -2.03650614e-15]\n",
      " [ 4.22402433e+01  1.40069724e+02 -1.53716381e-15]\n",
      " [ 4.27391497e+01  1.40069332e+02 -1.38915138e-15]\n",
      " [ 4.32382874e+01  1.40069005e+02 -1.00066662e-15]\n",
      " [ 4.37376413e+01  1.40068746e+02 -1.37079487e-15]\n",
      " [ 4.42371958e+01  1.40068558e+02 -9.63845778e-16]\n",
      " [ 4.47369350e+01  1.40068442e+02 -1.05645766e-15]\n",
      " [ 4.52368430e+01  1.40068399e+02 -1.16757022e-15]\n",
      " [ 4.57369042e+01  1.40068429e+02 -1.03813949e-15]\n",
      " [ 4.62371033e+01  1.40068530e+02 -5.38623003e-16]\n",
      " [ 4.67374258e+01  1.40068701e+02 -7.61280132e-17]\n",
      " [ 4.72378576e+01  1.40068938e+02 -4.27813818e-16]\n",
      " [ 4.77383856e+01  1.40069241e+02  1.27250862e-16]\n",
      " [ 4.82389973e+01  1.40069605e+02  8.67300080e-16]\n",
      " [ 4.87396811e+01  1.40070027e+02  3.86016065e-16]\n",
      " [ 4.92404260e+01  1.40070504e+02  3.67441768e-16]\n",
      " [ 4.97412219e+01  1.40071032e+02  1.26829959e-16]\n",
      " [ 5.02420595e+01  1.40071609e+02  9.40955269e-16]\n",
      " [ 5.07429302e+01  1.40072229e+02  9.22280056e-16]\n",
      " [ 5.12438259e+01  1.40072889e+02  1.01474585e-15]\n",
      " [ 5.17447394e+01  1.40073586e+02  1.38472690e-15]\n",
      " [ 5.22456639e+01  1.40074316e+02  1.60667822e-15]\n",
      " [ 5.27465933e+01  1.40075074e+02  1.38449093e-15]\n",
      " [ 5.32475222e+01  1.40075858e+02  1.36590503e-15]\n",
      " [ 5.37484453e+01  1.40076663e+02  1.01426628e-15]\n",
      " [ 5.42493581e+01  1.40077485e+02  1.32873588e-15]\n",
      " [ 5.47502566e+01  1.40078322e+02  1.53219691e-15]\n",
      " [ 5.52511368e+01  1.40079170e+02  1.55060734e-15]\n",
      " [ 5.57519956e+01  1.40080025e+02  1.71704751e-15]\n",
      " [ 5.62528299e+01  1.40080883e+02  1.32831970e-15]\n",
      " [ 5.67536371e+01  1.40081742e+02  1.64284607e-15]\n",
      " [ 5.72544150e+01  1.40082598e+02  1.67976729e-15]\n",
      " [ 5.77551615e+01  1.40083447e+02  2.10526651e-15]\n",
      " [ 5.82558749e+01  1.40084287e+02  2.38272886e-15]\n",
      " [ 5.87565539e+01  1.40085114e+02  2.12356269e-15]\n",
      " [ 5.92571972e+01  1.40085926e+02  2.82663112e-15]\n",
      " [ 5.97578040e+01  1.40086719e+02  2.75248945e-15]\n",
      " [ 6.02583735e+01  1.40087490e+02  2.49335759e-15]\n",
      " [ 6.07589053e+01  1.40088237e+02  2.86335145e-15]\n",
      " [ 6.12593992e+01  1.40088957e+02  2.54868257e-15]\n",
      " [ 6.17598551e+01  1.40089647e+02  2.88167110e-15]\n",
      " [ 6.22602732e+01  1.40090304e+02  2.91857364e-15]\n",
      " [ 6.27606539e+01  1.40090927e+02  2.86297469e-15]\n",
      " [ 6.32609976e+01  1.40091512e+02  2.38177958e-15]\n",
      " [ 6.37613052e+01  1.40092057e+02  2.08562935e-15]\n",
      " [ 6.42615775e+01  1.40092561e+02  1.90049671e-15]\n",
      " [ 6.47618155e+01  1.40093021e+02  1.27128125e-15]\n",
      " [ 6.52620205e+01  1.40093435e+02  1.60426014e-15]\n",
      " [ 6.57621939e+01  1.40093801e+02  1.53014796e-15]\n",
      " [ 6.62623370e+01  1.40094119e+02  9.93444361e-16]\n",
      " [ 6.67624516e+01  1.40094386e+02  8.26819904e-16]\n",
      " [ 6.72625394e+01  1.40094601e+02  1.06727439e-15]\n",
      " [ 6.77626022e+01  1.40094763e+02  7.89624410e-16]\n",
      " [ 6.82626420e+01  1.40094872e+02  7.15516284e-16]\n",
      " [ 6.87626608e+01  1.40094927e+02  1.27053429e-15]\n",
      " [ 6.92626607e+01  1.40094927e+02  1.78854384e-15]\n",
      " [ 6.97626440e+01  1.40094872e+02  1.32585714e-15]\n",
      " [ 7.02626127e+01  1.40094762e+02  1.93638422e-15]\n",
      " [ 7.07625692e+01  1.40094598e+02  2.65793449e-15]\n",
      " [ 7.12625156e+01  1.40094380e+02  3.28696771e-15]\n",
      " [ 7.17624541e+01  1.40094109e+02  2.73176447e-15]\n",
      " [ 7.22623869e+01  1.40093787e+02  2.47261709e-15]\n",
      " [ 7.27623161e+01  1.40093416e+02  2.56504163e-15]\n",
      " [ 7.32622437e+01  1.40092996e+02  2.08385406e-15]\n",
      " [ 7.37621715e+01  1.40092530e+02  1.73218979e-15]\n",
      " [ 7.42621013e+01  1.40092022e+02  1.47304030e-15]\n",
      " [ 7.47620345e+01  1.40091474e+02  1.23240080e-15]\n",
      " [ 7.52619727e+01  1.40090889e+02  4.73657695e-16]\n",
      " [ 7.57619167e+01  1.40090271e+02  6.03077429e-16]\n",
      " [ 7.62618676e+01  1.40089625e+02  1.15808794e-15]\n",
      " [ 7.67618259e+01  1.40088954e+02  1.34304847e-15]\n",
      " [ 7.72617918e+01  1.40088264e+02  5.84313647e-16]\n",
      " [ 7.77617653e+01  1.40087560e+02  6.95227440e-16]\n",
      " [ 7.82617462e+01  1.40086847e+02  6.02615287e-16]\n",
      " [ 7.87617336e+01  1.40086132e+02  1.32414268e-15]\n",
      " [ 7.92617268e+01  1.40085420e+02  1.73114301e-15]\n",
      " [ 7.97617245e+01  1.40084719e+02  1.43500649e-15]\n",
      " [ 8.02617252e+01  1.40084035e+02  1.97149700e-15]\n",
      " [ 8.07617275e+01  1.40083376e+02  2.04542713e-15]\n",
      " [ 8.12617295e+01  1.40082749e+02  2.56343874e-15]\n",
      " [ 8.17617299e+01  1.40082163e+02  1.84174503e-15]\n",
      " [ 8.22617271e+01  1.40081625e+02  1.37903714e-15]\n",
      " [ 8.27617202e+01  1.40081144e+02  1.73049608e-15]\n",
      " [ 8.32617090e+01  1.40080729e+02  1.37885062e-15]\n",
      " [ 8.37616940e+01  1.40080388e+02  1.98935305e-15]\n",
      " [ 8.42616772e+01  1.40080133e+02  2.39635822e-15]\n",
      " [ 8.47616623e+01  1.40079971e+02  2.19272996e-15]\n",
      " [ 8.52616551e+01  1.40079913e+02  1.98910185e-15]\n",
      " [ 8.57616643e+01  1.40079969e+02  2.58112913e-15]\n",
      " [ 8.62617020e+01  1.40080151e+02  2.67356171e-15]\n",
      " [ 8.67617845e+01  1.40080468e+02  2.24785394e-15]\n",
      " [ 8.72619329e+01  1.40080931e+02  2.13677076e-15]\n",
      " [ 8.77621740e+01  1.40081550e+02  1.97011144e-15]\n",
      " [ 8.82625410e+01  1.40082338e+02  1.91450156e-15]\n",
      " [ 8.87630744e+01  1.40083303e+02  2.00692091e-15]\n",
      " [ 8.92638219e+01  1.40084454e+02  1.35904425e-15]\n",
      " [ 8.97648390e+01  1.40085801e+02  1.56271910e-15]]\n"
     ]
    },
    {
     "name": "stdout",
     "output_type": "stream",
     "text": [
      "UKF standard deviation 59.917 meters\n"
     ]
    },
    {
     "data": {
      "image/png": "[encoded data removed]",
      "text/plain": [
       "<Figure size 1000x600 with 1 Axes>"
      ]
     },
     "metadata": {},
     "output_type": "display_data"
    }
   ],
   "source": [
    "uxs = []\n",
    "for z in zs:\n",
    "    ukf.predict(u=u)\n",
    "    ukf.update(z)\n",
    "    uxs.append(ukf.x.copy())\n",
    "uxs = np.array(uxs)\n",
    "print(uxs)\n",
    "\n",
    "\n",
    "plt.figure(figsize=(10, 6))\n",
    "plt.grid()\n",
    "plt.ylim([115, 160])\n",
    "plt.plot(uxs[:, 0], uxs[:, 1], label='Estimated Trajectory')\n",
    "print(f'UKF standard deviation {np.std(uxs - zs):.3f} meters')"
   ]
  },
  {
   "cell_type": "code",
   "execution_count": null,
   "metadata": {},
   "outputs": [],
   "source": []
  }
 ],
 "metadata": {
  "kernelspec": {
   "display_name": "testpy",
   "language": "python",
   "name": "python3"
  },
  "language_info": {
   "codemirror_mode": {
    "name": "ipython",
    "version": 3
   },
   "file_extension": ".py",
   "mimetype": "text/x-python",
   "name": "python",
   "nbconvert_exporter": "python",
   "pygments_lexer": "ipython3",
   "version": "3.8.17"
  }
 },
 "nbformat": 4,
 "nbformat_minor": 2
}
