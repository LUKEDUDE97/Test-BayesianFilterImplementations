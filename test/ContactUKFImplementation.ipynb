{
 "cells": [
  {
   "cell_type": "code",
   "execution_count": 1,
   "metadata": {},
   "outputs": [],
   "source": [
    "import numpy as np\n",
    "import math\n",
    "import matplotlib.pyplot as plt"
   ]
  },
  {
   "cell_type": "markdown",
   "metadata": {},
   "source": [
    "## State variables"
   ]
  },
  {
   "cell_type": "markdown",
   "metadata": {},
   "source": [
    "$$ \\mathit{\\mathbf{x}}  = [x, y, z] $$"
   ]
  },
  {
   "cell_type": "markdown",
   "metadata": {},
   "source": [
    "where z = 0 in 2D scene"
   ]
  },
  {
   "cell_type": "markdown",
   "metadata": {},
   "source": [
    "## Process Model "
   ]
  },
  {
   "cell_type": "code",
   "execution_count": 2,
   "metadata": {},
   "outputs": [],
   "source": [
    "# Fictitious data: System ctrl input \n",
    "\n",
    "linear_vel = np.array([.5, 0, 0])\n",
    "angular_vel = np.array([0, 0, 0])\n",
    "u = np.append(linear_vel, angular_vel, axis=0)"
   ]
  },
  {
   "cell_type": "code",
   "execution_count": 3,
   "metadata": {},
   "outputs": [],
   "source": [
    "def skew(vector):\n",
    "    \"\"\"\n",
    "    this function returns a numpy array with the skew symmetric cross product matrix for vector.\n",
    "    the skew symmetric cross product matrix is defined such that\n",
    "    np.cross(a, b) = np.dot(skew(a), b)\n",
    "\n",
    "    :param vector: An array like vector to create the skew symmetric cross product matrix for\n",
    "    :return: A numpy array of the skew symmetric cross product vector\n",
    "    \"\"\"\n",
    "\n",
    "    return np.array(\n",
    "        [\n",
    "            [0, -vector[2], vector[1]],\n",
    "            [vector[2], 0, -vector[0]],\n",
    "            [-vector[1], vector[0], 0],\n",
    "        ]\n",
    "    )"
   ]
  },
  {
   "cell_type": "code",
   "execution_count": 4,
   "metadata": {},
   "outputs": [],
   "source": [
    "def f_contact(x, dt, u):\n",
    "    A = np.identity(3)\n",
    "    B = -dt * np.append(np.identity(3), -skew(x), axis=1)\n",
    "    prior_ = A @ x + B @ u\n",
    "    return prior_"
   ]
  },
  {
   "cell_type": "code",
   "execution_count": 5,
   "metadata": {},
   "outputs": [],
   "source": [
    "# Process Noise\n",
    "Q = np.array([[.001, 0, 0], [0, .001, 0], [0, 0, .00001]])"
   ]
  },
  {
   "cell_type": "markdown",
   "metadata": {},
   "source": [
    "## Measurement Model"
   ]
  },
  {
   "cell_type": "code",
   "execution_count": 6,
   "metadata": {},
   "outputs": [],
   "source": [
    "def polyfit2d(x, y, z, kx=5, ky=5, order=None):\n",
    "    \"\"\"\n",
    "    Two dimensional polynomial fitting by least squares.\n",
    "    Fits the functional form f(x,y) = z.\n",
    "\n",
    "    Notes\n",
    "    -----\n",
    "    Resultant fit can be plotted with:\n",
    "    np.polynomial.polynomial.polygrid2d(x, y, soln.reshape((kx+1, ky+1)))\n",
    "\n",
    "    Parameters\n",
    "    ----------\n",
    "    x, y: array-like, 1d\n",
    "        x and y coordinates.\n",
    "    z: np.ndarray, 2d\n",
    "        Surface to fit.\n",
    "    kx, ky: int, default is 3\n",
    "        Polynomial order in x and y, respectively.\n",
    "    order: int or None, default is None\n",
    "        If None, all coefficients up to maxiumum kx, ky, ie. up to and including x^kx*y^ky, are considered.\n",
    "        If int, coefficients up to a maximum of kx+ky <= order are considered.\n",
    "\n",
    "    Returns\n",
    "    -------\n",
    "    Return paramters from np.linalg.lstsq.\n",
    "\n",
    "    soln: np.ndarray\n",
    "        Array of polynomial coefficients.\n",
    "    residuals: np.ndarray\n",
    "    rank: int\n",
    "    s: np.ndarray\n",
    "\n",
    "    \"\"\"\n",
    "\n",
    "    # grid coords\n",
    "    x, y = np.meshgrid(x, y)\n",
    "    # coefficient array, up to x^kx, y^ky\n",
    "    coeffs = np.ones((kx + 1, ky + 1))\n",
    "\n",
    "    # solve array\n",
    "    a = np.zeros((coeffs.size, x.size))\n",
    "\n",
    "    # for each coefficient produce array x^i, y^j\n",
    "    for index, (i, j) in enumerate(np.ndindex(coeffs.shape)):\n",
    "        # do not include powers greater than order\n",
    "        if order is not None and i + j > order:\n",
    "            arr = np.zeros_like(x)\n",
    "        else:\n",
    "            arr = coeffs[i, j] * x**i * y**j\n",
    "        a[index] = arr.ravel()\n",
    "\n",
    "    # do leastsq fitting and return leastsq result\n",
    "    print(a.T.shape, np.ravel(z).shape)\n",
    "    return np.linalg.lstsq(a.T, np.ravel(z), rcond=None)"
   ]
  },
  {
   "cell_type": "code",
   "execution_count": 7,
   "metadata": {},
   "outputs": [
    {
     "name": "stdout",
     "output_type": "stream",
     "text": [
      "(170, 36) (170,)\n"
     ]
    }
   ],
   "source": [
    "import pandas as pd\n",
    "\n",
    "dataframe = pd.read_excel(\"FullRangeData.xlsx\", sheet_name=\"Formated_MannulyFixed\")\n",
    "z = np.array(dataframe)[:, 2]\n",
    "\n",
    "x = np.linspace(10, 90, 17)\n",
    "y = np.linspace(115, 160, 10)\n",
    "\n",
    "coeff, r, rank, s = polyfit2d(x, y, z)"
   ]
  },
  {
   "cell_type": "code",
   "execution_count": 8,
   "metadata": {},
   "outputs": [
    {
     "name": "stdout",
     "output_type": "stream",
     "text": [
      "RMS residual = 0.23193393244515742\n",
      "R-squared value = 0.9944280222772985\n"
     ]
    }
   ],
   "source": [
    "from sklearn.metrics import r2_score\n",
    "\n",
    "fitted_surf = np.polynomial.polynomial.polygrid2d(x, y, coeff.reshape((6, 6)))\n",
    "\n",
    "rms = np.sqrt(np.mean((z.reshape(10, 17).T - fitted_surf) ** 2))\n",
    "print(\"RMS residual =\", rms)\n",
    "score = r2_score(z.reshape(10, 17).T, fitted_surf)\n",
    "print(\"R-squared value =\", score)"
   ]
  },
  {
   "cell_type": "code",
   "execution_count": 9,
   "metadata": {},
   "outputs": [],
   "source": [
    "def h_contact(x):\n",
    "    return np.polynomial.polynomial.polygrid2d(x[0], x[1], coeff.reshape((6, 6)))"
   ]
  },
  {
   "cell_type": "markdown",
   "metadata": {},
   "source": [
    "Fictitious data"
   ]
  },
  {
   "cell_type": "code",
   "execution_count": 10,
   "metadata": {},
   "outputs": [],
   "source": [
    "# Start point\n",
    "X_start = 10\n",
    "Y_start = 140\n",
    "\n",
    "# End point\n",
    "X_end = 90\n",
    "Y_end = 140\n",
    "\n",
    "trajecotry_ = np.polynomial.polynomial.polygrid2d(\n",
    "    np.linspace(X_start, X_end, 160),\n",
    "    140,\n",
    "    coeff.reshape((6, 6)),\n",
    ")\n",
    "\n",
    "# format measurements\n",
    "zs = [np.array([trajecotry_[i]]) for i in range(trajecotry_.shape[0])]"
   ]
  },
  {
   "cell_type": "code",
   "execution_count": 11,
   "metadata": {},
   "outputs": [],
   "source": [
    "# Measurement Noise\n",
    "R = np.array([[rms**2]])"
   ]
  },
  {
   "cell_type": "markdown",
   "metadata": {},
   "source": [
    "## Implementation of filter"
   ]
  },
  {
   "cell_type": "code",
   "execution_count": 12,
   "metadata": {},
   "outputs": [],
   "source": [
    "dt = 1.0"
   ]
  },
  {
   "cell_type": "code",
   "execution_count": 13,
   "metadata": {},
   "outputs": [
    {
     "name": "stdout",
     "output_type": "stream",
     "text": [
      "[[5.38665685 5.36403985 5.39965389 5.38665685 5.41008967 5.37362651\n",
      "  5.38665685]]\n"
     ]
    },
    {
     "ename": "ValueError",
     "evalue": "shapes (7,) and (1,7) not aligned: 7 (dim 0) != 1 (dim 0)",
     "output_type": "error",
     "traceback": [
      "\u001b[1;31m---------------------------------------------------------------------------\u001b[0m",
      "\u001b[1;31mValueError\u001b[0m                                Traceback (most recent call last)",
      "Cell \u001b[1;32mIn[13], line 15\u001b[0m\n\u001b[0;32m     13\u001b[0m \u001b[38;5;28;01mfor\u001b[39;00m z \u001b[38;5;129;01min\u001b[39;00m zs:\n\u001b[0;32m     14\u001b[0m     ukf\u001b[38;5;241m.\u001b[39mpredict(u\u001b[38;5;241m=\u001b[39mu)\n\u001b[1;32m---> 15\u001b[0m     \u001b[43mukf\u001b[49m\u001b[38;5;241;43m.\u001b[39;49m\u001b[43mupdate\u001b[49m\u001b[43m(\u001b[49m\u001b[43mz\u001b[49m\u001b[43m)\u001b[49m\n\u001b[0;32m     16\u001b[0m     uxs\u001b[38;5;241m.\u001b[39mappend(ukf\u001b[38;5;241m.\u001b[39mx\u001b[38;5;241m.\u001b[39mcopy())\n\u001b[0;32m     17\u001b[0m uxs \u001b[38;5;241m=\u001b[39m np\u001b[38;5;241m.\u001b[39marray(uxs)\n",
      "File \u001b[1;32md:\\Miniconda\\envs\\testpy\\lib\\site-packages\\filterpy\\kalman\\UKF.py:450\u001b[0m, in \u001b[0;36mUnscentedKalmanFilter.update\u001b[1;34m(self, z, R, UT, hx, **hx_args)\u001b[0m\n\u001b[0;32m    447\u001b[0m \u001b[38;5;28mself\u001b[39m\u001b[38;5;241m.\u001b[39msigmas_h \u001b[38;5;241m=\u001b[39m np\u001b[38;5;241m.\u001b[39matleast_2d(sigmas_h)\n\u001b[0;32m    449\u001b[0m \u001b[38;5;66;03m# mean and covariance of prediction passed through unscented transform\u001b[39;00m\n\u001b[1;32m--> 450\u001b[0m zp, \u001b[38;5;28mself\u001b[39m\u001b[38;5;241m.\u001b[39mS \u001b[38;5;241m=\u001b[39m \u001b[43mUT\u001b[49m\u001b[43m(\u001b[49m\u001b[38;5;28;43mself\u001b[39;49m\u001b[38;5;241;43m.\u001b[39;49m\u001b[43msigmas_h\u001b[49m\u001b[43m,\u001b[49m\u001b[43m \u001b[49m\u001b[38;5;28;43mself\u001b[39;49m\u001b[38;5;241;43m.\u001b[39;49m\u001b[43mWm\u001b[49m\u001b[43m,\u001b[49m\u001b[43m \u001b[49m\u001b[38;5;28;43mself\u001b[39;49m\u001b[38;5;241;43m.\u001b[39;49m\u001b[43mWc\u001b[49m\u001b[43m,\u001b[49m\u001b[43m \u001b[49m\u001b[43mR\u001b[49m\u001b[43m,\u001b[49m\u001b[43m \u001b[49m\u001b[38;5;28;43mself\u001b[39;49m\u001b[38;5;241;43m.\u001b[39;49m\u001b[43mz_mean\u001b[49m\u001b[43m,\u001b[49m\u001b[43m \u001b[49m\u001b[38;5;28;43mself\u001b[39;49m\u001b[38;5;241;43m.\u001b[39;49m\u001b[43mresidual_z\u001b[49m\u001b[43m)\u001b[49m\n\u001b[0;32m    451\u001b[0m \u001b[38;5;28mself\u001b[39m\u001b[38;5;241m.\u001b[39mSI \u001b[38;5;241m=\u001b[39m \u001b[38;5;28mself\u001b[39m\u001b[38;5;241m.\u001b[39minv(\u001b[38;5;28mself\u001b[39m\u001b[38;5;241m.\u001b[39mS)\n\u001b[0;32m    453\u001b[0m \u001b[38;5;66;03m# compute cross variance of the state and the measurements\u001b[39;00m\n",
      "File \u001b[1;32md:\\Miniconda\\envs\\testpy\\lib\\site-packages\\filterpy\\kalman\\unscented_transform.py:104\u001b[0m, in \u001b[0;36munscented_transform\u001b[1;34m(sigmas, Wm, Wc, noise_cov, mean_fn, residual_fn)\u001b[0m\n\u001b[0;32m    101\u001b[0m \u001b[38;5;28;01mtry\u001b[39;00m:\n\u001b[0;32m    102\u001b[0m     \u001b[38;5;28;01mif\u001b[39;00m mean_fn \u001b[38;5;129;01mis\u001b[39;00m \u001b[38;5;28;01mNone\u001b[39;00m:\n\u001b[0;32m    103\u001b[0m         \u001b[38;5;66;03m# new mean is just the sum of the sigmas * weight\u001b[39;00m\n\u001b[1;32m--> 104\u001b[0m         x \u001b[38;5;241m=\u001b[39m \u001b[43mnp\u001b[49m\u001b[38;5;241;43m.\u001b[39;49m\u001b[43mdot\u001b[49m\u001b[43m(\u001b[49m\u001b[43mWm\u001b[49m\u001b[43m,\u001b[49m\u001b[43m \u001b[49m\u001b[43msigmas\u001b[49m\u001b[43m)\u001b[49m    \u001b[38;5;66;03m# dot = \\Sigma^n_1 (W[k]*Xi[k])\u001b[39;00m\n\u001b[0;32m    105\u001b[0m         \u001b[38;5;66;03m# x = np.dot(sigmas, Wm)  # DYX\u001b[39;00m\n\u001b[0;32m    106\u001b[0m     \u001b[38;5;28;01melse\u001b[39;00m:\n\u001b[0;32m    107\u001b[0m         x \u001b[38;5;241m=\u001b[39m mean_fn(sigmas, Wm)\n",
      "File \u001b[1;32m<__array_function__ internals>:200\u001b[0m, in \u001b[0;36mdot\u001b[1;34m(*args, **kwargs)\u001b[0m\n",
      "\u001b[1;31mValueError\u001b[0m: shapes (7,) and (1,7) not aligned: 7 (dim 0) != 1 (dim 0)"
     ]
    }
   ],
   "source": [
    "from filterpy.kalman import UnscentedKalmanFilter as UKF\n",
    "from filterpy.kalman import MerweScaledSigmaPoints\n",
    "\n",
    "sigmas = MerweScaledSigmaPoints(3, alpha=.1, beta=2., kappa=0.)\n",
    "ukf = UKF(dim_x=3, dim_z=1, fx=f_contact,\n",
    "          hx=h_contact, dt=dt, points=sigmas)\n",
    "\n",
    "ukf.x = np.array([10, 140, 0])\n",
    "ukf.R = R\n",
    "ukf.Q = Q\n",
    "\n",
    "uxs = []\n",
    "for z in zs:\n",
    "    ukf.predict(u=u)\n",
    "    ukf.update(z)\n",
    "    uxs.append(ukf.x.copy())\n",
    "uxs = np.array(uxs)\n",
    "\n",
    "plt.plot(uxs[:, 0], uxs[:, 2])\n",
    "print(f'UKF standard deviation {np.std(uxs - xs):.3f} meters')"
   ]
  },
  {
   "cell_type": "code",
   "execution_count": null,
   "metadata": {},
   "outputs": [],
   "source": []
  }
 ],
 "metadata": {
  "kernelspec": {
   "display_name": "testpy",
   "language": "python",
   "name": "python3"
  },
  "language_info": {
   "codemirror_mode": {
    "name": "ipython",
    "version": 3
   },
   "file_extension": ".py",
   "mimetype": "text/x-python",
   "name": "python",
   "nbconvert_exporter": "python",
   "pygments_lexer": "ipython3",
   "version": "3.8.17"
  }
 },
 "nbformat": 4,
 "nbformat_minor": 2
}
