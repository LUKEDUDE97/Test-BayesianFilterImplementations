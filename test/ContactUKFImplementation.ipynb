{
 "cells": [
  {
   "cell_type": "code",
   "execution_count": 51,
   "metadata": {},
   "outputs": [],
   "source": [
    "import numpy as np\n",
    "import math\n",
    "import matplotlib.pyplot as plt"
   ]
  },
  {
   "cell_type": "markdown",
   "metadata": {},
   "source": [
    "## State variables"
   ]
  },
  {
   "cell_type": "markdown",
   "metadata": {},
   "source": [
    "$$ \\mathit{\\mathbf{x}}  = [x, y, z] $$"
   ]
  },
  {
   "cell_type": "markdown",
   "metadata": {},
   "source": [
    "where z = 0 in 2D scene"
   ]
  },
  {
   "cell_type": "markdown",
   "metadata": {},
   "source": [
    "## Process Model "
   ]
  },
  {
   "cell_type": "code",
   "execution_count": 52,
   "metadata": {},
   "outputs": [],
   "source": [
    "# Fictitious data: System ctrl input \n",
    "\n",
    "linear_vel = np.array([.5, 0, 0])\n",
    "angular_vel = np.array([0, 0, 0])\n",
    "u = np.append(linear_vel, angular_vel, axis=0)"
   ]
  },
  {
   "cell_type": "code",
   "execution_count": 53,
   "metadata": {},
   "outputs": [],
   "source": [
    "def skew(vector):\n",
    "    \"\"\"\n",
    "    this function returns a numpy array with the skew symmetric cross product matrix for vector.\n",
    "    the skew symmetric cross product matrix is defined such that\n",
    "    np.cross(a, b) = np.dot(skew(a), b)\n",
    "\n",
    "    :param vector: An array like vector to create the skew symmetric cross product matrix for\n",
    "    :return: A numpy array of the skew symmetric cross product vector\n",
    "    \"\"\"\n",
    "\n",
    "    return np.array(\n",
    "        [\n",
    "            [0, -vector[2], vector[1]],\n",
    "            [vector[2], 0, -vector[0]],\n",
    "            [-vector[1], vector[0], 0],\n",
    "        ]\n",
    "    )"
   ]
  },
  {
   "cell_type": "code",
   "execution_count": 54,
   "metadata": {},
   "outputs": [],
   "source": [
    "def f_contact(x, dt, u):\n",
    "    A = np.identity(3)\n",
    "    B = -dt * np.append(np.identity(3), -skew(x), axis=1)\n",
    "    prior_ = A @ x + B @ u\n",
    "    return prior_"
   ]
  },
  {
   "cell_type": "code",
   "execution_count": 55,
   "metadata": {},
   "outputs": [],
   "source": [
    "# Process Noise\n",
    "Q = np.array([[.001, 0, 0], [0, .001, 0], [0, 0, .00001]])"
   ]
  },
  {
   "cell_type": "markdown",
   "metadata": {},
   "source": [
    "## Measurement Model"
   ]
  },
  {
   "cell_type": "code",
   "execution_count": 56,
   "metadata": {},
   "outputs": [],
   "source": [
    "def polyfit2d(x, y, z, kx=5, ky=5, order=None):\n",
    "    \"\"\"\n",
    "    Two dimensional polynomial fitting by least squares.\n",
    "    Fits the functional form f(x,y) = z.\n",
    "\n",
    "    Notes\n",
    "    -----\n",
    "    Resultant fit can be plotted with:\n",
    "    np.polynomial.polynomial.polygrid2d(x, y, soln.reshape((kx+1, ky+1)))\n",
    "\n",
    "    Parameters\n",
    "    ----------\n",
    "    x, y: array-like, 1d\n",
    "        x and y coordinates.\n",
    "    z: np.ndarray, 2d\n",
    "        Surface to fit.\n",
    "    kx, ky: int, default is 3\n",
    "        Polynomial order in x and y, respectively.\n",
    "    order: int or None, default is None\n",
    "        If None, all coefficients up to maxiumum kx, ky, ie. up to and including x^kx*y^ky, are considered.\n",
    "        If int, coefficients up to a maximum of kx+ky <= order are considered.\n",
    "\n",
    "    Returns\n",
    "    -------\n",
    "    Return paramters from np.linalg.lstsq.\n",
    "\n",
    "    soln: np.ndarray\n",
    "        Array of polynomial coefficients.\n",
    "    residuals: np.ndarray\n",
    "    rank: int\n",
    "    s: np.ndarray\n",
    "\n",
    "    \"\"\"\n",
    "\n",
    "    # grid coords\n",
    "    x, y = np.meshgrid(x, y)\n",
    "    # coefficient array, up to x^kx, y^ky\n",
    "    coeffs = np.ones((kx + 1, ky + 1))\n",
    "\n",
    "    # solve array\n",
    "    a = np.zeros((coeffs.size, x.size))\n",
    "\n",
    "    # for each coefficient produce array x^i, y^j\n",
    "    for index, (i, j) in enumerate(np.ndindex(coeffs.shape)):\n",
    "        # do not include powers greater than order\n",
    "        if order is not None and i + j > order:\n",
    "            arr = np.zeros_like(x)\n",
    "        else:\n",
    "            arr = coeffs[i, j] * x**i * y**j\n",
    "        a[index] = arr.ravel()\n",
    "\n",
    "    # do leastsq fitting and return leastsq result\n",
    "    print(a.T.shape, np.ravel(z).shape)\n",
    "    return np.linalg.lstsq(a.T, np.ravel(z), rcond=None)"
   ]
  },
  {
   "cell_type": "code",
   "execution_count": 57,
   "metadata": {},
   "outputs": [
    {
     "name": "stdout",
     "output_type": "stream",
     "text": [
      "(170, 36) (170,)\n"
     ]
    }
   ],
   "source": [
    "import pandas as pd\n",
    "\n",
    "dataframe = pd.read_excel(\"FullRangeData.xlsx\", sheet_name=\"Formated_MannulyFixed\")\n",
    "z = np.array(dataframe)[:, 2]\n",
    "\n",
    "x = np.linspace(10, 90, 17)\n",
    "y = np.linspace(115, 160, 10)\n",
    "\n",
    "coeff, r, rank, s = polyfit2d(x, y, z)"
   ]
  },
  {
   "cell_type": "code",
   "execution_count": 58,
   "metadata": {},
   "outputs": [
    {
     "name": "stdout",
     "output_type": "stream",
     "text": [
      "RMS residual = 0.23193393244515742\n",
      "R-squared value = 0.9944280222772985\n"
     ]
    }
   ],
   "source": [
    "from sklearn.metrics import r2_score\n",
    "\n",
    "fitted_surf = np.polynomial.polynomial.polygrid2d(x, y, coeff.reshape((6, 6)))\n",
    "\n",
    "rms = np.sqrt(np.mean((z.reshape(10, 17).T - fitted_surf) ** 2))\n",
    "print(\"RMS residual =\", rms)\n",
    "score = r2_score(z.reshape(10, 17).T, fitted_surf)\n",
    "print(\"R-squared value =\", score)"
   ]
  },
  {
   "cell_type": "code",
   "execution_count": 59,
   "metadata": {},
   "outputs": [],
   "source": [
    "def h_contact(x):\n",
    "    return np.polynomial.polynomial.polygrid2d(x[0], x[1], coeff.reshape((6, 6)))"
   ]
  },
  {
   "cell_type": "markdown",
   "metadata": {},
   "source": [
    "Fictitious data"
   ]
  },
  {
   "cell_type": "code",
   "execution_count": 60,
   "metadata": {},
   "outputs": [],
   "source": [
    "# Start point\n",
    "X_start = 10\n",
    "Y_start = 140\n",
    "\n",
    "# End point\n",
    "X_end = 90\n",
    "Y_end = 140\n",
    "\n",
    "trajecotry_ = np.polynomial.polynomial.polygrid2d(\n",
    "    np.linspace(X_start, X_end, 160),\n",
    "    140,\n",
    "    coeff.reshape((6, 6)),\n",
    ")\n",
    "\n",
    "# format measurements\n",
    "zs = [np.array([trajecotry_[i]]) for i in range(trajecotry_.shape[0])]"
   ]
  },
  {
   "cell_type": "code",
   "execution_count": 61,
   "metadata": {},
   "outputs": [],
   "source": [
    "# Measurement Noise\n",
    "R = np.array([[rms**2]])"
   ]
  },
  {
   "cell_type": "markdown",
   "metadata": {},
   "source": [
    "## Implementation of filter"
   ]
  },
  {
   "cell_type": "code",
   "execution_count": 62,
   "metadata": {},
   "outputs": [],
   "source": [
    "dt = 1.0"
   ]
  },
  {
   "cell_type": "code",
   "execution_count": 70,
   "metadata": {},
   "outputs": [],
   "source": [
    "from filterpy.kalman import UnscentedKalmanFilter as UKF\n",
    "from filterpy.kalman import MerweScaledSigmaPoints\n",
    "\n",
    "sigmas = MerweScaledSigmaPoints(3, alpha=.1, beta=2., kappa=0.)\n",
    "ukf = UKF(dim_x=3, dim_z=1, fx=f_contact,\n",
    "          hx=h_contact, dt=dt, points=sigmas)\n",
    "\n",
    "ukf.x = np.array([10, 140, 0])\n",
    "ukf.R = R\n",
    "ukf.Q = Q"
   ]
  },
  {
   "cell_type": "code",
   "execution_count": 71,
   "metadata": {},
   "outputs": [
    {
     "data": {
      "text/plain": [
       "UnscentedKalmanFilter object\n",
       "x = [ 10 140   0]\n",
       "P = [[1. 0. 0.]\n",
       "     [0. 1. 0.]\n",
       "     [0. 0. 1.]]\n",
       "x_prior = [0. 0. 0.]\n",
       "P_prior = [[1. 0. 0.]\n",
       "           [0. 1. 0.]\n",
       "           [0. 0. 1.]]\n",
       "Q = [[1.e-03 0.e+00 0.e+00]\n",
       "     [0.e+00 1.e-03 0.e+00]\n",
       "     [0.e+00 0.e+00 1.e-05]]\n",
       "R = [[0.05379335]]\n",
       "S = [[0.]]\n",
       "K = [[0. 0. 0.]].T\n",
       "y = [0.]\n",
       "log-likelihood = -708.3964185322641\n",
       "likelihood = 2.2250738585072014e-308\n",
       "mahalanobis = 0.0\n",
       "sigmas_f = [[0. 0. 0.]\n",
       "            [0. 0. 0.]\n",
       "            [0. 0. 0.]\n",
       "            [0. 0. 0.]\n",
       "            [0. 0. 0.]\n",
       "            [0. 0. 0.]\n",
       "            [0. 0. 0.]]\n",
       "h = [[0. 0. 0. 0. 0. 0. 0.]].T\n",
       "Wm = [-99.          16.66666667  16.66666667  16.66666667  16.66666667\n",
       "       16.66666667  16.66666667]\n",
       "Wc = [-96.01        16.66666667  16.66666667  16.66666667  16.66666667\n",
       "       16.66666667  16.66666667]\n",
       "residual_x = <ufunc 'subtract'>\n",
       "residual_z = <ufunc 'subtract'>\n",
       "msqrt = <function cholesky at 0x000001CED6700310>\n",
       "hx = <function h_contact at 0x000001CED85768B0>\n",
       "fx = <function f_contact at 0x000001CED8576940>\n",
       "x_mean = None\n",
       "z_mean = None"
      ]
     },
     "execution_count": 71,
     "metadata": {},
     "output_type": "execute_result"
    }
   ],
   "source": [
    "ukf"
   ]
  },
  {
   "cell_type": "code",
   "execution_count": 72,
   "metadata": {},
   "outputs": [
    {
     "name": "stdout",
     "output_type": "stream",
     "text": [
      "[[ 9.63073695e+00  1.39926107e+02  1.64401982e-16]\n",
      " [ 9.37244433e+00  1.39795774e+02  1.30607590e-16]\n",
      " [ 9.15772610e+00  1.39646221e+02  4.41811767e-16]\n",
      " [ 8.95989518e+00  1.39490731e+02  6.64330418e-16]\n",
      " [ 8.76754572e+00  1.39334503e+02  8.91003484e-16]\n",
      " [ 8.57544436e+00  1.39179687e+02  7.16890330e-16]\n",
      " [ 8.38108131e+00  1.39027122e+02  1.02717758e-15]\n",
      " [ 8.18323660e+00  1.38877010e+02  1.59925440e-15]\n",
      " [ 7.98132759e+00  1.38729184e+02  1.79880667e-15]\n",
      " [ 7.77508692e+00  1.38583233e+02  2.01090230e-15]\n",
      " [ 7.56439094e+00  1.38438550e+02  1.56277010e-15]\n",
      " [ 7.34916053e+00  1.38294347e+02  1.73193249e-15]\n",
      " [ 7.12929787e+00  1.38149654e+02  1.57001712e-15]\n",
      " [ 6.90464054e+00  1.38003301e+02  2.20076816e-15]\n",
      " [ 6.67492268e+00  1.37853891e+02  2.48478585e-15]\n",
      " [ 6.43973675e+00  1.37699760e+02  2.56904209e-15]\n",
      " [ 6.19849094e+00  1.37538920e+02  2.45778830e-15]\n",
      " [ 5.95035757e+00  1.37368989e+02  2.61882401e-15]\n",
      " [ 5.69420763e+00  1.37187092e+02  1.89492908e-15]\n",
      " [ 5.42852493e+00  1.36989727e+02  1.31003963e-15]\n",
      " [ 5.15129148e+00  1.36772599e+02  1.13491754e-15]\n",
      " [ 4.85983239e+00  1.36530391e+02  1.47194540e-15]\n",
      " [ 4.55060457e+00  1.36256452e+02  1.21190673e-15]\n",
      " [ 4.21890757e+00  1.35942406e+02  1.82493356e-15]\n",
      " [ 3.85848967e+00  1.35577631e+02  1.89181783e-15]\n",
      " [ 3.46102048e+00  1.35148615e+02  1.81487452e-15]\n",
      " [ 3.01541526e+00  1.34638246e+02  1.46363801e-15]\n",
      " [ 2.50705949e+00  1.34025218e+02  2.05948754e-15]\n",
      " [ 1.91717689e+00  1.33284141e+02  1.40290557e-15]\n",
      " [ 1.22308964e+00  1.32387787e+02  2.04581228e-15]\n",
      " [ 4.01203989e-01  1.31314444e+02  2.55889275e-15]\n",
      " [-5.63919705e-01  1.30064766e+02  2.22143854e-15]\n",
      " [-1.66173604e+00  1.28688796e+02  1.58347915e-15]\n",
      " [-2.83700321e+00  1.27304527e+02  1.50041424e-15]\n",
      " [-3.99768650e+00  1.26065518e+02  1.27827632e-15]\n",
      " [-5.06326043e+00  1.25075883e+02  9.79331866e-16]\n",
      " [-6.00545556e+00  1.24342868e+02  6.32480378e-16]\n",
      " [-6.83907776e+00  1.23812739e+02  1.20739637e-15]\n",
      " [-7.59231809e+00  1.23423557e+02  1.24089565e-15]\n",
      " [-8.28985650e+00  1.23127990e+02  1.75664415e-15]\n",
      " [-8.94921051e+00  1.22894669e+02  1.43886881e-15]\n",
      " [-9.58197790e+00  1.22703678e+02  1.76070228e-15]\n",
      " [-1.01957265e+01  1.22542367e+02  1.24413212e-15]\n",
      " [-1.07954351e+01  1.22402559e+02  1.71765508e-15]\n",
      " [-1.13844348e+01  1.22278831e+02  2.02716697e-15]\n",
      " [-1.19649964e+01  1.22167495e+02  1.80903019e-15]\n",
      " [-1.25386963e+01  1.22065979e+02  1.70032446e-15]\n",
      " [-1.31066456e+01  1.21972449e+02  1.63348533e-15]\n",
      " [-1.36696383e+01  1.21885569e+02  1.49658039e-15]\n",
      " [-1.42282477e+01  1.21804354e+02  1.63332793e-15]\n",
      " [-1.47828913e+01  1.21728064e+02  1.31134921e-15]\n",
      " [-1.53338759e+01  1.21656142e+02  9.06615748e-16]\n",
      " [-1.58814294e+01  1.21588166e+02  1.11490903e-15]\n",
      " [-1.64257237e+01  1.21523816e+02  9.43436575e-16]\n",
      " [-1.69668913e+01  1.21462853e+02  6.48467568e-16]\n",
      " [-1.75050393e+01  1.21405096e+02 -1.32290004e-16]\n",
      " [-1.80402582e+01  1.21350416e+02 -3.14528460e-16]\n",
      " [-1.85726305e+01  1.21298720e+02 -1.29600709e-16]\n",
      " [-1.91022361e+01  1.21249942e+02 -6.85889860e-16]\n",
      " [-1.96291574e+01  1.21204039e+02 -9.43990679e-16]\n",
      " [-2.01534824e+01  1.21160981e+02 -1.16633507e-15]\n",
      " [-2.06753073e+01  1.21120748e+02 -1.14799838e-15]\n",
      " [-2.11947379e+01  1.21083321e+02 -7.59963039e-16]\n",
      " [-2.17118902e+01  1.21048685e+02 -8.51949647e-16]\n",
      " [-2.22268904e+01  1.21016817e+02 -1.16625806e-15]\n",
      " [-2.27398744e+01  1.20987691e+02 -1.53648654e-15]\n",
      " [-2.32509858e+01  1.20961272e+02 -1.48239607e-15]\n",
      " [-2.37603750e+01  1.20937514e+02 -1.61138258e-15]\n",
      " [-2.42681964e+01  1.20916364e+02 -1.50147156e-15]\n",
      " [-2.47746065e+01  1.20897756e+02 -8.92164600e-16]\n",
      " [-2.52797610e+01  1.20881617e+02 -5.39223856e-16]\n",
      " [-2.57838129e+01  1.20867863e+02 -9.54429172e-17]\n",
      " [-2.62869102e+01  1.20856405e+02  1.64507784e-16]\n",
      " [-2.67891934e+01  1.20847144e+02  1.72710778e-17]\n",
      " [-2.72907945e+01  1.20839980e+02  6.26230705e-16]\n",
      " [-2.77918352e+01  1.20834808e+02  9.04376586e-16]\n",
      " [-2.82924263e+01  1.20831519e+02  1.45923920e-15]\n",
      " [-2.87926671e+01  1.20830006e+02  2.18073276e-15]\n",
      " [-2.92926453e+01  1.20830162e+02  2.53240189e-15]\n",
      " [-2.97924372e+01  1.20831881e+02  2.08784078e-15]\n",
      " [-3.02921082e+01  1.20835059e+02  1.42127770e-15]\n",
      " [-3.07917134e+01  1.20839598e+02  8.84894975e-16]\n",
      " [-3.12912985e+01  1.20845400e+02  6.63440866e-16]\n",
      " [-3.17909007e+01  1.20852374e+02  7.93559697e-16]\n",
      " [-3.22905498e+01  1.20860433e+02  1.31207534e-15]\n",
      " [-3.27902690e+01  1.20869494e+02  8.26989186e-16]\n",
      " [-3.32900758e+01  1.20879478e+02  1.09016707e-15]\n",
      " [-3.37899830e+01  1.20890312e+02  9.41222981e-16]\n",
      " [-3.42899994e+01  1.20901927e+02  9.40171253e-16]\n",
      " [-3.47901303e+01  1.20914257e+02  9.40077967e-16]\n",
      " [-3.52903785e+01  1.20927242e+02  8.28962378e-16]\n",
      " [-3.57907443e+01  1.20940823e+02  9.20223547e-16]\n",
      " [-3.62912265e+01  1.20954949e+02  9.21294393e-16]\n",
      " [-3.67918224e+01  1.20969566e+02  1.05319019e-15]\n",
      " [-3.72925280e+01  1.20984630e+02  9.74103571e-16]\n",
      " [-3.77933387e+01  1.21000094e+02  8.65503389e-16]\n",
      " [-3.82942490e+01  1.21015917e+02  3.44712796e-16]\n",
      " [-3.87952532e+01  1.21032059e+02  1.41458374e-17]\n",
      " [-3.92963449e+01  1.21048485e+02  6.86784356e-16]\n",
      " [-3.97975177e+01  1.21065158e+02  1.03166371e-15]\n",
      " [-4.02987653e+01  1.21082046e+02  1.06592032e-15]\n",
      " [-4.08000808e+01  1.21099118e+02  7.31431330e-16]\n",
      " [-4.13014579e+01  1.21116345e+02 -4.97879379e-17]\n",
      " [-4.18028900e+01  1.21133700e+02 -4.66189754e-16]\n",
      " [-4.23043708e+01  1.21151157e+02 -9.30196700e-16]\n",
      " [-4.28058940e+01  1.21168692e+02 -1.31756477e-15]\n",
      " [-4.33074538e+01  1.21186281e+02 -1.13004976e-15]\n",
      " [-4.38090443e+01  1.21203905e+02 -9.99380092e-16]\n",
      " [-4.43106599e+01  1.21221541e+02 -9.13328626e-16]\n",
      " [-4.48122954e+01  1.21239171e+02 -9.13405092e-16]\n",
      " [-4.53139457e+01  1.21256777e+02 -6.33469357e-16]\n",
      " [-4.58156060e+01  1.21274343e+02 -1.19715042e-15]\n",
      " [-4.63172718e+01  1.21291852e+02 -1.14942472e-15]\n",
      " [-4.68189387e+01  1.21309289e+02 -4.97287992e-16]\n",
      " [-4.73206029e+01  1.21326641e+02 -1.06980536e-15]\n",
      " [-4.78222604e+01  1.21343893e+02 -1.41344000e-15]\n",
      " [-4.83239078e+01  1.21361034e+02 -1.52124130e-15]\n",
      " [-4.88255419e+01  1.21378052e+02 -1.42886466e-15]\n",
      " [-4.93271595e+01  1.21394936e+02 -1.21010602e-15]\n",
      " [-4.98287580e+01  1.21411676e+02 -9.64513155e-16]\n",
      " [-5.03303347e+01  1.21428261e+02 -1.23073976e-15]\n",
      " [-5.08318873e+01  1.21444684e+02 -6.32808792e-16]\n",
      " [-5.13334137e+01  1.21460935e+02 -9.94005553e-16]\n",
      " [-5.18349119e+01  1.21477006e+02 -8.35771866e-16]\n",
      " [-5.23363802e+01  1.21492890e+02 -1.68941392e-16]\n",
      " [-5.28378169e+01  1.21508580e+02  8.29456362e-17]\n",
      " [-5.33392209e+01  1.21524070e+02  1.58628605e-16]\n",
      " [-5.38405907e+01  1.21539353e+02  6.21153932e-16]\n",
      " [-5.43419254e+01  1.21554425e+02  7.30020993e-18]\n",
      " [-5.48432240e+01  1.21569278e+02 -4.70701171e-16]\n",
      " [-5.53444858e+01  1.21583909e+02 -9.14118087e-16]\n",
      " [-5.58457102e+01  1.21598314e+02 -5.76849208e-16]\n",
      " [-5.63468966e+01  1.21612487e+02 -1.21520465e-15]\n",
      " [-5.68480447e+01  1.21626425e+02 -1.82241502e-15]\n",
      " [-5.73491541e+01  1.21640125e+02 -1.76115503e-15]\n",
      " [-5.78502248e+01  1.21653583e+02 -1.09713899e-15]\n",
      " [-5.83512566e+01  1.21666796e+02 -1.28654558e-15]\n",
      " [-5.88522496e+01  1.21679761e+02 -6.15258527e-16]\n",
      " [-5.93532040e+01  1.21692475e+02 -2.49837565e-16]\n",
      " [-5.98541198e+01  1.21704938e+02 -1.19829783e-16]\n",
      " [-6.03549974e+01  1.21717145e+02  2.50172260e-16]\n",
      " [-6.08558372e+01  1.21729096e+02 -2.32959964e-16]\n",
      " [-6.13566395e+01  1.21740788e+02 -8.20992828e-17]\n",
      " [-6.18574049e+01  1.21752221e+02 -1.56678121e-16]\n",
      " [-6.23581338e+01  1.21763392e+02 -6.19796521e-16]\n",
      " [-6.28588268e+01  1.21774301e+02 -2.66645814e-16]\n",
      " [-6.33594847e+01  1.21784947e+02 -6.02234233e-16]\n",
      " [-6.38601080e+01  1.21795329e+02 -1.30503802e-15]\n",
      " [-6.43606974e+01  1.21805445e+02 -1.33957637e-15]\n",
      " [-6.48612538e+01  1.21815296e+02 -9.33704462e-16]\n",
      " [-6.53617780e+01  1.21824882e+02 -1.19485363e-15]\n",
      " [-6.58622707e+01  1.21834200e+02 -1.08261005e-15]\n",
      " [-6.63627328e+01  1.21843253e+02 -1.30474791e-15]\n",
      " [-6.68631651e+01  1.21852039e+02 -1.49044513e-15]\n",
      " [-6.73635687e+01  1.21860558e+02 -1.87908816e-15]\n",
      " [-6.78639443e+01  1.21868810e+02 -2.65631015e-15]\n",
      " [-6.83642930e+01  1.21876797e+02 -3.11751594e-15]\n",
      " [-6.88646157e+01  1.21884517e+02 -2.83918663e-15]\n",
      " [-6.93649133e+01  1.21891972e+02 -2.91686789e-15]\n",
      " [-6.98651868e+01  1.21899161e+02 -2.78528772e-15]]\n",
      "UKF standard deviation 67.922 meters\n"
     ]
    },
    {
     "data": {
      "image/png": "[encoded data removed]",
      "text/plain": [
       "<Figure size 640x480 with 1 Axes>"
      ]
     },
     "metadata": {},
     "output_type": "display_data"
    }
   ],
   "source": [
    "uxs = []\n",
    "for z in zs:\n",
    "    ukf.predict(u=u)\n",
    "    ukf.update(z)\n",
    "    uxs.append(ukf.x.copy())\n",
    "uxs = np.array(uxs)\n",
    "print(uxs)\n",
    "\n",
    "plt.plot(uxs[:, 0], uxs[:, 1])\n",
    "print(f'UKF standard deviation {np.std(uxs - zs):.3f} meters')"
   ]
  },
  {
   "cell_type": "code",
   "execution_count": null,
   "metadata": {},
   "outputs": [],
   "source": []
  }
 ],
 "metadata": {
  "kernelspec": {
   "display_name": "testpy",
   "language": "python",
   "name": "python3"
  },
  "language_info": {
   "codemirror_mode": {
    "name": "ipython",
    "version": 3
   },
   "file_extension": ".py",
   "mimetype": "text/x-python",
   "name": "python",
   "nbconvert_exporter": "python",
   "pygments_lexer": "ipython3",
   "version": "3.8.17"
  }
 },
 "nbformat": 4,
 "nbformat_minor": 2
}
