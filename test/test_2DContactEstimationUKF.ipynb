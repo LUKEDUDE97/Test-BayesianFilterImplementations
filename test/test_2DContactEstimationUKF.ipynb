{
 "cells": [
  {
   "cell_type": "code",
   "execution_count": 1,
   "metadata": {},
   "outputs": [],
   "source": [
    "import numpy as np\n",
    "import matplotlib.pyplot as plt"
   ]
  },
  {
   "cell_type": "markdown",
   "metadata": {},
   "source": [
    "### Process Model"
   ]
  },
  {
   "cell_type": "code",
   "execution_count": 2,
   "metadata": {},
   "outputs": [],
   "source": [
    "# give an example here first\n",
    "v_sb_b = np.array([2, 2, 0])\n",
    "w_sb_b = np.array([0, 0, 3])\n",
    "bp = np.array([2, 1, 0])"
   ]
  },
  {
   "cell_type": "code",
   "execution_count": 3,
   "metadata": {},
   "outputs": [
    {
     "data": {
      "text/plain": [
       "array([0., 0., 0.])"
      ]
     },
     "execution_count": 3,
     "metadata": {},
     "output_type": "execute_result"
    }
   ],
   "source": [
    "v_bpc_b = np.zeros((3,))\n",
    "v_bpc_b"
   ]
  },
  {
   "cell_type": "markdown",
   "metadata": {},
   "source": [
    "$$\n",
    "v_{bp_c}^b=-v_{sb}^b+-w_{sb}^b\\times b_p = -\\begin{bmatrix}\n",
    " \\mathbf{I} & \\left [ \\mathbf{p_c} \\right ] \n",
    "\\end{bmatrix}\\begin{bmatrix}\n",
    "v_{sb}^b \\\\ w_{sb}^b\n",
    "\\end{bmatrix}\n",
    "$$"
   ]
  },
  {
   "cell_type": "markdown",
   "metadata": {},
   "source": [
    "Direct cross product"
   ]
  },
  {
   "cell_type": "code",
   "execution_count": 37,
   "metadata": {},
   "outputs": [
    {
     "data": {
      "text/plain": [
       "array([ 1, -8,  0])"
      ]
     },
     "execution_count": 37,
     "metadata": {},
     "output_type": "execute_result"
    }
   ],
   "source": [
    "v_bpc_b = -v_sb_b + -np.cross(w_sb_b, bp)\n",
    "v_bpc_b"
   ]
  },
  {
   "cell_type": "markdown",
   "metadata": {},
   "source": [
    "skew-symmetric matrix "
   ]
  },
  {
   "cell_type": "code",
   "execution_count": 5,
   "metadata": {},
   "outputs": [
    {
     "data": {
      "text/plain": [
       "array([[1., 0., 0.],\n",
       "       [0., 1., 0.],\n",
       "       [0., 0., 1.]])"
      ]
     },
     "execution_count": 5,
     "metadata": {},
     "output_type": "execute_result"
    }
   ],
   "source": [
    "def skew(vector):\n",
    "    \"\"\"\n",
    "    this function returns a numpy array with the skew symmetric cross product matrix for vector.\n",
    "    the skew symmetric cross product matrix is defined such that\n",
    "    np.cross(a, b) = np.dot(skew(a), b)\n",
    "\n",
    "    :param vector: An array like vector to create the skew symmetric cross product matrix for\n",
    "    :return: A numpy array of the skew symmetric cross product vector\n",
    "    \"\"\"\n",
    "\n",
    "    return np.array(\n",
    "        [\n",
    "            [0, -vector[2], vector[1]],\n",
    "            [vector[2], 0, -vector[0]],\n",
    "            [-vector[1], vector[0], 0],\n",
    "        ]\n",
    "    )\n",
    "\n",
    "\n",
    "np.identity(3)"
   ]
  },
  {
   "cell_type": "code",
   "execution_count": 38,
   "metadata": {},
   "outputs": [
    {
     "data": {
      "text/plain": [
       "(array([2, 2, 0, 0, 0, 3]),\n",
       " array([[-1., -0., -0., -0., -0.,  1.],\n",
       "        [-0., -1., -0., -0., -0., -2.],\n",
       "        [-0., -0., -1., -1.,  2., -0.]]))"
      ]
     },
     "execution_count": 38,
     "metadata": {},
     "output_type": "execute_result"
    }
   ],
   "source": [
    "I = np.identity(3)\n",
    "pc_ = -skew(bp)  # should be negative\n",
    "B = -np.append(I, pc_, axis=1)\n",
    "xi = np.append(v_sb_b, w_sb_b, axis=0)\n",
    "xi, B"
   ]
  },
  {
   "cell_type": "code",
   "execution_count": 7,
   "metadata": {},
   "outputs": [
    {
     "data": {
      "text/plain": [
       "array([ 1., -8.,  0.])"
      ]
     },
     "execution_count": 7,
     "metadata": {},
     "output_type": "execute_result"
    }
   ],
   "source": [
    "B @ xi"
   ]
  },
  {
   "cell_type": "markdown",
   "metadata": {},
   "source": [
    "WHYYYYYYYYY!!!!"
   ]
  },
  {
   "cell_type": "markdown",
   "metadata": {},
   "source": [
    "$$\n",
    "    \\mathbf{a} \\times \\mathbf{b} = - \\left ( \\mathbf{b} \\times \\mathbf{a} \\right ) \n",
    "$$"
   ]
  },
  {
   "cell_type": "code",
   "execution_count": 40,
   "metadata": {},
   "outputs": [],
   "source": [
    "def cal_vbpc_dot(x, lv, av):\n",
    "    xi = np.append(lv, av, axis=0)\n",
    "    B = -np.append(np.identity(3), -skew(x), axis=1)\n",
    "    return B @ xi"
   ]
  },
  {
   "cell_type": "code",
   "execution_count": 39,
   "metadata": {},
   "outputs": [],
   "source": [
    "def cal_vbpc_cross(x, lv, av):\n",
    "    # v_bpc_b = -v_sb_b + -np.cross(w_sb_b, bp)\n",
    "    return -lv + -np.cross(av, x)"
   ]
  },
  {
   "cell_type": "code",
   "execution_count": 44,
   "metadata": {},
   "outputs": [
    {
     "data": {
      "text/plain": [
       "array([-2., -2.,  0.])"
      ]
     },
     "execution_count": 44,
     "metadata": {},
     "output_type": "execute_result"
    }
   ],
   "source": [
    "tmp = np.array([1, 1, 0])\n",
    "cal_vbpc_dot(tmp, np.array([2, 2, 0]), np.array([0, 0, 0]))\n",
    "# cal_vbpc_cross(tmp, v_sb_b, w_sb_b)"
   ]
  },
  {
   "cell_type": "markdown",
   "metadata": {},
   "source": [
    "State transition function"
   ]
  },
  {
   "cell_type": "code",
   "execution_count": 8,
   "metadata": {},
   "outputs": [],
   "source": [
    "def f_contact(x, lv, av, dt):\n",
    "    input = np.append(lv, av, axis=0)\n",
    "    B = -dt * np.append(np.identity(3), -skew(x), axis=1)\n",
    "    A = np.identity(3)\n",
    "    prior_predict = A @ x + B @ input\n",
    "    return prior_predict"
   ]
  },
  {
   "cell_type": "code",
   "execution_count": 45,
   "metadata": {},
   "outputs": [
    {
     "data": {
      "text/plain": [
       "array([-1., -1.,  0.])"
      ]
     },
     "execution_count": 45,
     "metadata": {},
     "output_type": "execute_result"
    }
   ],
   "source": [
    "f_contact(np.array([1, 1, 0]), np.array([2, 2, 0]), np.array([0, 0, 0]), dt=1)"
   ]
  },
  {
   "cell_type": "markdown",
   "metadata": {},
   "source": [
    "### Measurement Model"
   ]
  },
  {
   "cell_type": "markdown",
   "metadata": {},
   "source": [
    "5-order bivariate polynomial model"
   ]
  },
  {
   "cell_type": "code",
   "execution_count": 10,
   "metadata": {},
   "outputs": [
    {
     "data": {
      "text/plain": [
       "(array([[0.        , 0.05263158, 0.10526316, 0.15789474, 0.21052632,\n",
       "         0.26315789, 0.31578947, 0.36842105, 0.42105263, 0.47368421,\n",
       "         0.52631579, 0.57894737, 0.63157895, 0.68421053, 0.73684211,\n",
       "         0.78947368, 0.84210526, 0.89473684, 0.94736842, 1.        ],\n",
       "        [0.        , 0.05263158, 0.10526316, 0.15789474, 0.21052632,\n",
       "         0.26315789, 0.31578947, 0.36842105, 0.42105263, 0.47368421,\n",
       "         0.52631579, 0.57894737, 0.63157895, 0.68421053, 0.73684211,\n",
       "         0.78947368, 0.84210526, 0.89473684, 0.94736842, 1.        ],\n",
       "        [0.        , 0.05263158, 0.10526316, 0.15789474, 0.21052632,\n",
       "         0.26315789, 0.31578947, 0.36842105, 0.42105263, 0.47368421,\n",
       "         0.52631579, 0.57894737, 0.63157895, 0.68421053, 0.73684211,\n",
       "         0.78947368, 0.84210526, 0.89473684, 0.94736842, 1.        ],\n",
       "        [0.        , 0.05263158, 0.10526316, 0.15789474, 0.21052632,\n",
       "         0.26315789, 0.31578947, 0.36842105, 0.42105263, 0.47368421,\n",
       "         0.52631579, 0.57894737, 0.63157895, 0.68421053, 0.73684211,\n",
       "         0.78947368, 0.84210526, 0.89473684, 0.94736842, 1.        ],\n",
       "        [0.        , 0.05263158, 0.10526316, 0.15789474, 0.21052632,\n",
       "         0.26315789, 0.31578947, 0.36842105, 0.42105263, 0.47368421,\n",
       "         0.52631579, 0.57894737, 0.63157895, 0.68421053, 0.73684211,\n",
       "         0.78947368, 0.84210526, 0.89473684, 0.94736842, 1.        ],\n",
       "        [0.        , 0.05263158, 0.10526316, 0.15789474, 0.21052632,\n",
       "         0.26315789, 0.31578947, 0.36842105, 0.42105263, 0.47368421,\n",
       "         0.52631579, 0.57894737, 0.63157895, 0.68421053, 0.73684211,\n",
       "         0.78947368, 0.84210526, 0.89473684, 0.94736842, 1.        ],\n",
       "        [0.        , 0.05263158, 0.10526316, 0.15789474, 0.21052632,\n",
       "         0.26315789, 0.31578947, 0.36842105, 0.42105263, 0.47368421,\n",
       "         0.52631579, 0.57894737, 0.63157895, 0.68421053, 0.73684211,\n",
       "         0.78947368, 0.84210526, 0.89473684, 0.94736842, 1.        ],\n",
       "        [0.        , 0.05263158, 0.10526316, 0.15789474, 0.21052632,\n",
       "         0.26315789, 0.31578947, 0.36842105, 0.42105263, 0.47368421,\n",
       "         0.52631579, 0.57894737, 0.63157895, 0.68421053, 0.73684211,\n",
       "         0.78947368, 0.84210526, 0.89473684, 0.94736842, 1.        ],\n",
       "        [0.        , 0.05263158, 0.10526316, 0.15789474, 0.21052632,\n",
       "         0.26315789, 0.31578947, 0.36842105, 0.42105263, 0.47368421,\n",
       "         0.52631579, 0.57894737, 0.63157895, 0.68421053, 0.73684211,\n",
       "         0.78947368, 0.84210526, 0.89473684, 0.94736842, 1.        ],\n",
       "        [0.        , 0.05263158, 0.10526316, 0.15789474, 0.21052632,\n",
       "         0.26315789, 0.31578947, 0.36842105, 0.42105263, 0.47368421,\n",
       "         0.52631579, 0.57894737, 0.63157895, 0.68421053, 0.73684211,\n",
       "         0.78947368, 0.84210526, 0.89473684, 0.94736842, 1.        ],\n",
       "        [0.        , 0.05263158, 0.10526316, 0.15789474, 0.21052632,\n",
       "         0.26315789, 0.31578947, 0.36842105, 0.42105263, 0.47368421,\n",
       "         0.52631579, 0.57894737, 0.63157895, 0.68421053, 0.73684211,\n",
       "         0.78947368, 0.84210526, 0.89473684, 0.94736842, 1.        ],\n",
       "        [0.        , 0.05263158, 0.10526316, 0.15789474, 0.21052632,\n",
       "         0.26315789, 0.31578947, 0.36842105, 0.42105263, 0.47368421,\n",
       "         0.52631579, 0.57894737, 0.63157895, 0.68421053, 0.73684211,\n",
       "         0.78947368, 0.84210526, 0.89473684, 0.94736842, 1.        ],\n",
       "        [0.        , 0.05263158, 0.10526316, 0.15789474, 0.21052632,\n",
       "         0.26315789, 0.31578947, 0.36842105, 0.42105263, 0.47368421,\n",
       "         0.52631579, 0.57894737, 0.63157895, 0.68421053, 0.73684211,\n",
       "         0.78947368, 0.84210526, 0.89473684, 0.94736842, 1.        ],\n",
       "        [0.        , 0.05263158, 0.10526316, 0.15789474, 0.21052632,\n",
       "         0.26315789, 0.31578947, 0.36842105, 0.42105263, 0.47368421,\n",
       "         0.52631579, 0.57894737, 0.63157895, 0.68421053, 0.73684211,\n",
       "         0.78947368, 0.84210526, 0.89473684, 0.94736842, 1.        ],\n",
       "        [0.        , 0.05263158, 0.10526316, 0.15789474, 0.21052632,\n",
       "         0.26315789, 0.31578947, 0.36842105, 0.42105263, 0.47368421,\n",
       "         0.52631579, 0.57894737, 0.63157895, 0.68421053, 0.73684211,\n",
       "         0.78947368, 0.84210526, 0.89473684, 0.94736842, 1.        ],\n",
       "        [0.        , 0.05263158, 0.10526316, 0.15789474, 0.21052632,\n",
       "         0.26315789, 0.31578947, 0.36842105, 0.42105263, 0.47368421,\n",
       "         0.52631579, 0.57894737, 0.63157895, 0.68421053, 0.73684211,\n",
       "         0.78947368, 0.84210526, 0.89473684, 0.94736842, 1.        ],\n",
       "        [0.        , 0.05263158, 0.10526316, 0.15789474, 0.21052632,\n",
       "         0.26315789, 0.31578947, 0.36842105, 0.42105263, 0.47368421,\n",
       "         0.52631579, 0.57894737, 0.63157895, 0.68421053, 0.73684211,\n",
       "         0.78947368, 0.84210526, 0.89473684, 0.94736842, 1.        ],\n",
       "        [0.        , 0.05263158, 0.10526316, 0.15789474, 0.21052632,\n",
       "         0.26315789, 0.31578947, 0.36842105, 0.42105263, 0.47368421,\n",
       "         0.52631579, 0.57894737, 0.63157895, 0.68421053, 0.73684211,\n",
       "         0.78947368, 0.84210526, 0.89473684, 0.94736842, 1.        ],\n",
       "        [0.        , 0.05263158, 0.10526316, 0.15789474, 0.21052632,\n",
       "         0.26315789, 0.31578947, 0.36842105, 0.42105263, 0.47368421,\n",
       "         0.52631579, 0.57894737, 0.63157895, 0.68421053, 0.73684211,\n",
       "         0.78947368, 0.84210526, 0.89473684, 0.94736842, 1.        ],\n",
       "        [0.        , 0.05263158, 0.10526316, 0.15789474, 0.21052632,\n",
       "         0.26315789, 0.31578947, 0.36842105, 0.42105263, 0.47368421,\n",
       "         0.52631579, 0.57894737, 0.63157895, 0.68421053, 0.73684211,\n",
       "         0.78947368, 0.84210526, 0.89473684, 0.94736842, 1.        ]]),\n",
       " (20, 20))"
      ]
     },
     "execution_count": 10,
     "metadata": {},
     "output_type": "execute_result"
    }
   ],
   "source": [
    "x = np.linspace(0, 1, 20)\n",
    "y = np.linspace(0, 1, 20)\n",
    "X, Y = np.meshgrid(x, y, copy=False)  # meshgrid ? dimension to 400\n",
    "X, X.shape"
   ]
  },
  {
   "cell_type": "code",
   "execution_count": 11,
   "metadata": {},
   "outputs": [],
   "source": [
    "Z = X**2 + Y**2 + np.random.rand(*X.shape) * 0.01\n",
    "\n",
    "X = X.flatten()\n",
    "Y = Y.flatten()\n",
    "\n",
    "A = np.array(\n",
    "    [X * 0 + 1, X, Y, X**2, X**2 * Y, X**2 * Y**2, Y**2, X * Y**2, X * Y]\n",
    ").T\n",
    "B = Z.flatten()\n",
    "\n",
    "coeff, r, rank, s = np.linalg.lstsq(A, B, rcond=None)"
   ]
  },
  {
   "cell_type": "code",
   "execution_count": 12,
   "metadata": {},
   "outputs": [],
   "source": [
    "def polyfit2d(x, y, z, kx=5, ky=5, order=None):\n",
    "    \"\"\"\n",
    "    Two dimensional polynomial fitting by least squares.\n",
    "    Fits the functional form f(x,y) = z.\n",
    "\n",
    "    Notes\n",
    "    -----\n",
    "    Resultant fit can be plotted with:\n",
    "    np.polynomial.polynomial.polygrid2d(x, y, soln.reshape((kx+1, ky+1)))\n",
    "\n",
    "    Parameters\n",
    "    ----------\n",
    "    x, y: array-like, 1d\n",
    "        x and y coordinates.\n",
    "    z: np.ndarray, 2d\n",
    "        Surface to fit.\n",
    "    kx, ky: int, default is 3\n",
    "        Polynomial order in x and y, respectively.\n",
    "    order: int or None, default is None\n",
    "        If None, all coefficients up to maxiumum kx, ky, ie. up to and including x^kx*y^ky, are considered.\n",
    "        If int, coefficients up to a maximum of kx+ky <= order are considered.\n",
    "\n",
    "    Returns\n",
    "    -------\n",
    "    Return paramters from np.linalg.lstsq.\n",
    "\n",
    "    soln: np.ndarray\n",
    "        Array of polynomial coefficients.\n",
    "    residuals: np.ndarray\n",
    "    rank: int\n",
    "    s: np.ndarray\n",
    "\n",
    "    \"\"\"\n",
    "\n",
    "    # grid coords\n",
    "    x, y = np.meshgrid(x, y)\n",
    "    # coefficient array, up to x^kx, y^ky\n",
    "    coeffs = np.ones((kx + 1, ky + 1))\n",
    "\n",
    "    # solve array\n",
    "    a = np.zeros((coeffs.size, x.size))\n",
    "\n",
    "    # for each coefficient produce array x^i, y^j\n",
    "    for index, (i, j) in enumerate(np.ndindex(coeffs.shape)):\n",
    "        # do not include powers greater than order\n",
    "        if order is not None and i + j > order:\n",
    "            arr = np.zeros_like(x)\n",
    "        else:\n",
    "            arr = coeffs[i, j] * x**i * y**j\n",
    "        a[index] = arr.ravel()\n",
    "\n",
    "    # do leastsq fitting and return leastsq result\n",
    "    print(a.T.shape, np.ravel(z).shape)\n",
    "    return np.linalg.lstsq(a.T, np.ravel(z), rcond=None)"
   ]
  },
  {
   "cell_type": "code",
   "execution_count": 18,
   "metadata": {},
   "outputs": [],
   "source": [
    "import pandas as pd"
   ]
  },
  {
   "cell_type": "code",
   "execution_count": 20,
   "metadata": {},
   "outputs": [
    {
     "data": {
      "text/html": [
       "<div>\n",
       "<style scoped>\n",
       "    .dataframe tbody tr th:only-of-type {\n",
       "        vertical-align: middle;\n",
       "    }\n",
       "\n",
       "    .dataframe tbody tr th {\n",
       "        vertical-align: top;\n",
       "    }\n",
       "\n",
       "    .dataframe thead th {\n",
       "        text-align: right;\n",
       "    }\n",
       "</style>\n",
       "<table border=\"1\" class=\"dataframe\">\n",
       "  <thead>\n",
       "    <tr style=\"text-align: right;\">\n",
       "      <th></th>\n",
       "      <th>X</th>\n",
       "      <th>Y</th>\n",
       "      <th>Z</th>\n",
       "    </tr>\n",
       "  </thead>\n",
       "  <tbody>\n",
       "    <tr>\n",
       "      <th>0</th>\n",
       "      <td>10</td>\n",
       "      <td>115</td>\n",
       "      <td>3.998222</td>\n",
       "    </tr>\n",
       "    <tr>\n",
       "      <th>1</th>\n",
       "      <td>15</td>\n",
       "      <td>115</td>\n",
       "      <td>3.686222</td>\n",
       "    </tr>\n",
       "    <tr>\n",
       "      <th>2</th>\n",
       "      <td>20</td>\n",
       "      <td>115</td>\n",
       "      <td>3.374222</td>\n",
       "    </tr>\n",
       "    <tr>\n",
       "      <th>3</th>\n",
       "      <td>25</td>\n",
       "      <td>115</td>\n",
       "      <td>3.062222</td>\n",
       "    </tr>\n",
       "    <tr>\n",
       "      <th>4</th>\n",
       "      <td>30</td>\n",
       "      <td>115</td>\n",
       "      <td>2.730000</td>\n",
       "    </tr>\n",
       "    <tr>\n",
       "      <th>...</th>\n",
       "      <td>...</td>\n",
       "      <td>...</td>\n",
       "      <td>...</td>\n",
       "    </tr>\n",
       "    <tr>\n",
       "      <th>165</th>\n",
       "      <td>70</td>\n",
       "      <td>160</td>\n",
       "      <td>-6.110000</td>\n",
       "    </tr>\n",
       "    <tr>\n",
       "      <th>166</th>\n",
       "      <td>75</td>\n",
       "      <td>160</td>\n",
       "      <td>-6.095555</td>\n",
       "    </tr>\n",
       "    <tr>\n",
       "      <th>167</th>\n",
       "      <td>80</td>\n",
       "      <td>160</td>\n",
       "      <td>-5.936666</td>\n",
       "    </tr>\n",
       "    <tr>\n",
       "      <th>168</th>\n",
       "      <td>85</td>\n",
       "      <td>160</td>\n",
       "      <td>-5.618889</td>\n",
       "    </tr>\n",
       "    <tr>\n",
       "      <th>169</th>\n",
       "      <td>90</td>\n",
       "      <td>160</td>\n",
       "      <td>-5.286667</td>\n",
       "    </tr>\n",
       "  </tbody>\n",
       "</table>\n",
       "<p>170 rows × 3 columns</p>\n",
       "</div>"
      ],
      "text/plain": [
       "      X    Y         Z\n",
       "0    10  115  3.998222\n",
       "1    15  115  3.686222\n",
       "2    20  115  3.374222\n",
       "3    25  115  3.062222\n",
       "4    30  115  2.730000\n",
       "..   ..  ...       ...\n",
       "165  70  160 -6.110000\n",
       "166  75  160 -6.095555\n",
       "167  80  160 -5.936666\n",
       "168  85  160 -5.618889\n",
       "169  90  160 -5.286667\n",
       "\n",
       "[170 rows x 3 columns]"
      ]
     },
     "execution_count": 20,
     "metadata": {},
     "output_type": "execute_result"
    }
   ],
   "source": [
    "dataframe = pd.read_excel(\"FullRangeData.xlsx\", sheet_name=\"Formated_MannulyFixed\")\n",
    "dataframe"
   ]
  },
  {
   "cell_type": "code",
   "execution_count": 21,
   "metadata": {},
   "outputs": [
    {
     "data": {
      "text/plain": [
       "(array([ 3.99822213,  3.68622213,  3.37422214,  3.06222214,  2.72999997,\n",
       "         2.46999984,  2.12333332,  1.80555549,  1.50944439,  1.19888884,\n",
       "         0.88111108,  0.51999998,  0.2311111 , -0.07222222, -0.40588887,\n",
       "        -0.72511108, -1.0443333 ,  4.05586227,  3.77192578,  3.42333317,\n",
       "         3.17777771,  3.01888874,  2.68666659,  2.38333323,  1.97888882,\n",
       "         1.55999994,  1.12666663,  0.75111108,  0.31777777,  0.01444444,\n",
       "        -0.33222221, -0.53444442, -0.86666663, -1.24634916,  4.20539674,\n",
       "         3.78444441,  3.68333321,  3.42333317,  3.22111109,  2.91777762,\n",
       "         2.51333316,  2.15222218,  1.57444439,  1.11222218,  0.63555553,\n",
       "         0.11555555, -0.25999999, -0.66444442, -0.98222219, -1.19888884,\n",
       "        -1.32888884,  4.21777768,  4.11666648,  4.02999976,  3.76999995,\n",
       "         3.55333315,  3.23555552,  2.8166666 ,  2.31111105,  1.52388883,\n",
       "         1.03999996,  0.44777776, -0.15888888, -0.60666664, -1.05444441,\n",
       "        -1.45888884, -1.55999994, -1.80555549,  4.62222205,  4.49222215,\n",
       "         4.40555551,  4.2755555 ,  4.00111095,  3.62555541,  3.13444434,\n",
       "         2.51333321,  1.63222216,  0.9533333 ,  0.21666666, -0.50555554,\n",
       "        -1.15555551, -1.53111105, -1.92111104, -2.06555548, -2.23888887,\n",
       "         4.92555523,  4.92555523,  4.86777751,  4.75222211,  4.46333318,\n",
       "         4.13111093,  3.59666652,  2.87444433,  1.69722217,  0.79444442,\n",
       "        -0.04333333, -0.96777774, -1.64666661, -2.18111114, -2.48444427,\n",
       "        -2.67222219, -2.68666665,  5.34444438,  5.3877777 ,  5.41666667,\n",
       "         5.31555547,  5.17111089,  4.7233332 ,  4.1744443 ,  3.24999995,\n",
       "         1.76222221,  0.67888886, -0.49111109, -1.61777772, -2.38333321,\n",
       "        -2.81666658, -3.16333326, -3.27888881, -3.24999995,  5.69111088,\n",
       "         5.83555539,  5.83555545,  5.92222193,  5.76333316,  5.51777765,\n",
       "         4.91111077,  3.871111  ,  1.89222215,  0.40444443, -1.19888884,\n",
       "        -2.51333316, -3.29333329, -3.78444439, -3.98666644, -3.92888872,\n",
       "        -3.89999986,  5.99444405,  6.25444423,  6.44222217,  6.49999984,\n",
       "         6.48555549,  6.28333314,  5.76333316,  4.76666657,  2.12333322,\n",
       "         0.13      , -2.13777775, -3.63999987, -4.44888888, -4.82444429,\n",
       "        -4.88222196, -4.75222211, -4.6077776 ,  6.39888875,  6.68777747,\n",
       "         6.97666634,  7.10666625,  7.27999973,  7.25111082,  6.91888867,\n",
       "         5.93666638,  2.4699999 , -0.41888887, -3.55333312, -5.31555547,\n",
       "        -6.10999966, -6.0955552 , -5.93666633, -5.6188887 , -5.28666655]),\n",
       " (170,))"
      ]
     },
     "execution_count": 21,
     "metadata": {},
     "output_type": "execute_result"
    }
   ],
   "source": [
    "z = np.array(dataframe)[:, 2]\n",
    "z, z.shape"
   ]
  },
  {
   "cell_type": "code",
   "execution_count": 22,
   "metadata": {},
   "outputs": [
    {
     "data": {
      "text/plain": [
       "(10, 17)"
      ]
     },
     "execution_count": 22,
     "metadata": {},
     "output_type": "execute_result"
    }
   ],
   "source": [
    "x = np.linspace(10, 90, 17)\n",
    "y = np.linspace(115, 160, 10)\n",
    "X, Y = np.meshgrid(x, y)\n",
    "X.shape"
   ]
  },
  {
   "cell_type": "code",
   "execution_count": 23,
   "metadata": {},
   "outputs": [
    {
     "name": "stdout",
     "output_type": "stream",
     "text": [
      "(170, 36) (170,)\n"
     ]
    }
   ],
   "source": [
    "coeff, r, rank, s = polyfit2d(x, y, z)"
   ]
  },
  {
   "cell_type": "code",
   "execution_count": 24,
   "metadata": {},
   "outputs": [
    {
     "data": {
      "text/plain": [
       "(36,)"
      ]
     },
     "execution_count": 24,
     "metadata": {},
     "output_type": "execute_result"
    }
   ],
   "source": [
    "coeff.shape"
   ]
  },
  {
   "cell_type": "code",
   "execution_count": 25,
   "metadata": {},
   "outputs": [
    {
     "name": "stdout",
     "output_type": "stream",
     "text": [
      "(17, 10)\n"
     ]
    },
    {
     "data": {
      "text/plain": [
       "<matplotlib.image.AxesImage at 0x213f0219370>"
      ]
     },
     "execution_count": 25,
     "metadata": {},
     "output_type": "execute_result"
    },
    {
     "data": {
      "image/png": "[encoded data removed]",
      "text/plain": [
       "<Figure size 400x680 with 1 Axes>"
      ]
     },
     "metadata": {},
     "output_type": "display_data"
    }
   ],
   "source": [
    "fitted_surf = np.polynomial.polynomial.polygrid2d(x, y, coeff.reshape((6, 6)))\n",
    "print(fitted_surf.shape)\n",
    "plt.matshow(fitted_surf)"
   ]
  },
  {
   "cell_type": "markdown",
   "metadata": {},
   "source": [
    "RMSE"
   ]
  },
  {
   "cell_type": "code",
   "execution_count": 26,
   "metadata": {},
   "outputs": [
    {
     "data": {
      "text/plain": [
       "(array([[ 3.35594568,  3.75343317,  4.15676144,  4.55872051,  4.95088149,\n",
       "          5.32352467,  5.66556742,  5.96449227,  6.20627482,  6.3753118 ],\n",
       "        [ 3.20562505,  3.56509503,  3.92873682,  4.29027158,  4.64239371,\n",
       "          4.97671111,  5.28368553,  5.55257281,  5.77136323,  5.92672175],\n",
       "        [ 2.99477729,  3.34446337,  3.71260389,  4.09744418,  4.4968033 ,\n",
       "          4.9080457 ,  5.32805284,  5.75319477,  6.17930183,  6.60163619],\n",
       "        [ 2.76304906,  3.10215945,  3.477582  ,  3.89301339,  4.35239754,\n",
       "          4.8599278 ,  5.42004921,  6.03746068,  6.71711725,  7.46423229],\n",
       "        [ 2.53199172,  2.84282771,  3.20350558,  3.62226564,  4.10808968,\n",
       "          4.67071673,  5.32065883,  6.06921679,  6.92849594,  7.91142187],\n",
       "        [ 2.30875398,  2.56673935,  2.87959244,  3.25808872,  3.71388789,\n",
       "          4.25953341,  4.90845189,  5.67495259,  6.57422682,  7.62234747],\n",
       "        [ 2.08977468,  2.27139611,  2.503212  ,  2.79606169,  3.16136411,\n",
       "          3.61106201,  4.15756629,  4.81370026,  5.59264391,  6.50787817],\n",
       "        [ 1.86447549,  1.95313397,  2.07865355,  2.24954494,  2.47412293,\n",
       "          2.7603516 ,  3.11568937,  3.54693423,  4.06006884,  4.66010568],\n",
       "        [ 1.61895368,  1.6087268 ,  1.61589451,  1.64477007,  1.69827054,\n",
       "          1.77761778,  1.88203957,  2.00847061,  2.15125357,  2.30184016],\n",
       "        [ 1.3396748 ,  1.23699011,  1.12936868,  1.01592995,  0.8928835 ,\n",
       "          0.75304434,  0.58534818,  0.37436671,  0.09982291, -0.26389371],\n",
       "        [ 1.01716545,  0.84038474,  0.6367345 ,  0.40026862,  0.12047776,\n",
       "         -0.21841509, -0.63815899, -1.16717946, -1.84128287, -2.70436087],\n",
       "        [ 0.64970598,  0.42662055,  0.15764329, -0.16682869, -0.56252257,\n",
       "         -1.05223544, -1.6667799 , -2.44592971, -3.4393654 , -4.70761988],\n",
       "        [ 0.24702327,  0.01026011, -0.28749248, -0.65674561, -1.11531627,\n",
       "         -1.68951849, -2.41535455, -3.33970616, -4.52152561, -6.03302697],\n",
       "        [-0.16601662, -0.38567754, -0.67873094, -1.05254465, -1.52225612,\n",
       "         -2.11219126, -2.85728332, -3.80449177, -5.01422119, -6.5617401 ],\n",
       "        [-0.54571563, -0.72811325, -0.99783255, -1.35387722, -1.80238007,\n",
       "         -2.35820437, -3.04654522, -3.90453082, -4.9828239 , -6.34722301],\n",
       "        [-0.82585106, -0.97230405, -1.22949189, -1.58189366, -2.01894229,\n",
       "         -2.5367304 , -3.13971622, -3.84242942, -4.67117703, -5.66574926],\n",
       "        [-0.91398275, -1.06023939, -1.36256935, -1.78415329, -2.28894432,\n",
       "         -2.84336219, -3.41798753, -3.98925605, -4.54115277, -5.06690627]]),\n",
       " (17, 10))"
      ]
     },
     "execution_count": 26,
     "metadata": {},
     "output_type": "execute_result"
    }
   ],
   "source": [
    "fitted_surf, fitted_surf.shape"
   ]
  },
  {
   "cell_type": "code",
   "execution_count": 27,
   "metadata": {},
   "outputs": [
    {
     "data": {
      "text/plain": [
       "array([[ 3.99822213,  4.05586227,  4.20539674,  4.21777768,  4.62222205,\n",
       "         4.92555523,  5.34444438,  5.69111088,  5.99444405,  6.39888875],\n",
       "       [ 3.68622213,  3.77192578,  3.78444441,  4.11666648,  4.49222215,\n",
       "         4.92555523,  5.3877777 ,  5.83555539,  6.25444423,  6.68777747],\n",
       "       [ 3.37422214,  3.42333317,  3.68333321,  4.02999976,  4.40555551,\n",
       "         4.86777751,  5.41666667,  5.83555545,  6.44222217,  6.97666634],\n",
       "       [ 3.06222214,  3.17777771,  3.42333317,  3.76999995,  4.2755555 ,\n",
       "         4.75222211,  5.31555547,  5.92222193,  6.49999984,  7.10666625],\n",
       "       [ 2.72999997,  3.01888874,  3.22111109,  3.55333315,  4.00111095,\n",
       "         4.46333318,  5.17111089,  5.76333316,  6.48555549,  7.27999973],\n",
       "       [ 2.46999984,  2.68666659,  2.91777762,  3.23555552,  3.62555541,\n",
       "         4.13111093,  4.7233332 ,  5.51777765,  6.28333314,  7.25111082],\n",
       "       [ 2.12333332,  2.38333323,  2.51333316,  2.8166666 ,  3.13444434,\n",
       "         3.59666652,  4.1744443 ,  4.91111077,  5.76333316,  6.91888867],\n",
       "       [ 1.80555549,  1.97888882,  2.15222218,  2.31111105,  2.51333321,\n",
       "         2.87444433,  3.24999995,  3.871111  ,  4.76666657,  5.93666638],\n",
       "       [ 1.50944439,  1.55999994,  1.57444439,  1.52388883,  1.63222216,\n",
       "         1.69722217,  1.76222221,  1.89222215,  2.12333322,  2.4699999 ],\n",
       "       [ 1.19888884,  1.12666663,  1.11222218,  1.03999996,  0.9533333 ,\n",
       "         0.79444442,  0.67888886,  0.40444443,  0.13      , -0.41888887],\n",
       "       [ 0.88111108,  0.75111108,  0.63555553,  0.44777776,  0.21666666,\n",
       "        -0.04333333, -0.49111109, -1.19888884, -2.13777775, -3.55333312],\n",
       "       [ 0.51999998,  0.31777777,  0.11555555, -0.15888888, -0.50555554,\n",
       "        -0.96777774, -1.61777772, -2.51333316, -3.63999987, -5.31555547],\n",
       "       [ 0.2311111 ,  0.01444444, -0.25999999, -0.60666664, -1.15555551,\n",
       "        -1.64666661, -2.38333321, -3.29333329, -4.44888888, -6.10999966],\n",
       "       [-0.07222222, -0.33222221, -0.66444442, -1.05444441, -1.53111105,\n",
       "        -2.18111114, -2.81666658, -3.78444439, -4.82444429, -6.0955552 ],\n",
       "       [-0.40588887, -0.53444442, -0.98222219, -1.45888884, -1.92111104,\n",
       "        -2.48444427, -3.16333326, -3.98666644, -4.88222196, -5.93666633],\n",
       "       [-0.72511108, -0.86666663, -1.19888884, -1.55999994, -2.06555548,\n",
       "        -2.67222219, -3.27888881, -3.92888872, -4.75222211, -5.6188887 ],\n",
       "       [-1.0443333 , -1.24634916, -1.32888884, -1.80555549, -2.23888887,\n",
       "        -2.68666665, -3.24999995, -3.89999986, -4.6077776 , -5.28666655]])"
      ]
     },
     "execution_count": 27,
     "metadata": {},
     "output_type": "execute_result"
    }
   ],
   "source": [
    "z.reshape(10, 17).T"
   ]
  },
  {
   "cell_type": "code",
   "execution_count": 28,
   "metadata": {},
   "outputs": [],
   "source": [
    "t1 = np.array([[2, 3], [1, 4]])\n",
    "t2 = np.array([[1, 5], [2, 4]])\n",
    "rms = np.sqrt(np.mean((t1 - t2) ** 2))"
   ]
  },
  {
   "cell_type": "code",
   "execution_count": 29,
   "metadata": {},
   "outputs": [
    {
     "name": "stdout",
     "output_type": "stream",
     "text": [
      "RMS residual = 0.23193393244515742\n"
     ]
    }
   ],
   "source": [
    "rms = np.sqrt(np.mean((z.reshape(10, 17).T - fitted_surf) ** 2))\n",
    "print(\"RMS residual =\", rms)"
   ]
  },
  {
   "cell_type": "code",
   "execution_count": 30,
   "metadata": {},
   "outputs": [
    {
     "data": {
      "text/plain": [
       "0.9944280222772985"
      ]
     },
     "execution_count": 30,
     "metadata": {},
     "output_type": "execute_result"
    }
   ],
   "source": [
    "from sklearn.metrics import r2_score\n",
    "\n",
    "r2_score(z.reshape(10, 17).T, fitted_surf)"
   ]
  },
  {
   "cell_type": "markdown",
   "metadata": {},
   "source": [
    "3D Plot"
   ]
  },
  {
   "cell_type": "code",
   "execution_count": 31,
   "metadata": {},
   "outputs": [
    {
     "data": {
      "image/png": "[encoded data removed]",
      "text/plain": [
       "<Figure size 640x480 with 1 Axes>"
      ]
     },
     "metadata": {},
     "output_type": "display_data"
    }
   ],
   "source": [
    "fig = plt.figure()\n",
    "ax = fig.add_subplot(projection=\"3d\")\n",
    "ax.plot_surface(X, Y, fitted_surf.T, cmap=\"viridis\")\n",
    "# cset = ax.contourf(X, Y, Z-fitted_surf.T, zdir='z', offset=-4, cmap='viridis')\n",
    "# ax.set_zlim(-4,np.max(fitted_surf))\n",
    "plt.show()"
   ]
  },
  {
   "cell_type": "markdown",
   "metadata": {},
   "source": [
    "### Use this measurement model to generate some synthesis data along a fake trajectory : add some noise into it manually"
   ]
  },
  {
   "cell_type": "code",
   "execution_count": 46,
   "metadata": {},
   "outputs": [
    {
     "data": {
      "text/plain": [
       "array([10.        , 10.80808081, 11.61616162, 12.42424242, 13.23232323,\n",
       "       14.04040404, 14.84848485, 15.65656566, 16.46464646, 17.27272727,\n",
       "       18.08080808, 18.88888889, 19.6969697 , 20.50505051, 21.31313131,\n",
       "       22.12121212, 22.92929293, 23.73737374, 24.54545455, 25.35353535,\n",
       "       26.16161616, 26.96969697, 27.77777778, 28.58585859, 29.39393939,\n",
       "       30.2020202 , 31.01010101, 31.81818182, 32.62626263, 33.43434343,\n",
       "       34.24242424, 35.05050505, 35.85858586, 36.66666667, 37.47474747,\n",
       "       38.28282828, 39.09090909, 39.8989899 , 40.70707071, 41.51515152,\n",
       "       42.32323232, 43.13131313, 43.93939394, 44.74747475, 45.55555556,\n",
       "       46.36363636, 47.17171717, 47.97979798, 48.78787879, 49.5959596 ,\n",
       "       50.4040404 , 51.21212121, 52.02020202, 52.82828283, 53.63636364,\n",
       "       54.44444444, 55.25252525, 56.06060606, 56.86868687, 57.67676768,\n",
       "       58.48484848, 59.29292929, 60.1010101 , 60.90909091, 61.71717172,\n",
       "       62.52525253, 63.33333333, 64.14141414, 64.94949495, 65.75757576,\n",
       "       66.56565657, 67.37373737, 68.18181818, 68.98989899, 69.7979798 ,\n",
       "       70.60606061, 71.41414141, 72.22222222, 73.03030303, 73.83838384,\n",
       "       74.64646465, 75.45454545, 76.26262626, 77.07070707, 77.87878788,\n",
       "       78.68686869, 79.49494949, 80.3030303 , 81.11111111, 81.91919192,\n",
       "       82.72727273, 83.53535354, 84.34343434, 85.15151515, 85.95959596,\n",
       "       86.76767677, 87.57575758, 88.38383838, 89.19191919, 90.        ])"
      ]
     },
     "execution_count": 46,
     "metadata": {},
     "output_type": "execute_result"
    }
   ],
   "source": [
    "# Start point\n",
    "X_start = 10\n",
    "Y_start = 140\n",
    "\n",
    "# End point\n",
    "X_end = 90\n",
    "Y_end = 140\n",
    "\n",
    "np.linspace(X_start, X_end, 100)"
   ]
  },
  {
   "cell_type": "code",
   "execution_count": 47,
   "metadata": {},
   "outputs": [
    {
     "data": {
      "text/plain": [
       "5.323524665875066"
      ]
     },
     "execution_count": 47,
     "metadata": {},
     "output_type": "execute_result"
    }
   ],
   "source": [
    "val = np.polynomial.polynomial.polygrid2d(X_start, Y_start, coeff.reshape((6, 6)))\n",
    "val"
   ]
  },
  {
   "cell_type": "code",
   "execution_count": 49,
   "metadata": {},
   "outputs": [
    {
     "data": {
      "text/plain": [
       "(array([ 5.32352467e+00,  5.26641952e+00,  5.21532970e+00,  5.16983817e+00,\n",
       "         5.12954056e+00,  5.09404496e+00,  5.06297181e+00,  5.03595370e+00,\n",
       "         5.01263525e+00,  4.99267295e+00,  4.97573497e+00,  4.96150104e+00,\n",
       "         4.94966226e+00,  4.93992099e+00,  4.93199064e+00,  4.92559554e+00,\n",
       "         4.92047081e+00,  4.91636213e+00,  4.91302565e+00,  4.91022783e+00,\n",
       "         4.90774522e+00,  4.90536439e+00,  4.90288170e+00,  4.90010318e+00,\n",
       "         4.89684438e+00,  4.89293019e+00,  4.88819468e+00,  4.88248098e+00,\n",
       "         4.87564109e+00,  4.86753572e+00,  4.85803417e+00,  4.84701412e+00,\n",
       "         4.83436152e+00,  4.81997041e+00,  4.80374278e+00,  4.78558837e+00,\n",
       "         4.76542459e+00,  4.74317628e+00,  4.71877561e+00,  4.69216188e+00,\n",
       "         4.66328143e+00,  4.63208741e+00,  4.59853964e+00,  4.56260451e+00,\n",
       "         4.52425475e+00,  4.48346930e+00,  4.44023317e+00,  4.39453728e+00,\n",
       "         4.34637825e+00,  4.29575834e+00,  4.24268520e+00,  4.18717176e+00,\n",
       "         4.12923609e+00,  4.06890117e+00,  4.00619484e+00,  3.94114954e+00,\n",
       "         3.87380221e+00,  3.80419414e+00,  3.73237076e+00,  3.65838156e+00,\n",
       "         3.58227985e+00,  3.50412266e+00,  3.42397059e+00,  3.34188759e+00,\n",
       "         3.25794086e+00,  3.17220070e+00,  3.08474029e+00,  2.99563560e+00,\n",
       "         2.90496520e+00,  2.81281011e+00,  2.71925363e+00,  2.62438122e+00,\n",
       "         2.52828029e+00,  2.43104010e+00,  2.33275156e+00,  2.23350708e+00,\n",
       "         2.13340045e+00,  2.03252663e+00,  1.93098162e+00,  1.82886232e+00,\n",
       "         1.72626632e+00,  1.62329182e+00,  1.52003739e+00,  1.41660189e+00,\n",
       "         1.31308425e+00,  1.20958335e+00,  1.10619786e+00,  1.00302607e+00,\n",
       "         9.00165734e-01,  7.97713926e-01,  6.95766877e-01,  5.94419814e-01,\n",
       "         4.93766808e-01,  3.93900615e-01,  2.94912522e-01,  1.96892183e-01,\n",
       "         9.99274728e-02,  4.10432064e-03, -9.04934410e-02, -1.83784236e-01,\n",
       "        -2.75688898e-01, -3.66130833e-01, -4.55036171e-01, -5.42333924e-01,\n",
       "        -6.27956145e-01, -7.11838082e-01, -7.93918336e-01, -8.74139019e-01,\n",
       "        -9.52445909e-01, -1.02878861e+00, -1.10312070e+00, -1.17539990e+00,\n",
       "        -1.24558822e+00, -1.31365213e+00, -1.37956270e+00, -1.44329576e+00,\n",
       "        -1.50483208e+00, -1.56415748e+00, -1.62126305e+00, -1.67614523e+00,\n",
       "        -1.72880605e+00, -1.77925322e+00, -1.82750031e+00, -1.87356693e+00,\n",
       "        -1.91747885e+00, -1.95926818e+00, -1.99897350e+00, -2.03664007e+00,\n",
       "        -2.07231993e+00, -2.10607209e+00, -2.13796266e+00, -2.16806505e+00,\n",
       "        -2.19646007e+00, -2.22323615e+00, -2.24848944e+00, -2.27232400e+00,\n",
       "        -2.29485195e+00, -2.31619362e+00, -2.33647771e+00, -2.35584145e+00,\n",
       "        -2.37443076e+00, -2.39240039e+00, -2.40991411e+00, -2.42714482e+00,\n",
       "        -2.44427475e+00, -2.46149560e+00, -2.47900868e+00, -2.49702510e+00,\n",
       "        -2.51576589e+00, -2.53546220e+00, -2.55635542e+00, -2.57869735e+00,\n",
       "        -2.60275036e+00, -2.62878754e+00, -2.65709287e+00, -2.68796136e+00,\n",
       "        -2.72169921e+00, -2.75862398e+00, -2.79906473e+00, -2.84336219e+00]),\n",
       " (160,))"
      ]
     },
     "execution_count": 49,
     "metadata": {},
     "output_type": "execute_result"
    }
   ],
   "source": [
    "trajecotry_ = np.polynomial.polynomial.polygrid2d(\n",
    "    np.linspace(X_start, X_end, 160),\n",
    "    140,\n",
    "    coeff.reshape((6, 6)),\n",
    ")\n",
    "trajecotry_, trajecotry_.shape"
   ]
  },
  {
   "cell_type": "markdown",
   "metadata": {},
   "source": [
    "Fictitious measurement noise"
   ]
  },
  {
   "cell_type": "code",
   "execution_count": 50,
   "metadata": {},
   "outputs": [],
   "source": [
    "# measurement standard deviation, np.sqrt(variance)\n",
    "\n",
    "z_std = 1.0"
   ]
  },
  {
   "cell_type": "code",
   "execution_count": 51,
   "metadata": {},
   "outputs": [],
   "source": [
    "from numpy.random import randn\n",
    "\n",
    "trajecotry_p = (\n",
    "    trajecotry_\n",
    "    + randn(\n",
    "        160,\n",
    "    )\n",
    "    * z_std\n",
    ")"
   ]
  },
  {
   "cell_type": "markdown",
   "metadata": {},
   "source": [
    "Fictitious control input : linear and angular vel"
   ]
  },
  {
   "cell_type": "code",
   "execution_count": null,
   "metadata": {},
   "outputs": [],
   "source": [
    "lv = np.array([0.5, 0, 0])\n",
    "av = np.array([0, 0, 0])"
   ]
  },
  {
   "cell_type": "markdown",
   "metadata": {},
   "source": [
    "Process and Measurement Noise"
   ]
  },
  {
   "cell_type": "code",
   "execution_count": 56,
   "metadata": {},
   "outputs": [
    {
     "data": {
      "text/plain": [
       "(array([[0.05379335]]), 0.23193393244515742)"
      ]
     },
     "execution_count": 56,
     "metadata": {},
     "output_type": "execute_result"
    }
   ],
   "source": [
    "# Measurement Noise\n",
    "R = np.array([[rms**2]])\n",
    "R, rms"
   ]
  },
  {
   "cell_type": "code",
   "execution_count": 59,
   "metadata": {},
   "outputs": [
    {
     "data": {
      "text/plain": [
       "array([[0.001, 0.   ],\n",
       "       [0.   , 0.001]])"
      ]
     },
     "execution_count": 59,
     "metadata": {},
     "output_type": "execute_result"
    }
   ],
   "source": [
    "# Process Noise\n",
    "from filterpy.common import Q_discrete_white_noise\n",
    "\n",
    "# Q_discrete_white_noise(dim=2, dt=1., var=.001)\n",
    "\n",
    "# X- and Y- coordinate is independant therefore, \n",
    "Q = np.array([[.001, 0], [0, .001]])\n",
    "Q"
   ]
  }
 ],
 "metadata": {
  "kernelspec": {
   "display_name": "testpy",
   "language": "python",
   "name": "python3"
  },
  "language_info": {
   "codemirror_mode": {
    "name": "ipython",
    "version": 3
   },
   "file_extension": ".py",
   "mimetype": "text/x-python",
   "name": "python",
   "nbconvert_exporter": "python",
   "pygments_lexer": "ipython3",
   "version": "3.8.17"
  }
 },
 "nbformat": 4,
 "nbformat_minor": 2
}
