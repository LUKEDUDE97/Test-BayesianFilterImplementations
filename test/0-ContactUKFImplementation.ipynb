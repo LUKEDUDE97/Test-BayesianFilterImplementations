{
 "cells": [
  {
   "cell_type": "code",
   "execution_count": 1,
   "metadata": {},
   "outputs": [],
   "source": [
    "import numpy as np\n",
    "import math\n",
    "import matplotlib.pyplot as plt"
   ]
  },
  {
   "cell_type": "markdown",
   "metadata": {},
   "source": [
    "## State variables"
   ]
  },
  {
   "cell_type": "markdown",
   "metadata": {},
   "source": [
    "$$ \\mathit{\\mathbf{x}}  = [x, y, z] $$"
   ]
  },
  {
   "cell_type": "markdown",
   "metadata": {},
   "source": [
    "where z = 0 in 2D scene"
   ]
  },
  {
   "cell_type": "markdown",
   "metadata": {},
   "source": [
    "## Process Model & Q "
   ]
  },
  {
   "cell_type": "code",
   "execution_count": 2,
   "metadata": {},
   "outputs": [],
   "source": [
    "def skew(vector):\n",
    "    \"\"\"\n",
    "    this function returns a numpy array with the skew symmetric cross product matrix for vector.\n",
    "    the skew symmetric cross product matrix is defined such that\n",
    "    np.cross(a, b) = np.dot(skew(a), b)\n",
    "\n",
    "    :param vector: An array like vector to create the skew symmetric cross product matrix for\n",
    "    :return: A numpy array of the skew symmetric cross product vector\n",
    "    \"\"\"\n",
    "\n",
    "    return np.array(\n",
    "        [\n",
    "            [0, -vector[2], vector[1]],\n",
    "            [vector[2], 0, -vector[0]],\n",
    "            [-vector[1], vector[0], 0],\n",
    "        ]\n",
    "    )"
   ]
  },
  {
   "cell_type": "code",
   "execution_count": 3,
   "metadata": {},
   "outputs": [],
   "source": [
    "def f_contact(x, dt, u):\n",
    "    A = np.identity(3)\n",
    "    B = -dt * np.append(np.identity(3), -skew(x), axis=1)\n",
    "    prior_ = A @ x - B @ u # DYX: it should be plus, but here there's a coordinate translation needed to be done !!!\n",
    "    return prior_"
   ]
  },
  {
   "cell_type": "code",
   "execution_count": 4,
   "metadata": {},
   "outputs": [],
   "source": [
    "# Process Noise\n",
    "Q = np.array([[.001, 0, 0], [0, .001, 0], [0, 0, .00001]])"
   ]
  },
  {
   "cell_type": "markdown",
   "metadata": {},
   "source": [
    "## Measurement Model & R"
   ]
  },
  {
   "cell_type": "code",
   "execution_count": 5,
   "metadata": {},
   "outputs": [],
   "source": [
    "def polyfit2d(x, y, z, kx=5, ky=5, order=None):\n",
    "    \"\"\"\n",
    "    Two dimensional polynomial fitting by least squares.\n",
    "    Fits the functional form f(x,y) = z.\n",
    "\n",
    "    Notes\n",
    "    -----\n",
    "    Resultant fit can be plotted with:\n",
    "    np.polynomial.polynomial.polygrid2d(x, y, soln.reshape((kx+1, ky+1)))\n",
    "\n",
    "    Parameters\n",
    "    ----------\n",
    "    x, y: array-like, 1d\n",
    "        x and y coordinates.\n",
    "    z: np.ndarray, 2d\n",
    "        Surface to fit.\n",
    "    kx, ky: int, default is 3\n",
    "        Polynomial order in x and y, respectively.\n",
    "    order: int or None, default is None\n",
    "        If None, all coefficients up to maxiumum kx, ky, ie. up to and including x^kx*y^ky, are considered.\n",
    "        If int, coefficients up to a maximum of kx+ky <= order are considered.\n",
    "\n",
    "    Returns\n",
    "    -------\n",
    "    Return paramters from np.linalg.lstsq.\n",
    "\n",
    "    soln: np.ndarray\n",
    "        Array of polynomial coefficients.\n",
    "    residuals: np.ndarray\n",
    "    rank: int\n",
    "    s: np.ndarray\n",
    "\n",
    "    \"\"\"\n",
    "\n",
    "    # grid coords\n",
    "    x, y = np.meshgrid(x, y)\n",
    "    # coefficient array, up to x^kx, y^ky\n",
    "    coeffs = np.ones((kx + 1, ky + 1))\n",
    "\n",
    "    # solve array\n",
    "    a = np.zeros((coeffs.size, x.size))\n",
    "\n",
    "    # for each coefficient produce array x^i, y^j\n",
    "    for index, (i, j) in enumerate(np.ndindex(coeffs.shape)):\n",
    "        # do not include powers greater than order\n",
    "        if order is not None and i + j > order:\n",
    "            arr = np.zeros_like(x)\n",
    "        else:\n",
    "            arr = coeffs[i, j] * x**i * y**j\n",
    "        a[index] = arr.ravel()\n",
    "\n",
    "    # do leastsq fitting and return leastsq result\n",
    "    print(a.T.shape, np.ravel(z).shape)\n",
    "    return np.linalg.lstsq(a.T, np.ravel(z), rcond=None)"
   ]
  },
  {
   "cell_type": "code",
   "execution_count": 6,
   "metadata": {},
   "outputs": [
    {
     "name": "stdout",
     "output_type": "stream",
     "text": [
      "(170, 36) (170,)\n"
     ]
    }
   ],
   "source": [
    "import pandas as pd\n",
    "\n",
    "dataframe = pd.read_excel(\"FullRangeData.xlsx\", sheet_name=\"Formated_MannulyFixed\")\n",
    "z = np.array(dataframe)[:, 2]\n",
    "\n",
    "x = np.linspace(10, 90, 17)\n",
    "y = np.linspace(115, 160, 10)\n",
    "\n",
    "coeff, r, rank, s = polyfit2d(x, y, z)"
   ]
  },
  {
   "cell_type": "code",
   "execution_count": 7,
   "metadata": {},
   "outputs": [
    {
     "name": "stdout",
     "output_type": "stream",
     "text": [
      "RMS residual = 0.23193393244515742\n",
      "R-squared value = 0.9944280222772985\n"
     ]
    }
   ],
   "source": [
    "from sklearn.metrics import r2_score\n",
    "\n",
    "fitted_surf = np.polynomial.polynomial.polygrid2d(x, y, coeff.reshape((6, 6)))\n",
    "\n",
    "rms = np.sqrt(np.mean((z.reshape(10, 17).T - fitted_surf) ** 2))\n",
    "print(\"RMS residual =\", rms)\n",
    "score = r2_score(z.reshape(10, 17).T, fitted_surf)\n",
    "print(\"R-squared value =\", score)"
   ]
  },
  {
   "cell_type": "code",
   "execution_count": 8,
   "metadata": {},
   "outputs": [],
   "source": [
    "def h_contact(x):\n",
    "    return np.polynomial.polynomial.polygrid2d(x[0], x[1], coeff.reshape((6, 6)))"
   ]
  },
  {
   "cell_type": "code",
   "execution_count": 9,
   "metadata": {},
   "outputs": [],
   "source": [
    "# Measurement Noise\n",
    "R = np.array([[rms**2]])"
   ]
  },
  {
   "cell_type": "markdown",
   "metadata": {},
   "source": [
    "## Synthesized data"
   ]
  },
  {
   "cell_type": "code",
   "execution_count": 10,
   "metadata": {},
   "outputs": [],
   "source": [
    "# Start point\n",
    "X_start = 10\n",
    "Y_start = 125\n",
    "\n",
    "# End point\n",
    "X_end = 90\n",
    "Y_end = 145\n",
    "\n",
    "xtrajectory_ = np.linspace(X_start, X_end, 160)\n",
    "ytrajectory_ = np.linspace(Y_start, Y_end, 160)\n",
    "\n",
    "# when you alter the synthesis trajectory, remember to regulate the fictitious velocity !!!!\n",
    "# Fictitious data: System ctrl input \n",
    "\n",
    "linear_vel = np.array([.5, .125, 0])\n",
    "angular_vel = np.array([0, 0, 0])\n",
    "\n",
    "u = np.append(linear_vel, angular_vel, axis=0)\n",
    "\n",
    "ztrajecotry_ = np.polynomial.polynomial.polyval2d(\n",
    "    xtrajectory_, \n",
    "    ytrajectory_, \n",
    "    coeff.reshape((6, 6)),\n",
    ")\n",
    "\n",
    "# format measurements"
   ]
  },
  {
   "cell_type": "code",
   "execution_count": 11,
   "metadata": {},
   "outputs": [],
   "source": [
    "# Ground Truth Trajectory\n",
    "xs = np.concatenate(\n",
    "    (\n",
    "        xtrajectory_.reshape(xtrajectory_.shape[0], 1),\n",
    "        ytrajectory_.reshape(ytrajectory_.shape[0], 1),\n",
    "        np.linspace(0, 0, 160).reshape(160, 1)\n",
    "    ), \n",
    "    axis=1\n",
    ")"
   ]
  },
  {
   "cell_type": "code",
   "execution_count": 12,
   "metadata": {},
   "outputs": [],
   "source": [
    "from numpy.random import randn\n",
    "\n",
    "# Manually add some measurement noise into zs\n",
    "zs = [np.array([ztrajecotry_[i]]+randn()*rms) for i in range(ztrajecotry_.shape[0])]"
   ]
  },
  {
   "cell_type": "markdown",
   "metadata": {},
   "source": [
    "## Implementation of filter"
   ]
  },
  {
   "cell_type": "code",
   "execution_count": 13,
   "metadata": {},
   "outputs": [],
   "source": [
    "dt = 1.0\n",
    "x_initial = np.array([X_start, 120, 0])"
   ]
  },
  {
   "cell_type": "code",
   "execution_count": 14,
   "metadata": {},
   "outputs": [],
   "source": [
    "from filterpy.kalman import UnscentedKalmanFilter as UKF\n",
    "from filterpy.kalman import MerweScaledSigmaPoints\n",
    "\n",
    "sigmas = MerweScaledSigmaPoints(3, alpha=.1, beta=2., kappa=0.)\n",
    "ukf = UKF(dim_x=3, dim_z=1, fx=f_contact,\n",
    "          hx=h_contact, dt=dt, points=sigmas)\n",
    "\n",
    "ukf.x = x_initial\n",
    "ukf.R = R\n",
    "ukf.Q = Q"
   ]
  },
  {
   "cell_type": "code",
   "execution_count": 15,
   "metadata": {},
   "outputs": [
    {
     "data": {
      "text/plain": [
       "UnscentedKalmanFilter object\n",
       "x = [ 10 120   0]\n",
       "P = [[1. 0. 0.]\n",
       "     [0. 1. 0.]\n",
       "     [0. 0. 1.]]\n",
       "x_prior = [0. 0. 0.]\n",
       "P_prior = [[1. 0. 0.]\n",
       "           [0. 1. 0.]\n",
       "           [0. 0. 1.]]\n",
       "Q = [[1.e-03 0.e+00 0.e+00]\n",
       "     [0.e+00 1.e-03 0.e+00]\n",
       "     [0.e+00 0.e+00 1.e-05]]\n",
       "R = [[0.05379335]]\n",
       "S = [[0.]]\n",
       "K = [[0. 0. 0.]].T\n",
       "y = [0.]\n",
       "log-likelihood = -708.3964185322641\n",
       "likelihood = 2.2250738585072014e-308\n",
       "mahalanobis = 0.0\n",
       "sigmas_f = [[0. 0. 0.]\n",
       "            [0. 0. 0.]\n",
       "            [0. 0. 0.]\n",
       "            [0. 0. 0.]\n",
       "            [0. 0. 0.]\n",
       "            [0. 0. 0.]\n",
       "            [0. 0. 0.]]\n",
       "h = [[0. 0. 0. 0. 0. 0. 0.]].T\n",
       "Wm = [-99.          16.66666667  16.66666667  16.66666667  16.66666667\n",
       "       16.66666667  16.66666667]\n",
       "Wc = [-96.01        16.66666667  16.66666667  16.66666667  16.66666667\n",
       "       16.66666667  16.66666667]\n",
       "residual_x = <ufunc 'subtract'>\n",
       "residual_z = <ufunc 'subtract'>\n",
       "msqrt = <function cholesky at 0x00000240EE400310>\n",
       "hx = <function h_contact at 0x00000240E86B19D0>\n",
       "fx = <function f_contact at 0x00000240E85583A0>\n",
       "x_mean = None\n",
       "z_mean = None"
      ]
     },
     "execution_count": 15,
     "metadata": {},
     "output_type": "execute_result"
    }
   ],
   "source": [
    "ukf"
   ]
  },
  {
   "cell_type": "code",
   "execution_count": 16,
   "metadata": {},
   "outputs": [],
   "source": [
    "uxs = []\n",
    "for z in zs:\n",
    "    ukf.predict(u=u)\n",
    "    ukf.update(z)\n",
    "    uxs.append(ukf.x.copy())\n",
    "uxs = np.array(uxs)"
   ]
  },
  {
   "cell_type": "code",
   "execution_count": 17,
   "metadata": {},
   "outputs": [
    {
     "name": "stdout",
     "output_type": "stream",
     "text": [
      "[[ 1.02165780e+01  1.20770651e+02  1.71226175e-16]\n",
      " [ 1.03033287e+01  1.21765401e+02 -3.36030440e-16]\n",
      " [ 1.05598180e+01  1.22359855e+02 -7.32312942e-16]\n",
      " [ 1.09259362e+01  1.22726699e+02 -9.29263291e-17]\n",
      " [ 1.13281523e+01  1.23020011e+02  8.52494443e-16]\n",
      " [ 1.16045067e+01  1.23514984e+02  1.09503483e-15]\n",
      " [ 1.20567404e+01  1.23715422e+02  3.93320721e-16]\n",
      " [ 1.25703627e+01  1.23819410e+02  3.00068081e-16]\n",
      " [ 1.29659451e+01  1.24103244e+02  4.14571042e-17]\n",
      " [ 1.34461020e+01  1.24257876e+02 -8.86909789e-17]\n",
      " [ 1.39273861e+01  1.24410632e+02  5.77374696e-16]\n",
      " [ 1.43883270e+01  1.24593410e+02  1.05843342e-15]\n",
      " [ 1.48333502e+01  1.24799820e+02  1.11387805e-15]\n",
      " [ 1.52687189e+01  1.25021041e+02  9.84176505e-16]\n",
      " [ 1.57704673e+01  1.25143411e+02  7.62050189e-16]\n",
      " [ 1.63376436e+01  1.25165885e+02  5.03363302e-16]\n",
      " [ 1.68043920e+01  1.25342359e+02  6.32570177e-16]\n",
      " [ 1.73079135e+01  1.25461803e+02  9.46714198e-16]\n",
      " [ 1.77751126e+01  1.25639493e+02  1.24329278e-15]\n",
      " [ 1.81941305e+01  1.25897523e+02  1.83547524e-15]\n",
      " [ 1.86742786e+01  1.26056160e+02  1.94607223e-15]\n",
      " [ 1.91217473e+01  1.26272219e+02  1.94513109e-15]\n",
      " [ 1.95991924e+01  1.26437471e+02  2.01998843e-15]\n",
      " [ 2.00167694e+01  1.26712697e+02  2.27934767e-15]\n",
      " [ 2.04927952e+01  1.26883056e+02  2.70451338e-15]\n",
      " [ 2.09584100e+01  1.27074190e+02  2.37006688e-15]\n",
      " [ 2.14725961e+01  1.27171471e+02  1.96390618e-15]\n",
      " [ 2.20009441e+01  1.27241754e+02  2.31513768e-15]\n",
      " [ 2.25480113e+01  1.27278431e+02  2.16715138e-15]\n",
      " [ 2.29627519e+01  1.27556072e+02  2.00026627e-15]\n",
      " [ 2.34183182e+01  1.27761390e+02  2.05567571e-15]\n",
      " [ 2.39075094e+01  1.27905570e+02  2.01864152e-15]\n",
      " [ 2.44110682e+01  1.28024541e+02  2.53679768e-15]\n",
      " [ 2.49223043e+01  1.28131681e+02  2.18492644e-15]\n",
      " [ 2.54515232e+01  1.28213688e+02  2.24078241e-15]\n",
      " [ 2.59529990e+01  1.28336713e+02  2.59197690e-15]\n",
      " [ 2.64446084e+01  1.28471983e+02  1.79684438e-15]\n",
      " [ 2.69837585e+01  1.28553325e+02  1.51637397e-15]\n",
      " [ 2.75221533e+01  1.28640463e+02  1.92752863e-15]\n",
      " [ 2.80473463e+01  1.28743647e+02  1.29304234e-15]\n",
      " [ 2.86161677e+01  1.28816452e+02  2.06326902e-15]\n",
      " [ 2.91604214e+01  1.28912859e+02  1.25158494e-15]\n",
      " [ 2.97198015e+01  1.29005200e+02  1.39170834e-15]\n",
      " [ 3.01800730e+01  1.29148422e+02  9.48317808e-16]\n",
      " [ 3.05785700e+01  1.29313325e+02  1.08990118e-15]\n",
      " [ 3.10336973e+01  1.29453638e+02  7.78674704e-16]\n",
      " [ 3.14381435e+01  1.29605605e+02  6.15188268e-16]\n",
      " [ 3.19540555e+01  1.29726885e+02  4.81403475e-16]\n",
      " [ 3.25067224e+01  1.29842789e+02  2.96272998e-16]\n",
      " [ 3.30214292e+01  1.29966139e+02  4.07751551e-16]\n",
      " [ 3.34757674e+01  1.30093921e+02  5.38255836e-16]\n",
      " [ 3.37720688e+01  1.30222887e+02  2.07893823e-17]\n",
      " [ 3.42383839e+01  1.30347728e+02  5.67785484e-16]\n",
      " [ 3.47583215e+01  1.30473603e+02 -2.44673236e-16]\n",
      " [ 3.52030464e+01  1.30593900e+02 -7.77820054e-17]\n",
      " [ 3.60248040e+01  1.30756709e+02 -5.75659459e-16]\n",
      " [ 3.66305324e+01  1.30900197e+02 -1.00558045e-15]\n",
      " [ 3.71989494e+01  1.31039698e+02 -9.77702451e-16]\n",
      " [ 3.76314241e+01  1.31148214e+02 -1.20000817e-15]\n",
      " [ 3.84048360e+01  1.31346113e+02 -7.87362055e-16]\n",
      " [ 3.90126584e+01  1.31504170e+02 -5.87865644e-16]\n",
      " [ 3.95282473e+01  1.31634393e+02 -2.78191646e-16]\n",
      " [ 4.02372396e+01  1.31834127e+02  3.23925568e-16]\n",
      " [ 4.09159221e+01  1.32028485e+02  3.54391373e-16]\n",
      " [ 4.13167996e+01  1.32112287e+02  1.32606884e-16]\n",
      " [ 4.18809123e+01  1.32264870e+02  2.43482770e-16]\n",
      " [ 4.24821785e+01  1.32435613e+02  1.42026196e-16]\n",
      " [ 4.31224900e+01  1.32627150e+02 -9.40777786e-17]\n",
      " [ 4.37300517e+01  1.32805683e+02 -4.10698210e-17]\n",
      " [ 4.45717334e+01  1.33108131e+02  9.07728000e-17]\n",
      " [ 4.49925512e+01  1.33189616e+02 -3.33138573e-16]\n",
      " [ 4.55285355e+01  1.33334872e+02  3.59092651e-17]\n",
      " [ 4.61310100e+01  1.33519419e+02 -6.56972461e-16]\n",
      " [ 4.65185135e+01  1.33576699e+02 -1.42143296e-15]\n",
      " [ 4.70426554e+01  1.33716532e+02 -7.76912561e-16]\n",
      " [ 4.75448619e+01  1.33842928e+02 -4.64840610e-16]\n",
      " [ 4.81489439e+01  1.34035648e+02 -3.35465751e-16]\n",
      " [ 4.84917980e+01  1.34054879e+02 -7.52395371e-16]\n",
      " [ 4.89482419e+01  1.34150067e+02 -2.82692204e-16]\n",
      " [ 4.95197439e+01  1.34325223e+02 -6.38335587e-16]\n",
      " [ 4.99724108e+01  1.34415944e+02 -7.96948222e-16]\n",
      " [ 5.04950813e+01  1.34557760e+02 -1.02130969e-15]\n",
      " [ 5.08083293e+01  1.34540223e+02 -1.06082548e-15]\n",
      " [ 5.14329959e+01  1.34761816e+02 -1.22651516e-15]\n",
      " [ 5.21476247e+01  1.35059173e+02 -9.09827304e-16]\n",
      " [ 5.28869620e+01  1.35384363e+02 -1.08537914e-15]\n",
      " [ 5.34975333e+01  1.35605739e+02 -1.07654733e-15]\n",
      " [ 5.38823385e+01  1.35626999e+02 -9.51672204e-16]\n",
      " [ 5.43952320e+01  1.35763831e+02 -7.61767493e-16]\n",
      " [ 5.48964796e+01  1.35890008e+02 -6.32751552e-16]\n",
      " [ 5.53538396e+01  1.35973679e+02 -1.11247563e-15]\n",
      " [ 5.58327220e+01  1.36077699e+02 -1.26179997e-15]\n",
      " [ 5.63178900e+01  1.36187565e+02 -5.22548031e-16]\n",
      " [ 5.68874541e+01  1.36385529e+02 -1.24734147e-15]\n",
      " [ 5.72545637e+01  1.36366335e+02 -1.44915853e-15]\n",
      " [ 5.77559398e+01  1.36492858e+02 -7.44280998e-16]\n",
      " [ 5.82376524e+01  1.36596986e+02 -1.16945836e-15]\n",
      " [ 5.87682442e+01  1.36757950e+02 -9.84110993e-16]\n",
      " [ 5.90845520e+01  1.36659549e+02 -4.37417620e-16]\n",
      " [ 5.95280435e+01  1.36714592e+02 -1.54964449e-16]\n",
      " [ 6.00252693e+01  1.36836057e+02 -5.96683093e-16]\n",
      " [ 6.05698057e+01  1.37019753e+02  1.07933515e-16]\n",
      " [ 6.10665195e+01  1.37140251e+02  1.37425345e-17]\n",
      " [ 6.15806365e+01  1.37285286e+02  5.07351832e-17]\n",
      " [ 6.19884759e+01  1.37274451e+02  3.46559778e-16]\n",
      " [ 6.25475070e+01  1.37488984e+02  1.21012883e-17]\n",
      " [ 6.30315282e+01  1.37588643e+02 -6.71055806e-16]\n",
      " [ 6.35812949e+01  1.37795637e+02 -2.08231887e-16]\n",
      " [ 6.41522333e+01  1.38043096e+02 -7.82988198e-16]\n",
      " [ 6.46685625e+01  1.38197758e+02 -3.19932070e-16]\n",
      " [ 6.51540976e+01  1.38295237e+02 -6.15889752e-16]\n",
      " [ 6.56524871e+01  1.38417034e+02 -1.90712850e-16]\n",
      " [ 6.61403957e+01  1.38516814e+02  4.96596871e-17]\n",
      " [ 6.66036849e+01  1.38561451e+02  3.83335044e-16]\n",
      " [ 6.71052315e+01  1.38689997e+02  4.95403853e-17]\n",
      " [ 6.75896995e+01  1.38777358e+02  2.90312714e-16]\n",
      " [ 6.81076024e+01  1.38948186e+02  1.04713822e-16]\n",
      " [ 6.86245697e+01  1.39119534e+02  5.85986041e-16]\n",
      " [ 6.91280142e+01  1.39254615e+02  6.04266401e-16]\n",
      " [ 6.96359997e+01  1.39404682e+02  1.17777840e-15]\n",
      " [ 7.01668541e+01  1.39634223e+02  6.77095608e-16]\n",
      " [ 7.06498254e+01  1.39696050e+02 -2.09005896e-16]\n",
      " [ 7.11463916e+01  1.39807260e+02 -6.54181017e-16]\n",
      " [ 7.16464740e+01  1.39932622e+02 -1.45007742e-15]\n",
      " [ 7.21328023e+01  1.39990967e+02 -9.50839122e-16]\n",
      " [ 7.26405616e+01  1.40157886e+02 -8.02803405e-16]\n",
      " [ 7.31228849e+01  1.40173995e+02 -8.02040627e-16]\n",
      " [ 7.36378166e+01  1.40402733e+02 -8.58986896e-16]\n",
      " [ 7.41449961e+01  1.40587511e+02 -4.88600343e-16]\n",
      " [ 7.46419234e+01  1.40681111e+02 -7.47222488e-16]\n",
      " [ 7.51419533e+01  1.40806492e+02 -5.99558201e-16]\n",
      " [ 7.56433365e+01  1.40955069e+02 -7.66594733e-16]\n",
      " [ 7.61444430e+01  1.41108553e+02 -1.30326075e-15]\n",
      " [ 7.66451369e+01  1.41269072e+02 -1.39565329e-15]\n",
      " [ 7.71451855e+01  1.41455999e+02 -9.88506021e-16]\n",
      " [ 7.76437835e+01  1.41659671e+02 -1.45226876e-15]\n",
      " [ 7.81451411e+01  1.41746875e+02 -1.02569998e-15]\n",
      " [ 7.86441143e+01  1.41892534e+02 -8.59356556e-16]\n",
      " [ 7.91398470e+01  1.42084457e+02 -8.41167274e-16]\n",
      " [ 7.96343623e+01  1.42280069e+02 -9.16316018e-16]\n",
      " [ 8.01276271e+01  1.42479888e+02 -6.92276922e-16]\n",
      " [ 8.06240036e+01  1.42640913e+02 -8.23337386e-16]\n",
      " [ 8.11201848e+01  1.42801393e+02 -1.34189239e-15]\n",
      " [ 8.16215000e+01  1.42914652e+02 -5.27473055e-16]\n",
      " [ 8.21236671e+01  1.43020224e+02 -8.41002941e-16]\n",
      " [ 8.26225726e+01  1.43155450e+02 -8.41611431e-16]\n",
      " [ 8.31186305e+01  1.43320094e+02 -9.71986952e-16]\n",
      " [ 8.36203459e+01  1.43425666e+02 -6.57084636e-16]\n",
      " [ 8.41190086e+01  1.43570100e+02 -1.36166283e-15]\n",
      " [ 8.46165331e+01  1.43750612e+02 -1.39698672e-15]\n",
      " [ 8.51162070e+01  1.43897937e+02 -5.99814513e-16]\n",
      " [ 8.56160902e+01  1.44018411e+02 -1.58143038e-15]\n",
      " [ 8.61197097e+01  1.44189968e+02 -1.19018464e-15]\n",
      " [ 8.66165010e+01  1.44291985e+02 -1.41226324e-15]\n",
      " [ 8.71154581e+01  1.44412198e+02 -1.37894929e-15]\n",
      " [ 8.76147310e+01  1.44534865e+02 -1.87825148e-15]\n",
      " [ 8.80980860e+01  1.44620676e+02 -2.15401435e-15]\n",
      " [ 8.85866748e+01  1.44725198e+02 -2.65350500e-15]\n",
      " [ 8.90890764e+01  1.44853552e+02 -3.23033168e-15]\n",
      " [ 8.96143254e+01  1.45006244e+02 -2.49705101e-15]]\n"
     ]
    },
    {
     "data": {
      "text/plain": [
       "[<matplotlib.lines.Line2D at 0x240ef76c3d0>]"
      ]
     },
     "execution_count": 17,
     "metadata": {},
     "output_type": "execute_result"
    },
    {
     "data": {
      "image/png": "[encoded data removed]",
      "text/plain": [
       "<Figure size 1000x600 with 1 Axes>"
      ]
     },
     "metadata": {},
     "output_type": "display_data"
    }
   ],
   "source": [
    "print(uxs)\n",
    "\n",
    "plt.figure(figsize=(10, 6))\n",
    "plt.grid()\n",
    "plt.ylim([115, 160])\n",
    "plt.xlim([10, 90])\n",
    "plt.plot(uxs[:, 0], uxs[:, 1], label='Estimated Trajectory')\n",
    "plt.plot(xtrajectory_, ytrajectory_, label='Ground Truth', ls=':')"
   ]
  },
  {
   "cell_type": "code",
   "execution_count": 18,
   "metadata": {},
   "outputs": [
    {
     "name": "stdout",
     "output_type": "stream",
     "text": [
      "Bayesian Filter UKF tracked on ground truth with a lowest Euclidean Distance of 0.311 millimeters and with a standard deviation of 0.801 millimeters.\n",
      "It costs 68 steps to converge to within 1mm of true location.\n"
     ]
    }
   ],
   "source": [
    "#  Evaluation \n",
    "\n",
    "# Euclidean Distance\n",
    "dist = np.linalg.norm(uxs - xs, axis=1)\n",
    "print(f'Bayesian Filter UKF tracked on ground truth with a lowest Euclidean Distance of {np.min(dist):.3f} millimeters and with a standard deviation of {np.std(dist):.3f} millimeters.')\n",
    "# Converging Cost\n",
    "for index, _ in enumerate(dist):\n",
    "    if _ < 1:\n",
    "        print(f'It costs {index+1} steps to converge to within 1mm of true location.')\n",
    "        break"
   ]
  }
 ],
 "metadata": {
  "kernelspec": {
   "display_name": "testpy",
   "language": "python",
   "name": "python3"
  },
  "language_info": {
   "codemirror_mode": {
    "name": "ipython",
    "version": 3
   },
   "file_extension": ".py",
   "mimetype": "text/x-python",
   "name": "python",
   "nbconvert_exporter": "python",
   "pygments_lexer": "ipython3",
   "version": "3.8.17"
  }
 },
 "nbformat": 4,
 "nbformat_minor": 2
}
