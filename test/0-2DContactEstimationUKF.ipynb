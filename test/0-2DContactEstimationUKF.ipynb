{
 "cells": [
  {
   "cell_type": "code",
   "execution_count": 3,
   "metadata": {},
   "outputs": [],
   "source": [
    "import numpy as np"
   ]
  },
  {
   "cell_type": "markdown",
   "metadata": {},
   "source": [
    "### Process Model"
   ]
  },
  {
   "cell_type": "code",
   "execution_count": 11,
   "metadata": {},
   "outputs": [],
   "source": [
    "# give an example here first\n",
    "v_sb_b = np.array([2, 2, 0])\n",
    "w_sb_b = np.array([0, 0, 3])\n",
    "bp = np.array([2, 1, 0])"
   ]
  },
  {
   "cell_type": "code",
   "execution_count": 12,
   "metadata": {},
   "outputs": [
    {
     "data": {
      "text/plain": [
       "array([0., 0., 0.])"
      ]
     },
     "execution_count": 12,
     "metadata": {},
     "output_type": "execute_result"
    }
   ],
   "source": [
    "v_bpc_b = np.zeros((3, ))\n",
    "v_bpc_b"
   ]
  },
  {
   "cell_type": "markdown",
   "metadata": {},
   "source": [
    "$$\n",
    "v_{bp_c}^b=-v_{sb}^b+-w_{sb}^b\\times b_p = -\\begin{bmatrix}\n",
    " \\mathbf{I} & \\left [ \\mathbf{p_c} \\right ] \n",
    "\\end{bmatrix}\\begin{bmatrix}\n",
    "v_{sb}^b \\\\ w_{sb}^b\n",
    "\\end{bmatrix}\n",
    "$$"
   ]
  },
  {
   "cell_type": "markdown",
   "metadata": {},
   "source": [
    "Direct cross product"
   ]
  },
  {
   "cell_type": "code",
   "execution_count": 13,
   "metadata": {},
   "outputs": [
    {
     "name": "stdout",
     "output_type": "stream",
     "text": [
      "[-2 -2  0] [ 3 -6  0] [ 1 -8  0]\n"
     ]
    }
   ],
   "source": [
    "v_bpc_b = -v_sb_b + -np.cross(w_sb_b, bp)\n",
    "print(-v_sb_b, -np.cross(w_sb_b, bp), v_bpc_b)"
   ]
  },
  {
   "cell_type": "markdown",
   "metadata": {},
   "source": [
    "skew-symmetric matrix "
   ]
  },
  {
   "cell_type": "code",
   "execution_count": 14,
   "metadata": {},
   "outputs": [
    {
     "data": {
      "text/plain": [
       "array([[1., 0., 0.],\n",
       "       [0., 1., 0.],\n",
       "       [0., 0., 1.]])"
      ]
     },
     "execution_count": 14,
     "metadata": {},
     "output_type": "execute_result"
    }
   ],
   "source": [
    "def skew(vector):\n",
    "    \"\"\"\n",
    "    this function returns a numpy array with the skew symmetric cross product matrix for vector.\n",
    "    the skew symmetric cross product matrix is defined such that\n",
    "    np.cross(a, b) = np.dot(skew(a), b)\n",
    "\n",
    "    :param vector: An array like vector to create the skew symmetric cross product matrix for\n",
    "    :return: A numpy array of the skew symmetric cross product vector\n",
    "    \"\"\"\n",
    "\n",
    "    return np.array([[0, -vector[2], vector[1]], \n",
    "                     [vector[2], 0, -vector[0]], \n",
    "                     [-vector[1], vector[0], 0]])\n",
    "np.identity(3)"
   ]
  },
  {
   "cell_type": "code",
   "execution_count": 20,
   "metadata": {},
   "outputs": [
    {
     "data": {
      "text/plain": [
       "(array([2, 2, 0, 0, 0, 3]),\n",
       " array([2, 2, 0, 0, 0, 3]),\n",
       " array([[-1., -0., -0., -0., -0.,  1.],\n",
       "        [-0., -1., -0., -0., -0., -2.],\n",
       "        [-0., -0., -1., -1.,  2., -0.]]))"
      ]
     },
     "execution_count": 20,
     "metadata": {},
     "output_type": "execute_result"
    }
   ],
   "source": [
    "I = np.identity(3)\n",
    "pc_ = -skew(bp) # should be negative\n",
    "B = -np.append(I, pc_, axis=1)\n",
    "xi = np.append(v_sb_b, w_sb_b, axis=0)\n",
    "xi.transpose(),xi, B"
   ]
  },
  {
   "cell_type": "code",
   "execution_count": 19,
   "metadata": {},
   "outputs": [
    {
     "data": {
      "text/plain": [
       "array([ 1., -8.,  0.])"
      ]
     },
     "execution_count": 19,
     "metadata": {},
     "output_type": "execute_result"
    }
   ],
   "source": [
    "B @ xi"
   ]
  },
  {
   "cell_type": "markdown",
   "metadata": {},
   "source": [
    "WHYYYYYYYYY!!!!"
   ]
  },
  {
   "cell_type": "markdown",
   "metadata": {},
   "source": [
    "$$\n",
    "    \\mathbf{a} \\times \\mathbf{b} = - \\left ( \\mathbf{b} \\times \\mathbf{a} \\right ) \n",
    "$$"
   ]
  },
  {
   "cell_type": "markdown",
   "metadata": {},
   "source": [
    "State transition function"
   ]
  },
  {
   "cell_type": "code",
   "execution_count": 22,
   "metadata": {},
   "outputs": [],
   "source": [
    "def f_contact(x, lv, av, dt):\n",
    "    input = np.append(lv, av, axis=0)\n",
    "    B = -dt*np.append(np.identity(3), -skew(x), axis=1)\n",
    "    A = np.identity(3)\n",
    "    prior_predict = A @ x + B @ input \n",
    "    return prior_predict"
   ]
  },
  {
   "cell_type": "code",
   "execution_count": 23,
   "metadata": {},
   "outputs": [
    {
     "data": {
      "text/plain": [
       "array([ 2., -4.,  0.])"
      ]
     },
     "execution_count": 23,
     "metadata": {},
     "output_type": "execute_result"
    }
   ],
   "source": [
    "f_contact(np.array([1, 1, 0]), lv=v_sb_b, av=w_sb_b, dt=1)"
   ]
  }
 ],
 "metadata": {
  "kernelspec": {
   "display_name": "testpy",
   "language": "python",
   "name": "python3"
  },
  "language_info": {
   "codemirror_mode": {
    "name": "ipython",
    "version": 3
   },
   "file_extension": ".py",
   "mimetype": "text/x-python",
   "name": "python",
   "nbconvert_exporter": "python",
   "pygments_lexer": "ipython3",
   "version": "3.8.17"
  }
 },
 "nbformat": 4,
 "nbformat_minor": 2
}
