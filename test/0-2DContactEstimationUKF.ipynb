{
 "cells": [
  {
   "cell_type": "code",
   "execution_count": 18,
   "metadata": {},
   "outputs": [],
   "source": [
    "import numpy as np\n",
    "import matplotlib.pyplot as plt"
   ]
  },
  {
   "cell_type": "markdown",
   "metadata": {},
   "source": [
    "### Process Model"
   ]
  },
  {
   "cell_type": "code",
   "execution_count": 11,
   "metadata": {},
   "outputs": [],
   "source": [
    "# give an example here first\n",
    "v_sb_b = np.array([2, 2, 0])\n",
    "w_sb_b = np.array([0, 0, 3])\n",
    "bp = np.array([2, 1, 0])"
   ]
  },
  {
   "cell_type": "code",
   "execution_count": 12,
   "metadata": {},
   "outputs": [
    {
     "data": {
      "text/plain": [
       "array([0., 0., 0.])"
      ]
     },
     "execution_count": 12,
     "metadata": {},
     "output_type": "execute_result"
    }
   ],
   "source": [
    "v_bpc_b = np.zeros((3, ))\n",
    "v_bpc_b"
   ]
  },
  {
   "cell_type": "markdown",
   "metadata": {},
   "source": [
    "$$\n",
    "v_{bp_c}^b=-v_{sb}^b+-w_{sb}^b\\times b_p = -\\begin{bmatrix}\n",
    " \\mathbf{I} & \\left [ \\mathbf{p_c} \\right ] \n",
    "\\end{bmatrix}\\begin{bmatrix}\n",
    "v_{sb}^b \\\\ w_{sb}^b\n",
    "\\end{bmatrix}\n",
    "$$"
   ]
  },
  {
   "cell_type": "markdown",
   "metadata": {},
   "source": [
    "Direct cross product"
   ]
  },
  {
   "cell_type": "code",
   "execution_count": 13,
   "metadata": {},
   "outputs": [
    {
     "name": "stdout",
     "output_type": "stream",
     "text": [
      "[-2 -2  0] [ 3 -6  0] [ 1 -8  0]\n"
     ]
    }
   ],
   "source": [
    "v_bpc_b = -v_sb_b + -np.cross(w_sb_b, bp)\n",
    "print(-v_sb_b, -np.cross(w_sb_b, bp), v_bpc_b)"
   ]
  },
  {
   "cell_type": "markdown",
   "metadata": {},
   "source": [
    "skew-symmetric matrix "
   ]
  },
  {
   "cell_type": "code",
   "execution_count": 14,
   "metadata": {},
   "outputs": [
    {
     "data": {
      "text/plain": [
       "array([[1., 0., 0.],\n",
       "       [0., 1., 0.],\n",
       "       [0., 0., 1.]])"
      ]
     },
     "execution_count": 14,
     "metadata": {},
     "output_type": "execute_result"
    }
   ],
   "source": [
    "def skew(vector):\n",
    "    \"\"\"\n",
    "    this function returns a numpy array with the skew symmetric cross product matrix for vector.\n",
    "    the skew symmetric cross product matrix is defined such that\n",
    "    np.cross(a, b) = np.dot(skew(a), b)\n",
    "\n",
    "    :param vector: An array like vector to create the skew symmetric cross product matrix for\n",
    "    :return: A numpy array of the skew symmetric cross product vector\n",
    "    \"\"\"\n",
    "\n",
    "    return np.array([[0, -vector[2], vector[1]], \n",
    "                     [vector[2], 0, -vector[0]], \n",
    "                     [-vector[1], vector[0], 0]])\n",
    "np.identity(3)"
   ]
  },
  {
   "cell_type": "code",
   "execution_count": 20,
   "metadata": {},
   "outputs": [
    {
     "data": {
      "text/plain": [
       "(array([2, 2, 0, 0, 0, 3]),\n",
       " array([2, 2, 0, 0, 0, 3]),\n",
       " array([[-1., -0., -0., -0., -0.,  1.],\n",
       "        [-0., -1., -0., -0., -0., -2.],\n",
       "        [-0., -0., -1., -1.,  2., -0.]]))"
      ]
     },
     "execution_count": 20,
     "metadata": {},
     "output_type": "execute_result"
    }
   ],
   "source": [
    "I = np.identity(3)\n",
    "pc_ = -skew(bp) # should be negative\n",
    "B = -np.append(I, pc_, axis=1)\n",
    "xi = np.append(v_sb_b, w_sb_b, axis=0)\n",
    "xi.transpose(),xi, B"
   ]
  },
  {
   "cell_type": "code",
   "execution_count": 19,
   "metadata": {},
   "outputs": [
    {
     "data": {
      "text/plain": [
       "array([ 1., -8.,  0.])"
      ]
     },
     "execution_count": 19,
     "metadata": {},
     "output_type": "execute_result"
    }
   ],
   "source": [
    "B @ xi"
   ]
  },
  {
   "cell_type": "markdown",
   "metadata": {},
   "source": [
    "WHYYYYYYYYY!!!!"
   ]
  },
  {
   "cell_type": "markdown",
   "metadata": {},
   "source": [
    "$$\n",
    "    \\mathbf{a} \\times \\mathbf{b} = - \\left ( \\mathbf{b} \\times \\mathbf{a} \\right ) \n",
    "$$"
   ]
  },
  {
   "cell_type": "markdown",
   "metadata": {},
   "source": [
    "State transition function"
   ]
  },
  {
   "cell_type": "code",
   "execution_count": 22,
   "metadata": {},
   "outputs": [],
   "source": [
    "def f_contact(x, lv, av, dt):\n",
    "    input = np.append(lv, av, axis=0)\n",
    "    B = -dt*np.append(np.identity(3), -skew(x), axis=1)\n",
    "    A = np.identity(3)\n",
    "    prior_predict = A @ x + B @ input \n",
    "    return prior_predict"
   ]
  },
  {
   "cell_type": "code",
   "execution_count": 23,
   "metadata": {},
   "outputs": [
    {
     "data": {
      "text/plain": [
       "array([ 2., -4.,  0.])"
      ]
     },
     "execution_count": 23,
     "metadata": {},
     "output_type": "execute_result"
    }
   ],
   "source": [
    "f_contact(np.array([1, 1, 0]), lv=v_sb_b, av=w_sb_b, dt=1)"
   ]
  },
  {
   "cell_type": "markdown",
   "metadata": {},
   "source": [
    "### Measurement Model"
   ]
  },
  {
   "cell_type": "markdown",
   "metadata": {},
   "source": [
    "5-order bivariate polynomial model"
   ]
  },
  {
   "cell_type": "code",
   "execution_count": 79,
   "metadata": {},
   "outputs": [
    {
     "data": {
      "text/plain": [
       "(array([[0.        , 0.05263158, 0.10526316, 0.15789474, 0.21052632,\n",
       "         0.26315789, 0.31578947, 0.36842105, 0.42105263, 0.47368421,\n",
       "         0.52631579, 0.57894737, 0.63157895, 0.68421053, 0.73684211,\n",
       "         0.78947368, 0.84210526, 0.89473684, 0.94736842, 1.        ],\n",
       "        [0.        , 0.05263158, 0.10526316, 0.15789474, 0.21052632,\n",
       "         0.26315789, 0.31578947, 0.36842105, 0.42105263, 0.47368421,\n",
       "         0.52631579, 0.57894737, 0.63157895, 0.68421053, 0.73684211,\n",
       "         0.78947368, 0.84210526, 0.89473684, 0.94736842, 1.        ],\n",
       "        [0.        , 0.05263158, 0.10526316, 0.15789474, 0.21052632,\n",
       "         0.26315789, 0.31578947, 0.36842105, 0.42105263, 0.47368421,\n",
       "         0.52631579, 0.57894737, 0.63157895, 0.68421053, 0.73684211,\n",
       "         0.78947368, 0.84210526, 0.89473684, 0.94736842, 1.        ],\n",
       "        [0.        , 0.05263158, 0.10526316, 0.15789474, 0.21052632,\n",
       "         0.26315789, 0.31578947, 0.36842105, 0.42105263, 0.47368421,\n",
       "         0.52631579, 0.57894737, 0.63157895, 0.68421053, 0.73684211,\n",
       "         0.78947368, 0.84210526, 0.89473684, 0.94736842, 1.        ],\n",
       "        [0.        , 0.05263158, 0.10526316, 0.15789474, 0.21052632,\n",
       "         0.26315789, 0.31578947, 0.36842105, 0.42105263, 0.47368421,\n",
       "         0.52631579, 0.57894737, 0.63157895, 0.68421053, 0.73684211,\n",
       "         0.78947368, 0.84210526, 0.89473684, 0.94736842, 1.        ],\n",
       "        [0.        , 0.05263158, 0.10526316, 0.15789474, 0.21052632,\n",
       "         0.26315789, 0.31578947, 0.36842105, 0.42105263, 0.47368421,\n",
       "         0.52631579, 0.57894737, 0.63157895, 0.68421053, 0.73684211,\n",
       "         0.78947368, 0.84210526, 0.89473684, 0.94736842, 1.        ],\n",
       "        [0.        , 0.05263158, 0.10526316, 0.15789474, 0.21052632,\n",
       "         0.26315789, 0.31578947, 0.36842105, 0.42105263, 0.47368421,\n",
       "         0.52631579, 0.57894737, 0.63157895, 0.68421053, 0.73684211,\n",
       "         0.78947368, 0.84210526, 0.89473684, 0.94736842, 1.        ],\n",
       "        [0.        , 0.05263158, 0.10526316, 0.15789474, 0.21052632,\n",
       "         0.26315789, 0.31578947, 0.36842105, 0.42105263, 0.47368421,\n",
       "         0.52631579, 0.57894737, 0.63157895, 0.68421053, 0.73684211,\n",
       "         0.78947368, 0.84210526, 0.89473684, 0.94736842, 1.        ],\n",
       "        [0.        , 0.05263158, 0.10526316, 0.15789474, 0.21052632,\n",
       "         0.26315789, 0.31578947, 0.36842105, 0.42105263, 0.47368421,\n",
       "         0.52631579, 0.57894737, 0.63157895, 0.68421053, 0.73684211,\n",
       "         0.78947368, 0.84210526, 0.89473684, 0.94736842, 1.        ],\n",
       "        [0.        , 0.05263158, 0.10526316, 0.15789474, 0.21052632,\n",
       "         0.26315789, 0.31578947, 0.36842105, 0.42105263, 0.47368421,\n",
       "         0.52631579, 0.57894737, 0.63157895, 0.68421053, 0.73684211,\n",
       "         0.78947368, 0.84210526, 0.89473684, 0.94736842, 1.        ],\n",
       "        [0.        , 0.05263158, 0.10526316, 0.15789474, 0.21052632,\n",
       "         0.26315789, 0.31578947, 0.36842105, 0.42105263, 0.47368421,\n",
       "         0.52631579, 0.57894737, 0.63157895, 0.68421053, 0.73684211,\n",
       "         0.78947368, 0.84210526, 0.89473684, 0.94736842, 1.        ],\n",
       "        [0.        , 0.05263158, 0.10526316, 0.15789474, 0.21052632,\n",
       "         0.26315789, 0.31578947, 0.36842105, 0.42105263, 0.47368421,\n",
       "         0.52631579, 0.57894737, 0.63157895, 0.68421053, 0.73684211,\n",
       "         0.78947368, 0.84210526, 0.89473684, 0.94736842, 1.        ],\n",
       "        [0.        , 0.05263158, 0.10526316, 0.15789474, 0.21052632,\n",
       "         0.26315789, 0.31578947, 0.36842105, 0.42105263, 0.47368421,\n",
       "         0.52631579, 0.57894737, 0.63157895, 0.68421053, 0.73684211,\n",
       "         0.78947368, 0.84210526, 0.89473684, 0.94736842, 1.        ],\n",
       "        [0.        , 0.05263158, 0.10526316, 0.15789474, 0.21052632,\n",
       "         0.26315789, 0.31578947, 0.36842105, 0.42105263, 0.47368421,\n",
       "         0.52631579, 0.57894737, 0.63157895, 0.68421053, 0.73684211,\n",
       "         0.78947368, 0.84210526, 0.89473684, 0.94736842, 1.        ],\n",
       "        [0.        , 0.05263158, 0.10526316, 0.15789474, 0.21052632,\n",
       "         0.26315789, 0.31578947, 0.36842105, 0.42105263, 0.47368421,\n",
       "         0.52631579, 0.57894737, 0.63157895, 0.68421053, 0.73684211,\n",
       "         0.78947368, 0.84210526, 0.89473684, 0.94736842, 1.        ],\n",
       "        [0.        , 0.05263158, 0.10526316, 0.15789474, 0.21052632,\n",
       "         0.26315789, 0.31578947, 0.36842105, 0.42105263, 0.47368421,\n",
       "         0.52631579, 0.57894737, 0.63157895, 0.68421053, 0.73684211,\n",
       "         0.78947368, 0.84210526, 0.89473684, 0.94736842, 1.        ],\n",
       "        [0.        , 0.05263158, 0.10526316, 0.15789474, 0.21052632,\n",
       "         0.26315789, 0.31578947, 0.36842105, 0.42105263, 0.47368421,\n",
       "         0.52631579, 0.57894737, 0.63157895, 0.68421053, 0.73684211,\n",
       "         0.78947368, 0.84210526, 0.89473684, 0.94736842, 1.        ],\n",
       "        [0.        , 0.05263158, 0.10526316, 0.15789474, 0.21052632,\n",
       "         0.26315789, 0.31578947, 0.36842105, 0.42105263, 0.47368421,\n",
       "         0.52631579, 0.57894737, 0.63157895, 0.68421053, 0.73684211,\n",
       "         0.78947368, 0.84210526, 0.89473684, 0.94736842, 1.        ],\n",
       "        [0.        , 0.05263158, 0.10526316, 0.15789474, 0.21052632,\n",
       "         0.26315789, 0.31578947, 0.36842105, 0.42105263, 0.47368421,\n",
       "         0.52631579, 0.57894737, 0.63157895, 0.68421053, 0.73684211,\n",
       "         0.78947368, 0.84210526, 0.89473684, 0.94736842, 1.        ],\n",
       "        [0.        , 0.05263158, 0.10526316, 0.15789474, 0.21052632,\n",
       "         0.26315789, 0.31578947, 0.36842105, 0.42105263, 0.47368421,\n",
       "         0.52631579, 0.57894737, 0.63157895, 0.68421053, 0.73684211,\n",
       "         0.78947368, 0.84210526, 0.89473684, 0.94736842, 1.        ]]),\n",
       " (20, 20))"
      ]
     },
     "execution_count": 79,
     "metadata": {},
     "output_type": "execute_result"
    }
   ],
   "source": [
    "x = np.linspace(0, 1, 20)\n",
    "y = np.linspace(0, 1, 20)\n",
    "X, Y = np.meshgrid(x, y, copy=False) # meshgrid ? dimension to 400\n",
    "X, X.shape"
   ]
  },
  {
   "cell_type": "code",
   "execution_count": 66,
   "metadata": {},
   "outputs": [],
   "source": [
    "\n",
    "Z = X**2 + Y**2 + np.random.rand(*X.shape)*0.01\n",
    "\n",
    "X = X.flatten()\n",
    "Y = Y.flatten()\n",
    "\n",
    "A = np.array([X*0+1, X, Y, X**2, X**2*Y, X**2*Y**2, Y**2, X*Y**2, X*Y]).T\n",
    "B = Z.flatten()\n",
    "\n",
    "coeff, r, rank, s = np.linalg.lstsq(A, B, rcond=None)"
   ]
  },
  {
   "cell_type": "code",
   "execution_count": 50,
   "metadata": {},
   "outputs": [],
   "source": [
    "def polyfit2d(x, y, z, kx=3, ky=3, order=None):\n",
    "    '''\n",
    "    Two dimensional polynomial fitting by least squares.\n",
    "    Fits the functional form f(x,y) = z.\n",
    "\n",
    "    Notes\n",
    "    -----\n",
    "    Resultant fit can be plotted with:\n",
    "    np.polynomial.polynomial.polygrid2d(x, y, soln.reshape((kx+1, ky+1)))\n",
    "\n",
    "    Parameters\n",
    "    ----------\n",
    "    x, y: array-like, 1d\n",
    "        x and y coordinates.\n",
    "    z: np.ndarray, 2d\n",
    "        Surface to fit.\n",
    "    kx, ky: int, default is 3\n",
    "        Polynomial order in x and y, respectively.\n",
    "    order: int or None, default is None\n",
    "        If None, all coefficients up to maxiumum kx, ky, ie. up to and including x^kx*y^ky, are considered.\n",
    "        If int, coefficients up to a maximum of kx+ky <= order are considered.\n",
    "\n",
    "    Returns\n",
    "    -------\n",
    "    Return paramters from np.linalg.lstsq.\n",
    "\n",
    "    soln: np.ndarray\n",
    "        Array of polynomial coefficients.\n",
    "    residuals: np.ndarray\n",
    "    rank: int\n",
    "    s: np.ndarray\n",
    "\n",
    "    '''\n",
    "\n",
    "    # grid coords\n",
    "    x, y = np.meshgrid(x, y)\n",
    "    # coefficient array, up to x^kx, y^ky\n",
    "    coeffs = np.ones((kx+1, ky+1))\n",
    "\n",
    "    # solve array\n",
    "    a = np.zeros((coeffs.size, x.size))\n",
    "\n",
    "    # for each coefficient produce array x^i, y^j\n",
    "    for index, (i, j) in enumerate(np.ndindex(coeffs.shape)):\n",
    "        # do not include powers greater than order\n",
    "        if order is not None and i + j > order:\n",
    "            arr = np.zeros_like(x)\n",
    "        else:\n",
    "            arr = coeffs[i, j] * x**i * y**j\n",
    "        a[index] = arr.ravel()\n",
    "\n",
    "    # do leastsq fitting and return leastsq result\n",
    "    print(a.T.shape, np.ravel(z).shape)\n",
    "    return np.linalg.lstsq(a.T, np.ravel(z), rcond=None)"
   ]
  },
  {
   "cell_type": "code",
   "execution_count": 3,
   "metadata": {},
   "outputs": [],
   "source": [
    "import pandas as pd"
   ]
  },
  {
   "cell_type": "code",
   "execution_count": 80,
   "metadata": {},
   "outputs": [
    {
     "data": {
      "text/html": [
       "<div>\n",
       "<style scoped>\n",
       "    .dataframe tbody tr th:only-of-type {\n",
       "        vertical-align: middle;\n",
       "    }\n",
       "\n",
       "    .dataframe tbody tr th {\n",
       "        vertical-align: top;\n",
       "    }\n",
       "\n",
       "    .dataframe thead th {\n",
       "        text-align: right;\n",
       "    }\n",
       "</style>\n",
       "<table border=\"1\" class=\"dataframe\">\n",
       "  <thead>\n",
       "    <tr style=\"text-align: right;\">\n",
       "      <th></th>\n",
       "      <th>X</th>\n",
       "      <th>Y</th>\n",
       "      <th>Z</th>\n",
       "    </tr>\n",
       "  </thead>\n",
       "  <tbody>\n",
       "    <tr>\n",
       "      <th>0</th>\n",
       "      <td>10</td>\n",
       "      <td>115</td>\n",
       "      <td>3.998222</td>\n",
       "    </tr>\n",
       "    <tr>\n",
       "      <th>1</th>\n",
       "      <td>15</td>\n",
       "      <td>115</td>\n",
       "      <td>3.686222</td>\n",
       "    </tr>\n",
       "    <tr>\n",
       "      <th>2</th>\n",
       "      <td>20</td>\n",
       "      <td>115</td>\n",
       "      <td>3.374222</td>\n",
       "    </tr>\n",
       "    <tr>\n",
       "      <th>3</th>\n",
       "      <td>25</td>\n",
       "      <td>115</td>\n",
       "      <td>3.062222</td>\n",
       "    </tr>\n",
       "    <tr>\n",
       "      <th>4</th>\n",
       "      <td>30</td>\n",
       "      <td>115</td>\n",
       "      <td>2.730000</td>\n",
       "    </tr>\n",
       "    <tr>\n",
       "      <th>...</th>\n",
       "      <td>...</td>\n",
       "      <td>...</td>\n",
       "      <td>...</td>\n",
       "    </tr>\n",
       "    <tr>\n",
       "      <th>165</th>\n",
       "      <td>70</td>\n",
       "      <td>160</td>\n",
       "      <td>-6.110000</td>\n",
       "    </tr>\n",
       "    <tr>\n",
       "      <th>166</th>\n",
       "      <td>75</td>\n",
       "      <td>160</td>\n",
       "      <td>-6.095555</td>\n",
       "    </tr>\n",
       "    <tr>\n",
       "      <th>167</th>\n",
       "      <td>80</td>\n",
       "      <td>160</td>\n",
       "      <td>-5.936666</td>\n",
       "    </tr>\n",
       "    <tr>\n",
       "      <th>168</th>\n",
       "      <td>85</td>\n",
       "      <td>160</td>\n",
       "      <td>-5.618889</td>\n",
       "    </tr>\n",
       "    <tr>\n",
       "      <th>169</th>\n",
       "      <td>90</td>\n",
       "      <td>160</td>\n",
       "      <td>-5.286667</td>\n",
       "    </tr>\n",
       "  </tbody>\n",
       "</table>\n",
       "<p>170 rows × 3 columns</p>\n",
       "</div>"
      ],
      "text/plain": [
       "      X    Y         Z\n",
       "0    10  115  3.998222\n",
       "1    15  115  3.686222\n",
       "2    20  115  3.374222\n",
       "3    25  115  3.062222\n",
       "4    30  115  2.730000\n",
       "..   ..  ...       ...\n",
       "165  70  160 -6.110000\n",
       "166  75  160 -6.095555\n",
       "167  80  160 -5.936666\n",
       "168  85  160 -5.618889\n",
       "169  90  160 -5.286667\n",
       "\n",
       "[170 rows x 3 columns]"
      ]
     },
     "execution_count": 80,
     "metadata": {},
     "output_type": "execute_result"
    }
   ],
   "source": [
    "dataframe = pd.read_excel('FullRangeData.xlsx', sheet_name='Formated_MannulyFixed')\n",
    "dataframe"
   ]
  },
  {
   "cell_type": "code",
   "execution_count": 82,
   "metadata": {},
   "outputs": [
    {
     "data": {
      "text/plain": [
       "(array([ 3.99822213,  3.68622213,  3.37422214,  3.06222214,  2.72999997,\n",
       "         2.46999984,  2.12333332,  1.80555549,  1.50944439,  1.19888884,\n",
       "         0.88111108,  0.51999998,  0.2311111 , -0.07222222, -0.40588887,\n",
       "        -0.72511108, -1.0443333 ,  4.05586227,  3.77192578,  3.42333317,\n",
       "         3.17777771,  3.01888874,  2.68666659,  2.38333323,  1.97888882,\n",
       "         1.55999994,  1.12666663,  0.75111108,  0.31777777,  0.01444444,\n",
       "        -0.33222221, -0.53444442, -0.86666663, -1.24634916,  4.20539674,\n",
       "         3.78444441,  3.68333321,  3.42333317,  3.22111109,  2.91777762,\n",
       "         2.51333316,  2.15222218,  1.57444439,  1.11222218,  0.63555553,\n",
       "         0.11555555, -0.25999999, -0.66444442, -0.98222219, -1.19888884,\n",
       "        -1.32888884,  4.21777768,  4.11666648,  4.02999976,  3.76999995,\n",
       "         3.55333315,  3.23555552,  2.8166666 ,  2.31111105,  1.52388883,\n",
       "         1.03999996,  0.44777776, -0.15888888, -0.60666664, -1.05444441,\n",
       "        -1.45888884, -1.55999994, -1.80555549,  4.62222205,  4.49222215,\n",
       "         4.40555551,  4.2755555 ,  4.00111095,  3.62555541,  3.13444434,\n",
       "         2.51333321,  1.63222216,  0.9533333 ,  0.21666666, -0.50555554,\n",
       "        -1.15555551, -1.53111105, -1.92111104, -2.06555548, -2.23888887,\n",
       "         4.92555523,  4.92555523,  4.86777751,  4.75222211,  4.46333318,\n",
       "         4.13111093,  3.59666652,  2.87444433,  1.69722217,  0.79444442,\n",
       "        -0.04333333, -0.96777774, -1.64666661, -2.18111114, -2.48444427,\n",
       "        -2.67222219, -2.68666665,  5.34444438,  5.3877777 ,  5.41666667,\n",
       "         5.31555547,  5.17111089,  4.7233332 ,  4.1744443 ,  3.24999995,\n",
       "         1.76222221,  0.67888886, -0.49111109, -1.61777772, -2.38333321,\n",
       "        -2.81666658, -3.16333326, -3.27888881, -3.24999995,  5.69111088,\n",
       "         5.83555539,  5.83555545,  5.92222193,  5.76333316,  5.51777765,\n",
       "         4.91111077,  3.871111  ,  1.89222215,  0.40444443, -1.19888884,\n",
       "        -2.51333316, -3.29333329, -3.78444439, -3.98666644, -3.92888872,\n",
       "        -3.89999986,  5.99444405,  6.25444423,  6.44222217,  6.49999984,\n",
       "         6.48555549,  6.28333314,  5.76333316,  4.76666657,  2.12333322,\n",
       "         0.13      , -2.13777775, -3.63999987, -4.44888888, -4.82444429,\n",
       "        -4.88222196, -4.75222211, -4.6077776 ,  6.39888875,  6.68777747,\n",
       "         6.97666634,  7.10666625,  7.27999973,  7.25111082,  6.91888867,\n",
       "         5.93666638,  2.4699999 , -0.41888887, -3.55333312, -5.31555547,\n",
       "        -6.10999966, -6.0955552 , -5.93666633, -5.6188887 , -5.28666655]),\n",
       " (170,))"
      ]
     },
     "execution_count": 82,
     "metadata": {},
     "output_type": "execute_result"
    }
   ],
   "source": [
    "z = np.array(dataframe)[:, 2]\n",
    "z, z.shape"
   ]
  },
  {
   "cell_type": "code",
   "execution_count": 96,
   "metadata": {},
   "outputs": [
    {
     "data": {
      "text/plain": [
       "(10, 17)"
      ]
     },
     "execution_count": 96,
     "metadata": {},
     "output_type": "execute_result"
    }
   ],
   "source": [
    "x = np.linspace(10, 90, 17)\n",
    "y = np.linspace(115, 160, 10)\n",
    "X, Y = np.meshgrid(x, y)\n",
    "Y.shape"
   ]
  },
  {
   "cell_type": "code",
   "execution_count": 87,
   "metadata": {},
   "outputs": [
    {
     "name": "stdout",
     "output_type": "stream",
     "text": [
      "(170, 16) (170,)\n"
     ]
    }
   ],
   "source": [
    "coeff, r, rank, s = polyfit2d(x, y, z)"
   ]
  },
  {
   "cell_type": "code",
   "execution_count": 98,
   "metadata": {},
   "outputs": [
    {
     "name": "stdout",
     "output_type": "stream",
     "text": [
      "(17, 10)\n"
     ]
    },
    {
     "data": {
      "text/plain": [
       "<matplotlib.image.AxesImage at 0x29c17e68530>"
      ]
     },
     "execution_count": 98,
     "metadata": {},
     "output_type": "execute_result"
    },
    {
     "data": {
      "image/png": "[encoded data removed]",
      "text/plain": [
       "<Figure size 400x680 with 1 Axes>"
      ]
     },
     "metadata": {},
     "output_type": "display_data"
    }
   ],
   "source": [
    "fitted_surf = np.polynomial.polynomial.polygrid2d(x, y, coeff.reshape((4,4)))\n",
    "print(fitted_surf.shape)\n",
    "plt.matshow(fitted_surf)"
   ]
  },
  {
   "cell_type": "markdown",
   "metadata": {},
   "source": [
    "RMSE"
   ]
  },
  {
   "cell_type": "code",
   "execution_count": null,
   "metadata": {},
   "outputs": [],
   "source": [
    "# fit = np.sum(c[:, None, None] * np.array(get_basis(X, Y, max_order))\n",
    "#                 .reshape(len(basis), *X.shape), axis=0)\n",
    "\n",
    "# rms = np.sqrt(np.mean((Z - fit)**2))\n",
    "# print('RMS residual =', rms)"
   ]
  },
  {
   "cell_type": "markdown",
   "metadata": {},
   "source": [
    "3D Plot"
   ]
  },
  {
   "cell_type": "code",
   "execution_count": 101,
   "metadata": {},
   "outputs": [
    {
     "data": {
      "image/png": "[encoded data removed]",
      "text/plain": [
       "<Figure size 640x480 with 1 Axes>"
      ]
     },
     "metadata": {},
     "output_type": "display_data"
    }
   ],
   "source": [
    "fig = plt.figure()\n",
    "ax = fig.add_subplot(projection='3d')\n",
    "ax.plot_surface(X, Y, fitted_surf.T, cmap='viridis')\n",
    "# cset = ax.contourf(X, Y, Z-fitted_surf.T, zdir='z', offset=-4, cmap='viridis')\n",
    "# ax.set_zlim(-4,np.max(fitted_surf))\n",
    "plt.show()"
   ]
  }
 ],
 "metadata": {
  "kernelspec": {
   "display_name": "testpy",
   "language": "python",
   "name": "python3"
  },
  "language_info": {
   "codemirror_mode": {
    "name": "ipython",
    "version": 3
   },
   "file_extension": ".py",
   "mimetype": "text/x-python",
   "name": "python",
   "nbconvert_exporter": "python",
   "pygments_lexer": "ipython3",
   "version": "3.12.0"
  }
 },
 "nbformat": 4,
 "nbformat_minor": 2
}
